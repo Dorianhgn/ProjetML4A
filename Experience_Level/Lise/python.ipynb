{
 "cells": [
  {
   "cell_type": "code",
   "execution_count": 215,
   "id": "bcf039c9",
   "metadata": {},
   "outputs": [],
   "source": [
    "from sklearn.model_selection import cross_validate "
   ]
  },
  {
   "cell_type": "markdown",
   "id": "d5a5509d-b889-4bf3-beaa-95372175aaf3",
   "metadata": {},
   "source": [
    "# Python Experience Level: Logistique Regression, LDA, KNN, SVM"
   ]
  },
  {
   "cell_type": "markdown",
   "id": "79ae167a",
   "metadata": {},
   "source": []
  },
  {
   "cell_type": "code",
   "execution_count": 216,
   "id": "73012a7a-c751-4117-9d59-3b1f8fcf8ccb",
   "metadata": {},
   "outputs": [],
   "source": [
    "import pandas as pd\n",
    "import numpy as np\n",
    "import copy\n",
    "import random\n",
    "import itertools\n",
    "%matplotlib inline\n",
    "import matplotlib.pyplot as plt\n",
    "import time\n",
    "from sklearn.metrics import log_loss"
   ]
  },
  {
   "cell_type": "markdown",
   "id": "9a77702b-da64-4531-9113-409a79d7c910",
   "metadata": {},
   "source": [
    "### Fonction utiles et recuperation des données "
   ]
  },
  {
   "cell_type": "markdown",
   "id": "9c9c6666-1d39-4e05-a7a3-ef1f32dab6c9",
   "metadata": {},
   "source": [
    "Ici changer chemin accès DATADIR_UCI et SIGNALS "
   ]
  },
  {
   "cell_type": "code",
   "execution_count": 217,
   "id": "ed2b2335",
   "metadata": {},
   "outputs": [
    {
     "name": "stdout",
     "output_type": "stream",
     "text": [
      "Data loaded and preprocessed\n"
     ]
    }
   ],
   "source": [
    "## LIBRARIES\n",
    "import seaborn as sns\n",
    "\n",
    "from sklearn.model_selection import train_test_split\n",
    "\n",
    "\n",
    "randomseed = 1234\n",
    "\n",
    "## DATA LOADING AND PREPROCESSING\n",
    "# Load the data\n",
    "gym = pd.read_csv('../../gym_members_exercise_tracking.csv')\n",
    "\n",
    "# set 'Gender', 'Workout_Type', 'Workout_Frequency (days/week)' and 'Experience_Level' as categorical\n",
    "for col in ['Gender', 'Workout_Type', 'Workout_Frequency (days/week)', 'Experience_Level']:\n",
    "    gym[col] = gym[col].astype('category')\n",
    "\n",
    "# log transform Weight and BMI\n",
    "gym['Weight (kg)'] = np.log1p(gym['Weight (kg)'])\n",
    "\n",
    "# transform 'Fat_Percentage'\n",
    "max_fat = gym['Fat_Percentage'].max()\n",
    "gym['Fat_Percentage'] = gym['Fat_Percentage'].apply(lambda x: np.sqrt(max_fat+1)-x)\n",
    "\n",
    "# rename transformed columns\n",
    "gym.rename(columns={'Weight (kg)': 'LWeight', 'Fat_Percentage': 'SFat_Percentage'}, inplace=True)\n",
    "\n",
    "gym.drop(columns=['BMI'], inplace=True)\n",
    "\n",
    "# divide into train and test set\n",
    "gym_train, gym_test = train_test_split(gym, test_size=0.2, random_state=randomseed)\n",
    "\n",
    "# Create gym_train_scale, gym_test_scale\n",
    "gym_train_scale = gym_train.copy()\n",
    "gym_test_scale = gym_test.copy()\n",
    "\n",
    "# Scale the data\n",
    "from sklearn.preprocessing import StandardScaler\n",
    "scaler = StandardScaler()\n",
    "gym_train_scale[['LWeight', 'Height (m)', 'Max_BPM', 'Avg_BPM', 'Resting_BPM', 'Session_Duration (hours)',\n",
    "                             'Water_Intake (liters)', 'SFat_Percentage', 'Workout_Frequency (days/week)', 'Calories_Burned']] = scaler.fit_transform(gym_train_scale[['LWeight', 'Height (m)', 'Max_BPM', 'Avg_BPM', 'Resting_BPM', 'Session_Duration (hours)',\n",
    "                             'Water_Intake (liters)', 'SFat_Percentage', 'Workout_Frequency (days/week)', 'Calories_Burned']])\n",
    "\n",
    "gym_test_scale[['LWeight', 'Height (m)', 'Max_BPM', 'Avg_BPM', 'Resting_BPM', 'Session_Duration (hours)',\n",
    "                             'Water_Intake (liters)', 'SFat_Percentage', 'Workout_Frequency (days/week)', 'Calories_Burned']] = scaler.transform(gym_test_scale[['LWeight', 'Height (m)', 'Max_BPM', 'Avg_BPM', 'Resting_BPM', 'Session_Duration (hours)',\n",
    "                             'Water_Intake (liters)', 'SFat_Percentage', 'Workout_Frequency (days/week)', 'Calories_Burned']])\n",
    "\n",
    "\n",
    "# Create X_train_exp_level, X_test_exp_level, y_train_exp_level, y_test_exp_level\n",
    "X_train_exp_level = gym_train.drop(columns=['Experience_Level'])\n",
    "X_train_exp_level_scale = gym_train_scale.drop(columns=['Experience_Level'])\n",
    "y_train_exp_level = gym_train['Experience_Level']\n",
    "X_test_exp_level = gym_test.drop(columns=['Experience_Level'])\n",
    "X_test_exp_level_scale = gym_test_scale.drop(columns=['Experience_Level'])\n",
    "y_test_exp_level = gym_test['Experience_Level']\n",
    "\n",
    "# Create X_train_calories, X_test_calories, y_train_calories, y_test_calories\n",
    "X_train_calories = gym_train.drop(columns=['Calories_Burned'])\n",
    "X_train_calories_scale = gym_train_scale.drop(columns=['Calories_Burned'])\n",
    "y_train_calories = gym_train['Calories_Burned']\n",
    "X_test_calories = gym_test.drop(columns=['Calories_Burned'])\n",
    "X_test_calories_scale = gym_test_scale.drop(columns=['Calories_Burned'])\n",
    "y_test_calories = gym_test['Calories_Burned']\n",
    "\n",
    "print(\"Data loaded and preprocessed\")"
   ]
  },
  {
   "cell_type": "code",
   "execution_count": 218,
   "id": "e81f8395",
   "metadata": {},
   "outputs": [
    {
     "name": "stdout",
     "output_type": "stream",
     "text": [
      "     Age  Gender   LWeight  Height (m)   Max_BPM   Avg_BPM  Resting_BPM  \\\n",
      "40    31  Female -1.367641   -1.679753  1.327567 -0.916129    -0.283251   \n",
      "394   40    Male  0.977844    1.568419  0.716570  0.881297    -0.283251   \n",
      "219   36    Male  1.568830    0.331020  0.978426  0.812165     1.649810   \n",
      "677   40  Female -1.098841   -0.519692  1.589423 -1.676579     1.235583   \n",
      "883   29  Female -1.352989   -1.215728 -1.029136 -0.846998    -1.249781   \n",
      "..   ...     ...       ...         ...       ...       ...          ...   \n",
      "61    51  Female -1.673714   -0.751704  1.589423 -0.501339     0.959431   \n",
      "782   39  Female -0.874024   -0.983716  0.367428  0.466506     0.959431   \n",
      "706   34    Male  1.640443    0.949719 -1.552848 -0.708734     0.545204   \n",
      "857   53  Female -0.371507   -1.370403  1.240281 -0.363075    -0.007099   \n",
      "512   30  Female -0.674360   -0.751704 -0.505425 -0.224812     1.649810   \n",
      "\n",
      "     Session_Duration (hours)  Calories_Burned Workout_Type  SFat_Percentage  \\\n",
      "40                   0.650332         0.206219       Cardio        -0.534067   \n",
      "394                  0.352920         1.031597       Cardio         0.443930   \n",
      "219                 -0.212165         0.398683         HIIT        -0.261511   \n",
      "677                  0.025766        -0.559940     Strength        -1.287606   \n",
      "883                  0.204213        -0.130595         Yoga        -0.261511   \n",
      "..                        ...              ...          ...              ...   \n",
      "61                  -0.539319        -0.915260         Yoga        -1.431901   \n",
      "782                 -1.104403        -0.893052         Yoga        -1.239508   \n",
      "706                 -0.241906        -0.160205         HIIT         0.235504   \n",
      "857                  1.512829         0.716991         HIIT         0.828715   \n",
      "512                  1.750759         1.446137     Strength         1.133337   \n",
      "\n",
      "     Water_Intake (liters)  Workout_Frequency (days/week)  \n",
      "40               -1.060853                      -1.466421  \n",
      "394              -1.060853                      -0.366252  \n",
      "219               1.272039                      -1.466421  \n",
      "677              -1.560759                      -0.366252  \n",
      "883              -0.061042                      -0.366252  \n",
      "..                     ...                            ...  \n",
      "61               -0.894218                       0.733917  \n",
      "782              -1.060853                      -1.466421  \n",
      "706               1.605309                       0.733917  \n",
      "857               0.105593                       0.733917  \n",
      "512               0.105593                       0.733917  \n",
      "\n",
      "[195 rows x 13 columns]\n"
     ]
    }
   ],
   "source": [
    "print(X_test_exp_level_scale)"
   ]
  },
  {
   "cell_type": "markdown",
   "id": "b8a3165a-df68-45c0-8535-ffd4702dbe37",
   "metadata": {},
   "source": [
    "changer dictionnaire activités et signals"
   ]
  },
  {
   "cell_type": "code",
   "execution_count": 219,
   "id": "05a0104f-0de0-41bd-8e28-8683b14a95ec",
   "metadata": {},
   "outputs": [],
   "source": [
    "# Liste des couleurs\n",
    "CMAP = plt.get_cmap(\"Accent\")\n",
    "# Liste des types de signaux\n",
    "SIGNALS = [\"LWeight\", \"Height (m)\", \"Max_BPM\", \"Avg_BPM\", \"Resting_BPM\", \"Session_Duration (hours)\",\n",
    "                             \"Water_Intake (liters)\", \"SFat_Percentage\", \"Workout_Frequency (days/week)\", \"Calories_Burned\"]\n",
    " \n",
    "# tableau des niveaux d'expérience (contexte supervisé)\n",
    "EXP_LEVEL_TAB = [1, 2, 3] #[1, 2, 3]\n",
    "labels=[\"niveau 1\",\"niveau 2\",\"niveau 3\"] #labels = ACTIVITY_DIC.values()\n",
    "\n",
    "# Fonction pour le tracé d'un signal\n",
    "# def plot_one_axe(X, fig, ax, sample_to_plot, cmap):\n",
    "#     for act,Xgb in X.groupby(\"Activity\"):\n",
    "#         Xgb_first_values = Xgb.values[:sample_to_plot,:-1]\n",
    "#         x = Xgb_first_values[0]\n",
    "#         ax.plot(x, linewidth=1, color=cmap(act-1), label = label_dic[act])\n",
    "#         for x in Xgb_first_values[1:]:\n",
    "#             ax.plot(x, linewidth=1, color=cmap(act-1))\n",
    "\n",
    "# Fonction pour le tracé d'un signal en fonction du niveau d'expérience\n",
    "def plot_one_axe(X, fig, ax, sample_to_plot, cmap):\n",
    "    for exp_level, Xgb in X.groupby(\"Experience_Level\"):\n",
    "        Xgb_first_values = Xgb.values[:sample_to_plot, :-1]\n",
    "        x = Xgb_first_values[0]\n",
    "        ax.plot(x, linewidth=1, color=cmap(exp_level-1), label=f\"Experience Level {exp_level}\")\n",
    "        for x in Xgb_first_values[1:]:\n",
    "            ax.plot(x, linewidth=1, color=cmap(exp_level-1))\n",
    "\n",
    "# def plot_one_axe_shuffle(X, fig, ax, sample_to_plot, cmap):\n",
    "#     plot_data = []\n",
    "#     for act,Xgb in X.groupby(\"Activity\"):\n",
    "#         Xgb_first_values = Xgb.values[:sample_to_plot,:-1]\n",
    "#         x = Xgb_first_values[0]\n",
    "#         ax.plot(x, linewidth=1, color=cmap(act-1), label = label_dic[act])\n",
    "#         for x in Xgb_first_values[1:]:\n",
    "#             plot_data.append([x,cmap(act-1)])\n",
    "#     random.shuffle(plot_data)\n",
    "#     for x,color in plot_data:\n",
    "#         ax.plot(x, linewidth=1, color=color)\n",
    "\n",
    "def plot_one_axe_shuffle(X, fig, ax, sample_to_plot, cmap):\n",
    "    plot_data = []\n",
    "    for exp_level,Xgb in X.groupby(\"Experience_Level\"):\n",
    "        Xgb_first_values = Xgb.values[:sample_to_plot,:-1]\n",
    "        x = Xgb_first_values[0]\n",
    "        ax.plot(x, linewidth=1, color=cmap(exp_level-1), label = f\"Experience Level {exp_level}\")\n",
    "        for x in Xgb_first_values[1:]:\n",
    "            plot_data.append([x,cmap(exp_level-1)])\n",
    "    random.shuffle(plot_data)\n",
    "    for x,color in plot_data:\n",
    "        ax.plot(x, linewidth=1, color=color)"
   ]
  },
  {
   "cell_type": "markdown",
   "id": "93deb520-89ce-4bdd-a8ed-e01b8013561d",
   "metadata": {},
   "source": [
    "### Création des différents formats de données "
   ]
  },
  {
   "cell_type": "code",
   "execution_count": 220,
   "id": "4de50f22-060f-43b6-80fd-df42578396a9",
   "metadata": {},
   "outputs": [],
   "source": [
    "\n",
    "N_train = X_train_exp_level.shape[0]\n",
    "N_test = X_test_exp_level.shape[0]"
   ]
  },
  {
   "cell_type": "code",
   "execution_count": 221,
   "id": "0dac5998-bec6-456a-a22e-30f375635cd7",
   "metadata": {},
   "outputs": [
    {
     "name": "stdout",
     "output_type": "stream",
     "text": [
      "Dimension\n",
      "Données unidimensionelles, : (778, 13)\n",
      "Données Normalisées, : (778, 13)\n",
      "Vecteur réponse (scikit-learn) : (778,)\n"
     ]
    }
   ],
   "source": [
    "print(\"Dimension\")\n",
    "print(\"Données unidimensionelles, : \" + str(X_train_exp_level.shape))\n",
    "print(\"Données Normalisées, : \" + str(X_train_exp_level_scale.shape))\n",
    "print(\"Vecteur réponse (scikit-learn) : \" + str(y_train_exp_level.shape))\n",
    "#print(\"Matrice réponse(Keras) : \" + str(y_train_exp_level.shape))"
   ]
  },
  {
   "cell_type": "markdown",
   "id": "f0bc3920",
   "metadata": {},
   "source": [
    "Création d'un tableau des résultats:"
   ]
  },
  {
   "cell_type": "code",
   "execution_count": 222,
   "id": "478b4bde",
   "metadata": {},
   "outputs": [],
   "source": [
    "results = []\n",
    "\n",
    "def add_model_result(name, y_true, y_pred, runtime): # err_gene_vc\n",
    "    acc = accuracy_score(y_true, y_pred)\n",
    "    results.append({\n",
    "        'Modèle': name,\n",
    "        'Score de généralisation': round(acc, 3),\n",
    "        #'+ par validation croisée': round(err_gene_vc,3),\n",
    "        'Durée (s)': round(runtime, 2)\n",
    "    })"
   ]
  },
  {
   "cell_type": "markdown",
   "id": "1e1ebe66",
   "metadata": {},
   "source": [
    "## Regression logistique "
   ]
  },
  {
   "cell_type": "markdown",
   "id": "ce3206d2",
   "metadata": {},
   "source": [
    "####  Principe\n",
    "Une méthode statistique ancienne mais finalement efficace sur ces données. La régression logistique est adaptée à la prévision d'une variable binaire. Dans le cas multiclasse, la fonction logistique de la librairie `Scikit-learn` estime *par défaut* **un modèle par classe**: une classe contre les autres. \n",
    "\n",
    "La probabilité d'appartenance d'un individu à une classe est modélisée à l'aide d'une combinaison linéaire des variables explicatives. Pour transformer une combinaison linéaire à valeur dans $R$ en une probabilité à valeurs dans l'intervalle $[0, 1]$, une fonction de forme sigmoïdale est appliquée.  Ceci donne: $$P(y_i=1)=\\frac{e^{Xb}}{1+e^{Xb}}$$ ou, c'est équivalent, une décomposition linéaire du *logit* ou *log odd ratio* de  $P(y_i=1)$:  $$\\log\\frac{P(y_i=1)}{1-P(y_i=1)}=Xb.$$"
   ]
  },
  {
   "cell_type": "markdown",
   "id": "22997a71",
   "metadata": {},
   "source": [
    "### Estimation sans optimisation / sans régularisation"
   ]
  },
  {
   "cell_type": "code",
   "execution_count": 223,
   "id": "b566a934",
   "metadata": {},
   "outputs": [
    {
     "name": "stdout",
     "output_type": "stream",
     "text": [
      "     Age   LWeight  Height (m)  Max_BPM  Avg_BPM  Resting_BPM  \\\n",
      "718   51  4.756173        1.67      189      139           55   \n",
      "811   27  4.503137        1.87      169      153           62   \n",
      "366   42  4.348987        1.97      165      157           65   \n",
      "737   34  4.756173        1.81      181      167           67   \n",
      "813   34  4.094345        1.62      178      150           56   \n",
      "..   ...       ...         ...      ...      ...          ...   \n",
      "204   23  4.440296        1.99      179      130           71   \n",
      "53    21  4.581902        1.72      161      151           62   \n",
      "294   44  4.503137        1.99      192      135           58   \n",
      "723   51  3.918005        1.61      191      129           55   \n",
      "815   39  4.855929        1.82      180      161           70   \n",
      "\n",
      "     Session_Duration (hours)  Calories_Burned  SFat_Percentage  \\\n",
      "718                      1.38            950.0            -18.4   \n",
      "811                      1.62           1363.0             -6.7   \n",
      "366                      1.14            886.0            -16.9   \n",
      "737                      1.36           1249.0            -18.5   \n",
      "813                      1.13            847.0            -24.9   \n",
      "..                        ...              ...              ...   \n",
      "204                      1.79           1280.0             -5.0   \n",
      "53                       1.26           1046.0            -19.0   \n",
      "294                      1.40            936.0            -20.3   \n",
      "723                      1.36            868.0            -22.3   \n",
      "815                      1.26           1116.0            -23.8   \n",
      "\n",
      "     Water_Intake (liters)  Gender_Male  Workout_Type_HIIT  \\\n",
      "718                    2.5         True              False   \n",
      "811                    3.5         True              False   \n",
      "366                    2.6         True               True   \n",
      "737                    2.2         True              False   \n",
      "813                    2.4        False              False   \n",
      "..                     ...          ...                ...   \n",
      "204                    3.5         True              False   \n",
      "53                     2.8         True              False   \n",
      "294                    2.0         True               True   \n",
      "723                    2.9         True              False   \n",
      "815                    3.0         True              False   \n",
      "\n",
      "     Workout_Type_Strength  Workout_Type_Yoga  \\\n",
      "718                  False               True   \n",
      "811                   True              False   \n",
      "366                  False              False   \n",
      "737                  False               True   \n",
      "813                  False              False   \n",
      "..                     ...                ...   \n",
      "204                  False              False   \n",
      "53                    True              False   \n",
      "294                  False              False   \n",
      "723                  False              False   \n",
      "815                   True              False   \n",
      "\n",
      "     Workout_Frequency (days/week)_3  Workout_Frequency (days/week)_4  \\\n",
      "718                             True                            False   \n",
      "811                            False                            False   \n",
      "366                             True                            False   \n",
      "737                            False                            False   \n",
      "813                            False                             True   \n",
      "..                               ...                              ...   \n",
      "204                            False                             True   \n",
      "53                              True                            False   \n",
      "294                            False                             True   \n",
      "723                            False                            False   \n",
      "815                             True                            False   \n",
      "\n",
      "     Workout_Frequency (days/week)_5  \n",
      "718                            False  \n",
      "811                             True  \n",
      "366                            False  \n",
      "737                            False  \n",
      "813                            False  \n",
      "..                               ...  \n",
      "204                            False  \n",
      "53                             False  \n",
      "294                            False  \n",
      "723                            False  \n",
      "815                            False  \n",
      "\n",
      "[778 rows x 17 columns]\n",
      "(778, 17)\n",
      "(778, 13)\n"
     ]
    }
   ],
   "source": [
    "X_train_exp_level_dummies = pd.get_dummies(X_train_exp_level, drop_first=True)\n",
    "X_test_exp_level_dummies = pd.get_dummies(X_test_exp_level, drop_first=True)\n",
    "\n",
    "print(X_train_exp_level_dummies)\n",
    "print(X_train_exp_level_dummies.shape)\n",
    "print(X_train_exp_level.shape)"
   ]
  },
  {
   "cell_type": "code",
   "execution_count": 224,
   "id": "0bc069b9",
   "metadata": {},
   "outputs": [
    {
     "name": "stdout",
     "output_type": "stream",
     "text": [
      "Score : 0.902564, time running : 0 secondes\n",
      "Score : 0.789744, time running : 0 secondes\n",
      "Score : 0.728205, time running : 0 secondes\n",
      "Score : 0.748718, time running : 0 secondes\n"
     ]
    },
    {
     "name": "stderr",
     "output_type": "stream",
     "text": [
      "c:\\Users\\LiLi\\anaconda3\\Lib\\site-packages\\sklearn\\linear_model\\_logistic.py:460: ConvergenceWarning: lbfgs failed to converge (status=1):\n",
      "STOP: TOTAL NO. of ITERATIONS REACHED LIMIT.\n",
      "\n",
      "Increase the number of iterations (max_iter) or scale the data as shown in:\n",
      "    https://scikit-learn.org/stable/modules/preprocessing.html\n",
      "Please also refer to the documentation for alternative solver options:\n",
      "    https://scikit-learn.org/stable/modules/linear_model.html#logistic-regression\n",
      "  n_iter_i = _check_optimize_result(\n",
      "c:\\Users\\LiLi\\anaconda3\\Lib\\site-packages\\sklearn\\linear_model\\_sag.py:350: ConvergenceWarning: The max_iter was reached which means the coef_ did not converge\n",
      "  warnings.warn(\n",
      "c:\\Users\\LiLi\\anaconda3\\Lib\\site-packages\\sklearn\\linear_model\\_sag.py:350: ConvergenceWarning: The max_iter was reached which means the coef_ did not converge\n",
      "  warnings.warn(\n"
     ]
    },
    {
     "name": "stdout",
     "output_type": "stream",
     "text": [
      "Score : 0.897436, time running : 0 secondes\n"
     ]
    },
    {
     "name": "stderr",
     "output_type": "stream",
     "text": [
      "c:\\Users\\LiLi\\anaconda3\\Lib\\site-packages\\sklearn\\utils\\optimize.py:211: ConvergenceWarning: newton-cg failed to converge. Increase the number of iterations.\n",
      "  warnings.warn(\n"
     ]
    }
   ],
   "source": [
    "from sklearn.linear_model import LogisticRegression\n",
    "ts = time.time()\n",
    "for solver in ['liblinear','lbfgs', 'saga', 'sag', 'newton-cg']:\n",
    "    method = LogisticRegression(solver=solver ,multi_class='auto')  #lbfgs, saga, sag, newton-cg\n",
    "    method.fit(X_train_exp_level_dummies,y_train_exp_level)\n",
    "    score = method.score(X_test_exp_level_dummies, y_test_exp_level)\n",
    "    ypred = method.predict(X_test_exp_level_dummies)\n",
    "    te = time.time()\n",
    "\n",
    "    from sklearn.metrics import confusion_matrix, accuracy_score\n",
    "    print(\"Score : %f, time running : %d secondes\" %(score, te-ts))\n",
    "    pd.DataFrame(confusion_matrix(y_test_exp_level, ypred), index = labels, columns=labels)"
   ]
  },
  {
   "cell_type": "code",
   "execution_count": 225,
   "id": "2971779f",
   "metadata": {},
   "outputs": [],
   "source": [
    "from sklearn.linear_model import LogisticRegression\n",
    "ts = time.time()\n",
    "method = LogisticRegression(solver='liblinear' , penalty='l1', multi_class='auto')  #lbfgs, saga, sag, newton-cg\n",
    "method.fit(X_train_exp_level_dummies,y_train_exp_level)\n",
    "score = method.score(X_test_exp_level_dummies, y_test_exp_level)\n",
    "ypred = method.predict(X_test_exp_level_dummies)\n",
    "te = time.time()\n"
   ]
  },
  {
   "cell_type": "code",
   "execution_count": 226,
   "id": "f24c2ce3",
   "metadata": {},
   "outputs": [
    {
     "name": "stdout",
     "output_type": "stream",
     "text": [
      "Score : 0.902564, time running : 0 secondes\n",
      "Multiclass Log Loss: 0.2527865738021673\n"
     ]
    },
    {
     "data": {
      "text/html": [
       "<div>\n",
       "<style scoped>\n",
       "    .dataframe tbody tr th:only-of-type {\n",
       "        vertical-align: middle;\n",
       "    }\n",
       "\n",
       "    .dataframe tbody tr th {\n",
       "        vertical-align: top;\n",
       "    }\n",
       "\n",
       "    .dataframe thead th {\n",
       "        text-align: right;\n",
       "    }\n",
       "</style>\n",
       "<table border=\"1\" class=\"dataframe\">\n",
       "  <thead>\n",
       "    <tr style=\"text-align: right;\">\n",
       "      <th></th>\n",
       "      <th>niveau 1</th>\n",
       "      <th>niveau 2</th>\n",
       "      <th>niveau 3</th>\n",
       "    </tr>\n",
       "  </thead>\n",
       "  <tbody>\n",
       "    <tr>\n",
       "      <th>niveau 1</th>\n",
       "      <td>70</td>\n",
       "      <td>8</td>\n",
       "      <td>0</td>\n",
       "    </tr>\n",
       "    <tr>\n",
       "      <th>niveau 2</th>\n",
       "      <td>11</td>\n",
       "      <td>68</td>\n",
       "      <td>0</td>\n",
       "    </tr>\n",
       "    <tr>\n",
       "      <th>niveau 3</th>\n",
       "      <td>0</td>\n",
       "      <td>0</td>\n",
       "      <td>38</td>\n",
       "    </tr>\n",
       "  </tbody>\n",
       "</table>\n",
       "</div>"
      ],
      "text/plain": [
       "          niveau 1  niveau 2  niveau 3\n",
       "niveau 1        70         8         0\n",
       "niveau 2        11        68         0\n",
       "niveau 3         0         0        38"
      ]
     },
     "execution_count": 226,
     "metadata": {},
     "output_type": "execute_result"
    }
   ],
   "source": [
    "from sklearn.metrics import confusion_matrix, accuracy_score\n",
    "print(\"Score : %f, time running : %d secondes\" %(score, te-ts))\n",
    "expected_loss = log_loss(y_test_exp_level, method.predict_proba(X_test_exp_level_dummies))# Calcul de l'expected loss (log loss)\n",
    "print(f\"Multiclass Log Loss: {expected_loss}\")\n",
    "pd.DataFrame(confusion_matrix(y_test_exp_level, ypred), index = labels, columns=labels)"
   ]
  },
  {
   "cell_type": "markdown",
   "id": "7b07cac2",
   "metadata": {},
   "source": [
    "Les classes \"niveau 1\" et \"niveau 2\", qui correspondent au niveaux d'experiences faibles et moyens sont mals différenciés par ce modèle. Le niveau 3 est lui très bien appris par le modèle: aucune erreure de classement sur l'echantillon test. Les resultats sont cohérent avec l'approche exploratoire: les niveau d'expérience 1 et 2 sont \"proches\", difficiles à discriminer. \n",
    "\n",
    "L'erreur de prévision est de 10,9% et le temps d'execution très faible (0s). "
   ]
  },
  {
   "cell_type": "markdown",
   "id": "2b5aee3f",
   "metadata": {},
   "source": [
    "Les autres options de solver (lbfgs, saga, sag, newton-cg) ne convergent pas.  "
   ]
  },
  {
   "cell_type": "code",
   "execution_count": 227,
   "id": "edfaa308",
   "metadata": {},
   "outputs": [],
   "source": [
    "add_model_result(\"Logistic Regression\", y_test_exp_level, ypred, te-ts)"
   ]
  },
  {
   "cell_type": "markdown",
   "id": "f45f3c1d",
   "metadata": {},
   "source": [
    "### Optimisation du modèle par pénalisation Lasso"
   ]
  },
  {
   "cell_type": "code",
   "execution_count": 228,
   "id": "3adc754d",
   "metadata": {},
   "outputs": [
    {
     "name": "stdout",
     "output_type": "stream",
     "text": [
      "Temps : 2 secondes\n"
     ]
    }
   ],
   "source": [
    "# Optimisation du paramètre de pénalisation\n",
    "# grille de valeurs\n",
    "from sklearn.model_selection import GridSearchCV\n",
    "ts = time.time()\n",
    "param=[{\"C\":[0.94,0.95,0.96,0.99,1]}]   #[0.5,1,5,10,12,15,30] [0.1, 0.5, 1, 2, 5, 10, 20] [ 0.5, 1, 5, 10, 30, 100, 200]\n",
    "logit = GridSearchCV(LogisticRegression(penalty=\"l1\",solver='liblinear', \n",
    "                                        multi_class='auto'), param,cv=10,n_jobs=-1)\n",
    "logitOpt=logit.fit(X_train_exp_level_dummies, y_train_exp_level)  \n",
    "# paramètre optimal\n",
    "logitOpt.best_params_[\"C\"]\n",
    "te = time.time()\n",
    "print(\"Temps : %d secondes\" %(te-ts))"
   ]
  },
  {
   "cell_type": "code",
   "execution_count": 229,
   "id": "b4a78894",
   "metadata": {},
   "outputs": [
    {
     "name": "stdout",
     "output_type": "stream",
     "text": [
      "Meilleur score par validation croisée = 0.855977, Meilleur paramètre = {'C': 0.95}\n"
     ]
    }
   ],
   "source": [
    "print(\"Meilleur score par validation croisée = %f, Meilleur paramètre = %s\" % (logitOpt.best_score_,logitOpt.best_params_)) #score apprentisage "
   ]
  },
  {
   "cell_type": "markdown",
   "id": "b7177d0d",
   "metadata": {},
   "source": [
    "les meilleur pararmètre est C=0.95 ce qui est très proche de la valeure C=1. on retrouve donc les memes résultats: la matrice de confusion et l'erreure de prévision sont les mêmes que pour la regression logistique non optimisée.  "
   ]
  },
  {
   "cell_type": "code",
   "execution_count": 230,
   "id": "9504a43c",
   "metadata": {},
   "outputs": [
    {
     "name": "stdout",
     "output_type": "stream",
     "text": [
      "Score : 0.902564, time running : 2 secondes\n",
      "Multiclass Log Loss: 0.2527865738021673\n"
     ]
    },
    {
     "data": {
      "text/html": [
       "<div>\n",
       "<style scoped>\n",
       "    .dataframe tbody tr th:only-of-type {\n",
       "        vertical-align: middle;\n",
       "    }\n",
       "\n",
       "    .dataframe tbody tr th {\n",
       "        vertical-align: top;\n",
       "    }\n",
       "\n",
       "    .dataframe thead th {\n",
       "        text-align: right;\n",
       "    }\n",
       "</style>\n",
       "<table border=\"1\" class=\"dataframe\">\n",
       "  <thead>\n",
       "    <tr style=\"text-align: right;\">\n",
       "      <th></th>\n",
       "      <th>niveau 1</th>\n",
       "      <th>niveau 2</th>\n",
       "      <th>niveau 3</th>\n",
       "    </tr>\n",
       "  </thead>\n",
       "  <tbody>\n",
       "    <tr>\n",
       "      <th>niveau 1</th>\n",
       "      <td>70</td>\n",
       "      <td>8</td>\n",
       "      <td>0</td>\n",
       "    </tr>\n",
       "    <tr>\n",
       "      <th>niveau 2</th>\n",
       "      <td>11</td>\n",
       "      <td>68</td>\n",
       "      <td>0</td>\n",
       "    </tr>\n",
       "    <tr>\n",
       "      <th>niveau 3</th>\n",
       "      <td>0</td>\n",
       "      <td>0</td>\n",
       "      <td>38</td>\n",
       "    </tr>\n",
       "  </tbody>\n",
       "</table>\n",
       "</div>"
      ],
      "text/plain": [
       "          niveau 1  niveau 2  niveau 3\n",
       "niveau 1        70         8         0\n",
       "niveau 2        11        68         0\n",
       "niveau 3         0         0        38"
      ]
     },
     "execution_count": 230,
     "metadata": {},
     "output_type": "execute_result"
    }
   ],
   "source": [
    "yChap = logitOpt.predict(X_test_exp_level_dummies)\n",
    "# matrice de confusion\n",
    "score=logitOpt.score(X_test_exp_level_dummies, y_test_exp_level)  #score généralisation= prédiction \n",
    "print(\"Score : %f, time running : %d secondes\" %(score, te-ts))\n",
    "expected_loss = log_loss(y_test_exp_level, method.predict_proba(X_test_exp_level_dummies))# Calcul de l'expected loss (log loss)\n",
    "print(f\"Multiclass Log Loss: {expected_loss}\")\n",
    "pd.DataFrame(confusion_matrix(y_test_exp_level, yChap), index = labels, columns=labels)"
   ]
  },
  {
   "cell_type": "markdown",
   "id": "3ce1199a",
   "metadata": {},
   "source": [
    "On retrouve les mêmes résultats: la matrice de confusion et l'erreure de prévision sont les mêmes que pour la regression logistique non optimisée.  "
   ]
  },
  {
   "cell_type": "markdown",
   "id": "fe60f1a0",
   "metadata": {},
   "source": [
    "L'objet regLassOpt issu de GridSearchCV ne conserve pas directement les coefficients du modèle final.Pour obtenir et interpréter les coefficients, il est nécessaire de réentraîner un modèle LogisticRegression avec la valeur optimale de C sur l’ensemble des données d’apprentissage.\n",
    "\n"
   ]
  },
  {
   "cell_type": "code",
   "execution_count": 231,
   "id": "77af171d",
   "metadata": {},
   "outputs": [
    {
     "data": {
      "text/plain": [
       "array([[-4.54384710e-03,  3.28697445e-01,  1.42023916e-01,\n",
       "         3.48763471e-03,  3.40637057e-02, -5.96319864e-03,\n",
       "         0.00000000e+00, -5.78632425e-03, -5.94260343e-02,\n",
       "         2.81062588e-01,  0.00000000e+00,  1.12381811e-03,\n",
       "         0.00000000e+00, -1.16955267e-01, -3.77024742e+00,\n",
       "        -8.77296090e+00, -5.23766718e+00],\n",
       "       [ 2.90483252e-03, -5.34544501e-01, -1.15509058e+00,\n",
       "        -9.98345590e-03, -1.43098157e-02, -1.47041240e-02,\n",
       "         0.00000000e+00,  2.11274234e-03, -2.80658812e-01,\n",
       "        -1.36931748e+00,  2.92816103e+00,  0.00000000e+00,\n",
       "        -1.65056253e-01,  4.52842913e-02,  4.23868200e+00,\n",
       "         6.69003554e+00,  0.00000000e+00],\n",
       "       [ 2.20122344e-02,  0.00000000e+00,  0.00000000e+00,\n",
       "         1.09576257e-01, -1.51471203e-01,  5.59089860e-02,\n",
       "         0.00000000e+00,  2.34441656e-02,  1.98925370e+00,\n",
       "         0.00000000e+00, -1.31180905e+00,  0.00000000e+00,\n",
       "         0.00000000e+00,  0.00000000e+00,  0.00000000e+00,\n",
       "         0.00000000e+00,  0.00000000e+00]])"
      ]
     },
     "execution_count": 231,
     "metadata": {},
     "output_type": "execute_result"
    }
   ],
   "source": [
    "\n",
    "logit=LogisticRegression(penalty=\"l1\",solver='liblinear', \n",
    "                                        multi_class='auto', C=logitOpt.best_params_['C'])\n",
    "model_lasso=logit.fit(X_train_exp_level_dummies, y_train_exp_level)\n",
    "model_lasso.coef_\n"
   ]
  },
  {
   "cell_type": "code",
   "execution_count": 232,
   "id": "2cfbae30",
   "metadata": {},
   "outputs": [
    {
     "name": "stdout",
     "output_type": "stream",
     "text": [
      "Classe 1 : 14 coefficients non nuls\n",
      "Classe 2 : 14 coefficients non nuls\n",
      "Classe 3 : 7 coefficients non nuls\n"
     ]
    }
   ],
   "source": [
    "# Coefficients du modèle Lasso\n",
    "coefs = model_lasso.coef_\n",
    "\n",
    "# Compter le nombre de coefficients non nuls pour chaque classe\n",
    "non_zero_coefs_per_class = np.sum(coefs != 0, axis=1)\n",
    "\n",
    "# Afficher le nombre de coefficients non nuls par classe\n",
    "for i, count in enumerate(non_zero_coefs_per_class):\n",
    "    print(f\"Classe {i+1} : {count} coefficients non nuls\")"
   ]
  },
  {
   "cell_type": "markdown",
   "id": "b04aaf61",
   "metadata": {},
   "source": [
    "Dans les classes 1 et 2, deux coefficients sont enlevés et dans la classe 3, 10. "
   ]
  },
  {
   "cell_type": "code",
   "execution_count": 233,
   "id": "a80e76ed",
   "metadata": {},
   "outputs": [
    {
     "data": {
      "image/png": "[encoded data removed]",
      "text/plain": [
       "<Figure size 600x400 with 1 Axes>"
      ]
     },
     "metadata": {},
     "output_type": "display_data"
    },
    {
     "data": {
      "image/png": "[encoded data removed]",
      "text/plain": [
       "<Figure size 600x400 with 1 Axes>"
      ]
     },
     "metadata": {},
     "output_type": "display_data"
    },
    {
     "data": {
      "image/png": "[encoded data removed]",
      "text/plain": [
       "<Figure size 600x400 with 1 Axes>"
      ]
     },
     "metadata": {},
     "output_type": "display_data"
    }
   ],
   "source": [
    "for i in range(3):\n",
    "    # Créer une série pandas avec les noms de variables\n",
    "    coefs = pd.Series(model_lasso.coef_[i], index=X_train_exp_level_dummies.columns)\n",
    "    \n",
    "    # Filtrer les coefficients non nuls\n",
    "    coefs = coefs[coefs != 0].sort_values()\n",
    "    \n",
    "    # Affichage\n",
    "    coefs.plot(kind='barh', figsize=(6, 4))\n",
    "    plt.title(f\"Variables sélectionnées par Lasso - Classe {i+1}\")\n",
    "    plt.xlabel(\"Coefficient\")\n",
    "    plt.tight_layout()\n",
    "    plt.show()"
   ]
  },
  {
   "cell_type": "markdown",
   "id": "52e28852",
   "metadata": {},
   "source": []
  },
  {
   "cell_type": "markdown",
   "id": "e9b3577b",
   "metadata": {},
   "source": [
    "Ces coefficients permettent d’interpréter l’influence des variables explicatives sur la probabilité d’appartenance à chaque niveau.\n",
    "\n",
    "Niveau d’expérience 1 :\n",
    "Plusieurs coefficients sont très proches de zéro ou nuls, les variables assocées ont peu de poids explicatif.\n",
    "Les coefficients associés aux variables \"entraînement 3, 4 ou 5 fois/semaine\" sont faibles voire négatifs. Ainsi, un individu qui s’entraîne fréquemment a une probabilité plus faible d’être de niveau 1, ce qui est cohérent.\n",
    "\n",
    "Niveau d’expérience 2 :\n",
    "Le modèle attribue des poids négatifs importants à certaines variables (ex. : entraînement hebdomadaire régulier, masse grasse élevée).\n",
    "Le coefficient associé à une catégorie d’âge ou de masse grasse semble positif, ce qui peut indiquer un profil spécifique.\n",
    "\n",
    "Niveau d’expérience 3 :\n",
    "Le coefficient le plus marqué est pour une variable liée au pourcentage de masse grasse (~1.91).\n",
    "Plus le pourcentage de gras est élevé, plus la probabilité d’être niveau 3 augmente."
   ]
  },
  {
   "cell_type": "markdown",
   "id": "50954e01",
   "metadata": {},
   "source": [
    "Cette methode à supprimé moins de variables que l'équivalent en R. (vérif si meme pénalisation: L1)"
   ]
  },
  {
   "cell_type": "code",
   "execution_count": 234,
   "id": "97c28546",
   "metadata": {},
   "outputs": [
    {
     "name": "stdout",
     "output_type": "stream",
     "text": [
      "Variables sélectionnées et triées (moyenne des coefficients) :\n",
      "SFat_Percentage                    0.549723\n",
      "Gender_Male                        0.538784\n",
      "Workout_Frequency (days/week)_3    0.156145\n",
      "Max_BPM                            0.034360\n",
      "Resting_BPM                        0.011747\n",
      "Age                                0.006791\n",
      "Calories_Burned                    0.006590\n",
      "Workout_Type_HIIT                  0.000375\n",
      "Workout_Type_Yoga                 -0.023890\n",
      "Avg_BPM                           -0.043906\n",
      "Workout_Type_Strength             -0.055019\n",
      "LWeight                           -0.068616\n",
      "Height (m)                        -0.337689\n",
      "Water_Intake (liters)             -0.362752\n",
      "Workout_Frequency (days/week)_4   -0.694308\n",
      "Workout_Frequency (days/week)_5   -1.745889\n",
      "dtype: float64\n"
     ]
    },
    {
     "data": {
      "image/png": "[encoded data removed]",
      "text/plain": [
       "<Figure size 1000x600 with 1 Axes>"
      ]
     },
     "metadata": {},
     "output_type": "display_data"
    }
   ],
   "source": [
    "# Récupérer les coefficients\n",
    "coefs = model_lasso.coef_  # array de shape (n_classes, n_features)\n",
    "\n",
    "# Transformer les coefficients en DataFrame\n",
    "coef_df = pd.DataFrame(coefs, columns=X_train_exp_level_dummies.columns)  # colonnes = noms des variables\n",
    "coef_df.index = [f\"Class_{i}\" for i in range(coefs.shape[0])]  # index = classes\n",
    "\n",
    "# Trouver les variables utilisées (au moins une fois ≠ 0 dans une classe)\n",
    "coef_used = (coef_df != 0).any(axis=0)  # un mask booléen sur les colonnes\n",
    "selected_coefs = coef_df.loc[:, coef_used]\n",
    "\n",
    "# Calculer la moyenne par variable et trier\n",
    "mean_coefs = selected_coefs.mean(axis=0).sort_values(ascending=False)\n",
    "\n",
    "# 7. Afficher\n",
    "print(\"Variables sélectionnées et triées (moyenne des coefficients) :\")\n",
    "print(mean_coefs)\n",
    "\n",
    "# 8. Visualiser\n",
    "mean_coefs.plot(kind='barh', figsize=(10,6))\n",
    "plt.title(\"Variables sélectionnées par Lasso (moyenne des coefs sur les classes)\")\n",
    "plt.xlabel(\"Coefficient moyen\")\n",
    "plt.tight_layout()\n",
    "plt.show()"
   ]
  },
  {
   "cell_type": "markdown",
   "id": "5b69c81d",
   "metadata": {},
   "source": [
    "\n",
    "Cette analyse nous permet de voir quelles variables ont le plus grand impact sur la classe cible et lesquelles sont relativement sans effet: Les variables comme SFat_Percentage et Gender_Male augmentent la probabilité d'appartenir à la classe cible, tandis que des variables comme Workout_Frequency (days/week)_5, Height, et Water_Intake la diminuent. "
   ]
  },
  {
   "cell_type": "code",
   "execution_count": 235,
   "id": "a1073d9c",
   "metadata": {},
   "outputs": [],
   "source": [
    "add_model_result(\"Logistic Regression avec optimisation Lasso\", y_test_exp_level, yChap, te-ts) "
   ]
  },
  {
   "cell_type": "markdown",
   "id": "af5addc1",
   "metadata": {},
   "source": [
    "### Analyse Discriminante linéaire  "
   ]
  },
  {
   "cell_type": "markdown",
   "id": "673784a3",
   "metadata": {},
   "source": []
  },
  {
   "cell_type": "code",
   "execution_count": 236,
   "id": "121c2314",
   "metadata": {},
   "outputs": [
    {
     "data": {
      "text/plain": [
       "0.9076923076923077"
      ]
     },
     "execution_count": 236,
     "metadata": {},
     "output_type": "execute_result"
    }
   ],
   "source": [
    "from sklearn.discriminant_analysis import LinearDiscriminantAnalysis, QuadraticDiscriminantAnalysis\n",
    "\n",
    "ts=time.time()\n",
    "\n",
    "method=LinearDiscriminantAnalysis()\n",
    "method.fit(X_train_exp_level_dummies, y_train_exp_level)\n",
    "score = method.score(X_test_exp_level_dummies,y_test_exp_level)\n",
    "ypred = method.predict(X_test_exp_level_dummies)\n",
    "te=time.time()\n",
    "t_total = te-ts\n",
    "score "
   ]
  },
  {
   "cell_type": "code",
   "execution_count": 237,
   "id": "38df6ab0",
   "metadata": {},
   "outputs": [
    {
     "name": "stdout",
     "output_type": "stream",
     "text": [
      "Score : 0.907692, time running : 0 secondes\n",
      "Multiclass Log Loss: 0.18770537588932418\n"
     ]
    },
    {
     "data": {
      "text/html": [
       "<div>\n",
       "<style scoped>\n",
       "    .dataframe tbody tr th:only-of-type {\n",
       "        vertical-align: middle;\n",
       "    }\n",
       "\n",
       "    .dataframe tbody tr th {\n",
       "        vertical-align: top;\n",
       "    }\n",
       "\n",
       "    .dataframe thead th {\n",
       "        text-align: right;\n",
       "    }\n",
       "</style>\n",
       "<table border=\"1\" class=\"dataframe\">\n",
       "  <thead>\n",
       "    <tr style=\"text-align: right;\">\n",
       "      <th></th>\n",
       "      <th>niveau 1</th>\n",
       "      <th>niveau 2</th>\n",
       "      <th>niveau 3</th>\n",
       "    </tr>\n",
       "  </thead>\n",
       "  <tbody>\n",
       "    <tr>\n",
       "      <th>niveau 1</th>\n",
       "      <td>70</td>\n",
       "      <td>8</td>\n",
       "      <td>0</td>\n",
       "    </tr>\n",
       "    <tr>\n",
       "      <th>niveau 2</th>\n",
       "      <td>10</td>\n",
       "      <td>69</td>\n",
       "      <td>0</td>\n",
       "    </tr>\n",
       "    <tr>\n",
       "      <th>niveau 3</th>\n",
       "      <td>0</td>\n",
       "      <td>0</td>\n",
       "      <td>38</td>\n",
       "    </tr>\n",
       "  </tbody>\n",
       "</table>\n",
       "</div>"
      ],
      "text/plain": [
       "          niveau 1  niveau 2  niveau 3\n",
       "niveau 1        70         8         0\n",
       "niveau 2        10        69         0\n",
       "niveau 3         0         0        38"
      ]
     },
     "execution_count": 237,
     "metadata": {},
     "output_type": "execute_result"
    }
   ],
   "source": [
    "\n",
    "# matrice de confusion\n",
    "print(\"Score : %f, time running : %d secondes\" %(score, te-ts))\n",
    "expected_loss = log_loss(y_test_exp_level, method.predict_proba(X_test_exp_level_dummies))# Calcul de l'expected loss (log loss)\n",
    "print(f\"Multiclass Log Loss: {expected_loss}\")\n",
    "pd.DataFrame(confusion_matrix(y_test_exp_level, ypred), index = labels, columns=labels)"
   ]
  },
  {
   "cell_type": "markdown",
   "id": "ffcee3cb",
   "metadata": {},
   "source": [
    "L'erreur de généralisation est de 10.3%, ce qui traduit une bonne capacité prédictive du modèle.\n",
    "\n",
    "La répartition des erreurs est très proche de celle obtenue avec la régression logistique classique, avec une erreur de moins dans ce cas.\n",
    "Comme précédemment observé, les individus de niveau 3 sont nettement mieux identifiés, tandis que les niveaux 1 et 2 sont plus fréquemment confondus entre eux."
   ]
  },
  {
   "cell_type": "code",
   "execution_count": 238,
   "id": "17bc7432",
   "metadata": {},
   "outputs": [],
   "source": [
    "add_model_result(\"ADL\", y_test_exp_level, ypred, te-ts)"
   ]
  },
  {
   "cell_type": "markdown",
   "id": "8ca0dd20",
   "metadata": {},
   "source": [
    "## K plus proches voisins \n",
    "\n",
    "Cas particulier d'analyse discriminante avec estimation locale des fonctions de densité conditionnelle . "
   ]
  },
  {
   "cell_type": "code",
   "execution_count": 239,
   "id": "6eb4ed37",
   "metadata": {},
   "outputs": [
    {
     "name": "stderr",
     "output_type": "stream",
     "text": [
      "c:\\Users\\LiLi\\anaconda3\\Lib\\site-packages\\sklearn\\base.py:464: UserWarning: X does not have valid feature names, but KNeighborsClassifier was fitted with feature names\n",
      "  warnings.warn(\n",
      "c:\\Users\\LiLi\\anaconda3\\Lib\\site-packages\\sklearn\\base.py:464: UserWarning: X does not have valid feature names, but KNeighborsClassifier was fitted with feature names\n",
      "  warnings.warn(\n"
     ]
    }
   ],
   "source": [
    "from sklearn.neighbors import KNeighborsClassifier\n",
    "# Convert the test data to a DataFrame with the same columns as the training data\n",
    "X_test_exp_level_dummies_df = pd.DataFrame(np.array(X_test_exp_level_dummies), columns=X_train_exp_level_dummies.columns)\n",
    "\n",
    "ts=time.time()\n",
    "method=KNeighborsClassifier(n_jobs=-1)\n",
    "method.fit(X_train_exp_level_dummies, y_train_exp_level)\n",
    "score = method.score(np.array(X_test_exp_level_dummies),y_test_exp_level)\n",
    "ypred = method.predict(np.array(X_test_exp_level_dummies_df))\n",
    "te=time.time()\n",
    "t_total = te-ts\n",
    "\n"
   ]
  },
  {
   "cell_type": "code",
   "execution_count": 240,
   "id": "c64de42e",
   "metadata": {},
   "outputs": [
    {
     "data": {
      "text/plain": [
       "<bound method KNeighborsClassifier.predict_proba of KNeighborsClassifier(n_jobs=-1)>"
      ]
     },
     "execution_count": 240,
     "metadata": {},
     "output_type": "execute_result"
    }
   ],
   "source": [
    "method.predict_proba"
   ]
  },
  {
   "cell_type": "code",
   "execution_count": 241,
   "id": "00073f80",
   "metadata": {},
   "outputs": [
    {
     "name": "stdout",
     "output_type": "stream",
     "text": [
      "Score : 0.717949, time running : 0 secondes\n"
     ]
    },
    {
     "name": "stderr",
     "output_type": "stream",
     "text": [
      "c:\\Users\\LiLi\\anaconda3\\Lib\\site-packages\\sklearn\\base.py:464: UserWarning: X does not have valid feature names, but KNeighborsClassifier was fitted with feature names\n",
      "  warnings.warn(\n"
     ]
    },
    {
     "name": "stdout",
     "output_type": "stream",
     "text": [
      "Multiclass Log Loss: 1.1846033806806355\n"
     ]
    },
    {
     "data": {
      "text/html": [
       "<div>\n",
       "<style scoped>\n",
       "    .dataframe tbody tr th:only-of-type {\n",
       "        vertical-align: middle;\n",
       "    }\n",
       "\n",
       "    .dataframe tbody tr th {\n",
       "        vertical-align: top;\n",
       "    }\n",
       "\n",
       "    .dataframe thead th {\n",
       "        text-align: right;\n",
       "    }\n",
       "</style>\n",
       "<table border=\"1\" class=\"dataframe\">\n",
       "  <thead>\n",
       "    <tr style=\"text-align: right;\">\n",
       "      <th></th>\n",
       "      <th>niveau 1</th>\n",
       "      <th>niveau 2</th>\n",
       "      <th>niveau 3</th>\n",
       "    </tr>\n",
       "  </thead>\n",
       "  <tbody>\n",
       "    <tr>\n",
       "      <th>niveau 1</th>\n",
       "      <td>47</td>\n",
       "      <td>31</td>\n",
       "      <td>0</td>\n",
       "    </tr>\n",
       "    <tr>\n",
       "      <th>niveau 2</th>\n",
       "      <td>18</td>\n",
       "      <td>61</td>\n",
       "      <td>0</td>\n",
       "    </tr>\n",
       "    <tr>\n",
       "      <th>niveau 3</th>\n",
       "      <td>1</td>\n",
       "      <td>5</td>\n",
       "      <td>32</td>\n",
       "    </tr>\n",
       "  </tbody>\n",
       "</table>\n",
       "</div>"
      ],
      "text/plain": [
       "          niveau 1  niveau 2  niveau 3\n",
       "niveau 1        47        31         0\n",
       "niveau 2        18        61         0\n",
       "niveau 3         1         5        32"
      ]
     },
     "execution_count": 241,
     "metadata": {},
     "output_type": "execute_result"
    }
   ],
   "source": [
    "print(\"Score : %f, time running : %d secondes\" %(score, te-ts))\n",
    "expected_loss = log_loss(y_test_exp_level, method.predict_proba(np.array(X_test_exp_level_dummies)))# Calcul de l'expected loss (log loss)\n",
    "print(f\"Multiclass Log Loss: {expected_loss}\")\n",
    "pd.DataFrame(confusion_matrix(y_test_exp_level, ypred), index = labels, columns=labels)"
   ]
  },
  {
   "cell_type": "markdown",
   "id": "9e424735",
   "metadata": {},
   "source": [
    "Le score obtenu est nettement inférieur à celui des autres méthodes testées précédemment, mais le temps d'exécution est très court. Le nombre de voisins utilisé par défaut est fixé à 5. Nous allons à présent chercher à optimiser ce paramètre pour améliorer les performances du modèle."
   ]
  },
  {
   "cell_type": "code",
   "execution_count": 242,
   "id": "09839b6e",
   "metadata": {},
   "outputs": [
    {
     "name": "stdout",
     "output_type": "stream",
     "text": [
      "temps : 20 secondes\n"
     ]
    }
   ],
   "source": [
    "from sklearn.model_selection import GridSearchCV\n",
    "ts=time.time()\n",
    "\n",
    "param_grid = {'n_neighbors': list(range(1, 16))}  # Tester de 1 à 15 voisins\n",
    "\n",
    "method=KNeighborsClassifier(n_jobs=-1)\n",
    "kn= GridSearchCV(method, param_grid, cv=10, scoring='accuracy')# recherche par validation croisée\n",
    "knOpt=kn.fit(np.array(X_train_exp_level_dummies), y_train_exp_level)  # Assurez-vous que X_train_np est bien un np.array\n",
    "\n",
    "te=time.time()\n",
    "t_total=te-ts\n",
    "\n",
    "print(\"temps : %d secondes\" %(t_total))"
   ]
  },
  {
   "cell_type": "code",
   "execution_count": 243,
   "id": "3240c75d",
   "metadata": {},
   "outputs": [
    {
     "name": "stdout",
     "output_type": "stream",
     "text": [
      "Meilleur nombre de voisins : 11\n",
      "Meilleure score en validation croisée : 0.6954878454878455\n",
      "Score : 0.728205, time running : 20 secondes\n",
      "Multiclass Log Loss: 0.5397404494291402\n"
     ]
    },
    {
     "data": {
      "text/html": [
       "<div>\n",
       "<style scoped>\n",
       "    .dataframe tbody tr th:only-of-type {\n",
       "        vertical-align: middle;\n",
       "    }\n",
       "\n",
       "    .dataframe tbody tr th {\n",
       "        vertical-align: top;\n",
       "    }\n",
       "\n",
       "    .dataframe thead th {\n",
       "        text-align: right;\n",
       "    }\n",
       "</style>\n",
       "<table border=\"1\" class=\"dataframe\">\n",
       "  <thead>\n",
       "    <tr style=\"text-align: right;\">\n",
       "      <th></th>\n",
       "      <th>niveau 1</th>\n",
       "      <th>niveau 2</th>\n",
       "      <th>niveau 3</th>\n",
       "    </tr>\n",
       "  </thead>\n",
       "  <tbody>\n",
       "    <tr>\n",
       "      <th>niveau 1</th>\n",
       "      <td>47</td>\n",
       "      <td>28</td>\n",
       "      <td>3</td>\n",
       "    </tr>\n",
       "    <tr>\n",
       "      <th>niveau 2</th>\n",
       "      <td>12</td>\n",
       "      <td>64</td>\n",
       "      <td>3</td>\n",
       "    </tr>\n",
       "    <tr>\n",
       "      <th>niveau 3</th>\n",
       "      <td>0</td>\n",
       "      <td>7</td>\n",
       "      <td>31</td>\n",
       "    </tr>\n",
       "  </tbody>\n",
       "</table>\n",
       "</div>"
      ],
      "text/plain": [
       "          niveau 1  niveau 2  niveau 3\n",
       "niveau 1        47        28         3\n",
       "niveau 2        12        64         3\n",
       "niveau 3         0         7        31"
      ]
     },
     "execution_count": 243,
     "metadata": {},
     "output_type": "execute_result"
    }
   ],
   "source": [
    "print(\"Meilleur nombre de voisins :\", knOpt.best_params_['n_neighbors']) #paramètre trouvé \n",
    "print(\"Meilleure score en validation croisée :\", knOpt.best_score_) #score généralisation vc\n",
    "yChap=knOpt.predict(np.array(X_test_exp_level_dummies))\n",
    "score=accuracy_score(y_test_exp_level, yChap) # score généralisation \n",
    "print(\"Score : %f, time running : %d secondes\" %(score, t_total))\n",
    "expected_loss = log_loss(y_test_exp_level, knOpt.predict_proba(np.array(X_test_exp_level_dummies)))# Calcul de l'expected loss (log loss)\n",
    "print(f\"Multiclass Log Loss: {expected_loss}\")\n",
    "pd.DataFrame(confusion_matrix(y_test_exp_level, yChap), index = labels, columns=labels)"
   ]
  },
  {
   "cell_type": "markdown",
   "id": "64d18cba",
   "metadata": {},
   "source": [
    "Le meilleur nombre de voisins est 11, avec un score de généralisation moyen en validation croisée de 0.695 ce qui correspond à une erreure de généralisation en validation croisée de 31%. L'erreur de généralisaion \"simple\" obtenue: 28% est  inférieursupperieure à celles obtenus avec les autres méthodes précédemment testées, et quasiment égale au score knn sans optimisation du nombre de voisins.\n",
    "\n",
    "Même après optimisation du nombre de voisins, la méthode des K plus proches voisins n'est pas efficace pour classifier correctement nos données.On oberve, grace à la matrice de confusion, que le niveau 1 est particulièrement mal classé: 47 corrects, mais 28 confondus avec le niveau 2 et 3 avec le niveau 3. De plus le temps d'execution est assez long: 22s contre 5s sans optimisation de k, cette amélioration n'est pas rentable. "
   ]
  },
  {
   "cell_type": "code",
   "execution_count": 244,
   "id": "18ca74f6",
   "metadata": {},
   "outputs": [],
   "source": [
    "add_model_result(\"KNN\", y_test_exp_level, yChap, te-ts) "
   ]
  },
  {
   "cell_type": "markdown",
   "id": "d5cd9de0",
   "metadata": {},
   "source": [
    "## SVM lineaire \n",
    "\n"
   ]
  },
  {
   "cell_type": "code",
   "execution_count": 245,
   "id": "3dc2edcf",
   "metadata": {},
   "outputs": [],
   "source": [
    "from sklearn.svm import SVC\n",
    "ts = time.time()\n",
    "method = SVC(kernel='linear', gamma='auto', probability=True)\n",
    "method.fit(X_train_exp_level_dummies,y_train_exp_level)\n",
    "score = method.score(X_test_exp_level_dummies, y_test_exp_level)\n",
    "score_cv=cross_validate(method, X_train_exp_level_dummies, y_train_exp_level, cv=5, scoring='accuracy')\n",
    "#mettre erreure validation croisée \n",
    "ypred = method.predict(X_test_exp_level_dummies)\n",
    "te = time.time()"
   ]
  },
  {
   "cell_type": "code",
   "execution_count": 246,
   "id": "199f7362",
   "metadata": {},
   "outputs": [
    {
     "name": "stdout",
     "output_type": "stream",
     "text": [
      "Score de généraisation : 0.912821, time running : 169 secondes\n",
      "Score de généralisation par validation croisée : 0.852142\n",
      "Multiclass Log Loss: 0.22081447474926574\n"
     ]
    },
    {
     "name": "stderr",
     "output_type": "stream",
     "text": [
      "c:\\Users\\LiLi\\anaconda3\\Lib\\site-packages\\sklearn\\base.py:464: UserWarning: X does not have valid feature names, but SVC was fitted with feature names\n",
      "  warnings.warn(\n"
     ]
    },
    {
     "data": {
      "text/html": [
       "<div>\n",
       "<style scoped>\n",
       "    .dataframe tbody tr th:only-of-type {\n",
       "        vertical-align: middle;\n",
       "    }\n",
       "\n",
       "    .dataframe tbody tr th {\n",
       "        vertical-align: top;\n",
       "    }\n",
       "\n",
       "    .dataframe thead th {\n",
       "        text-align: right;\n",
       "    }\n",
       "</style>\n",
       "<table border=\"1\" class=\"dataframe\">\n",
       "  <thead>\n",
       "    <tr style=\"text-align: right;\">\n",
       "      <th></th>\n",
       "      <th>niveau 1</th>\n",
       "      <th>niveau 2</th>\n",
       "      <th>niveau 3</th>\n",
       "    </tr>\n",
       "  </thead>\n",
       "  <tbody>\n",
       "    <tr>\n",
       "      <th>niveau 1</th>\n",
       "      <td>68</td>\n",
       "      <td>10</td>\n",
       "      <td>0</td>\n",
       "    </tr>\n",
       "    <tr>\n",
       "      <th>niveau 2</th>\n",
       "      <td>7</td>\n",
       "      <td>72</td>\n",
       "      <td>0</td>\n",
       "    </tr>\n",
       "    <tr>\n",
       "      <th>niveau 3</th>\n",
       "      <td>0</td>\n",
       "      <td>0</td>\n",
       "      <td>38</td>\n",
       "    </tr>\n",
       "  </tbody>\n",
       "</table>\n",
       "</div>"
      ],
      "text/plain": [
       "          niveau 1  niveau 2  niveau 3\n",
       "niveau 1        68        10         0\n",
       "niveau 2         7        72         0\n",
       "niveau 3         0         0        38"
      ]
     },
     "execution_count": 246,
     "metadata": {},
     "output_type": "execute_result"
    }
   ],
   "source": [
    "print(\"Score de généraisation : %f, time running : %d secondes\" %(score, te-ts))\n",
    "print(\"Score de généralisation par validation croisée : %f\" %(score_cv['test_score'].mean()))\n",
    "expected_loss = log_loss(y_test_exp_level, method.predict_proba(np.array(X_test_exp_level_dummies)))# Calcul de l'expected loss (log loss)\n",
    "print(f\"Multiclass Log Loss: {expected_loss}\")\n",
    "pd.DataFrame(confusion_matrix(y_test_exp_level, ypred), index = labels, columns=labels)\n",
    "#ajouter erreur de généralisation "
   ]
  },
  {
   "cell_type": "markdown",
   "id": "2c08f0b7",
   "metadata": {},
   "source": [
    "La methode SVM linéaire, avec les paramètres par défaut est très efficace, pour un temps d'execution raisonnable: l'erreure de généralisation en validation croisée est de 15%, pour 21s d'execution. \n",
    "\n",
    "Nous allons maintenant faire un nouveau modèle en optimisant le paramètre de régularisation C. "
   ]
  },
  {
   "cell_type": "code",
   "execution_count": 247,
   "id": "d53375a8",
   "metadata": {},
   "outputs": [],
   "source": [
    "add_model_result(\"SVM linéaire défault\", y_test_exp_level, ypred, te-ts)"
   ]
  },
  {
   "cell_type": "code",
   "execution_count": 248,
   "id": "ec782e19",
   "metadata": {},
   "outputs": [
    {
     "name": "stdout",
     "output_type": "stream",
     "text": [
      "Meilleur score de généralisation en valisation croisée= 0.866303, Meilleur paramètre = {'C': 0.1}\n"
     ]
    }
   ],
   "source": [
    "ts = time.time()\n",
    "param=[{\"C\":[0.1,0.5,1,2,5,10]}]\n",
    "svm= GridSearchCV(SVC(kernel='linear'),param,cv=5,n_jobs=-1)\n",
    "svmOpt=svm.fit(X_train_exp_level_dummies, y_train_exp_level)\n",
    "te = time.time()\n",
    "te-ts\n",
    "print(\"Meilleur score de généralisation en valisation croisée= %f, Meilleur paramètre = %s\" % (svmOpt.best_score_,svmOpt.best_params_)) "
   ]
  },
  {
   "cell_type": "code",
   "execution_count": 249,
   "id": "4f7cdaf0",
   "metadata": {},
   "outputs": [
    {
     "name": "stdout",
     "output_type": "stream",
     "text": [
      "Score de généralisation : 0.912821, time running : 92 secondes\n",
      "Multiclass Log Loss: 0.22531047296441653\n"
     ]
    },
    {
     "name": "stderr",
     "output_type": "stream",
     "text": [
      "c:\\Users\\LiLi\\anaconda3\\Lib\\site-packages\\sklearn\\base.py:464: UserWarning: X does not have valid feature names, but SVC was fitted with feature names\n",
      "  warnings.warn(\n"
     ]
    },
    {
     "data": {
      "text/html": [
       "<div>\n",
       "<style scoped>\n",
       "    .dataframe tbody tr th:only-of-type {\n",
       "        vertical-align: middle;\n",
       "    }\n",
       "\n",
       "    .dataframe tbody tr th {\n",
       "        vertical-align: top;\n",
       "    }\n",
       "\n",
       "    .dataframe thead th {\n",
       "        text-align: right;\n",
       "    }\n",
       "</style>\n",
       "<table border=\"1\" class=\"dataframe\">\n",
       "  <thead>\n",
       "    <tr style=\"text-align: right;\">\n",
       "      <th></th>\n",
       "      <th>niveau 1</th>\n",
       "      <th>niveau 2</th>\n",
       "      <th>niveau 3</th>\n",
       "    </tr>\n",
       "  </thead>\n",
       "  <tbody>\n",
       "    <tr>\n",
       "      <th>niveau 1</th>\n",
       "      <td>68</td>\n",
       "      <td>10</td>\n",
       "      <td>0</td>\n",
       "    </tr>\n",
       "    <tr>\n",
       "      <th>niveau 2</th>\n",
       "      <td>7</td>\n",
       "      <td>72</td>\n",
       "      <td>0</td>\n",
       "    </tr>\n",
       "    <tr>\n",
       "      <th>niveau 3</th>\n",
       "      <td>0</td>\n",
       "      <td>0</td>\n",
       "      <td>38</td>\n",
       "    </tr>\n",
       "  </tbody>\n",
       "</table>\n",
       "</div>"
      ],
      "text/plain": [
       "          niveau 1  niveau 2  niveau 3\n",
       "niveau 1        68        10         0\n",
       "niveau 2         7        72         0\n",
       "niveau 3         0         0        38"
      ]
     },
     "execution_count": 249,
     "metadata": {},
     "output_type": "execute_result"
    }
   ],
   "source": [
    "svmOpt=SVC(kernel='linear',C=svmOpt.best_params_['C'],probability=True)\n",
    "svmOpt.fit(X_train_exp_level_dummies, y_train_exp_level)\n",
    "yChap = svmOpt.predict(X_test_exp_level_dummies)\n",
    "score = accuracy_score(y_test_exp_level, yChap) \n",
    "print(\"Score de généralisation : %f, time running : %d secondes\" %(score, te-ts))\n",
    "expected_loss = log_loss(y_test_exp_level, svmOpt.predict_proba(np.array(X_test_exp_level_dummies)))# Calcul de l'expected loss (log loss)\n",
    "print(f\"Multiclass Log Loss: {expected_loss}\")\n",
    "pd.DataFrame(confusion_matrix(y_test_exp_level, yChap), index = labels, columns=labels)"
   ]
  },
  {
   "cell_type": "markdown",
   "id": "30a60e0d",
   "metadata": {},
   "source": [
    "Les erreurs de généralisation simple et en validation croisée sont presque égales à celles obtenues sont l'optimisation du paramètre C et le temps d'execution de ce nouveau modèle est particulièrement long: 1min54. Cette amélioration n'est pas rentable par rapport au modèle non optimisé. "
   ]
  },
  {
   "cell_type": "code",
   "execution_count": 250,
   "id": "e13d7b67",
   "metadata": {},
   "outputs": [],
   "source": [
    "add_model_result(\"SVM linéaire optimisée\", y_test_exp_level, yChap, te-ts)\n"
   ]
  },
  {
   "cell_type": "markdown",
   "id": "6d7d6bd3",
   "metadata": {},
   "source": [
    "### SVM radiale "
   ]
  },
  {
   "cell_type": "code",
   "execution_count": 251,
   "id": "63b3bc56",
   "metadata": {},
   "outputs": [],
   "source": [
    "\n",
    "ts = time.time()\n",
    "method = SVC(kernel='rbf',gamma='auto', probability=True)\n",
    "method.fit(X_train_exp_level_dummies,y_train_exp_level)\n",
    "score = method.score(X_test_exp_level_dummies, y_test_exp_level)\n",
    "score_cv=cross_validate(method, X_train_exp_level_dummies, y_train_exp_level, cv=5, scoring='accuracy')\n",
    "ypred = method.predict(X_test_exp_level_dummies)\n",
    "te = time.time()"
   ]
  },
  {
   "cell_type": "code",
   "execution_count": 252,
   "id": "6af05ba9",
   "metadata": {},
   "outputs": [
    {
     "name": "stdout",
     "output_type": "stream",
     "text": [
      "Score de généralisation : 0.405128, time running : 2 secondes\n",
      "Score de généralisation par validation croisée : 0.420306\n",
      "Multiclass Log Loss: 1.0546327097809318\n"
     ]
    },
    {
     "name": "stderr",
     "output_type": "stream",
     "text": [
      "c:\\Users\\LiLi\\anaconda3\\Lib\\site-packages\\sklearn\\base.py:464: UserWarning: X does not have valid feature names, but SVC was fitted with feature names\n",
      "  warnings.warn(\n"
     ]
    },
    {
     "data": {
      "text/html": [
       "<div>\n",
       "<style scoped>\n",
       "    .dataframe tbody tr th:only-of-type {\n",
       "        vertical-align: middle;\n",
       "    }\n",
       "\n",
       "    .dataframe tbody tr th {\n",
       "        vertical-align: top;\n",
       "    }\n",
       "\n",
       "    .dataframe thead th {\n",
       "        text-align: right;\n",
       "    }\n",
       "</style>\n",
       "<table border=\"1\" class=\"dataframe\">\n",
       "  <thead>\n",
       "    <tr style=\"text-align: right;\">\n",
       "      <th></th>\n",
       "      <th>niveau 1</th>\n",
       "      <th>niveau 2</th>\n",
       "      <th>niveau 3</th>\n",
       "    </tr>\n",
       "  </thead>\n",
       "  <tbody>\n",
       "    <tr>\n",
       "      <th>niveau 1</th>\n",
       "      <td>0</td>\n",
       "      <td>78</td>\n",
       "      <td>0</td>\n",
       "    </tr>\n",
       "    <tr>\n",
       "      <th>niveau 2</th>\n",
       "      <td>0</td>\n",
       "      <td>79</td>\n",
       "      <td>0</td>\n",
       "    </tr>\n",
       "    <tr>\n",
       "      <th>niveau 3</th>\n",
       "      <td>0</td>\n",
       "      <td>38</td>\n",
       "      <td>0</td>\n",
       "    </tr>\n",
       "  </tbody>\n",
       "</table>\n",
       "</div>"
      ],
      "text/plain": [
       "          niveau 1  niveau 2  niveau 3\n",
       "niveau 1         0        78         0\n",
       "niveau 2         0        79         0\n",
       "niveau 3         0        38         0"
      ]
     },
     "execution_count": 252,
     "metadata": {},
     "output_type": "execute_result"
    }
   ],
   "source": [
    "print(\"Score de généralisation : %f, time running : %d secondes\" %(score, te-ts))\n",
    "print(\"Score de généralisation par validation croisée : %f\" %(score_cv['test_score'].mean()))\n",
    "expected_loss = log_loss(y_test_exp_level, method.predict_proba(np.array(X_test_exp_level_dummies)))# Calcul de l'expected loss (log loss)\n",
    "print(f\"Multiclass Log Loss: {expected_loss}\")\n",
    "pd.DataFrame(confusion_matrix(y_test_exp_level, ypred), index = labels, columns=labels)"
   ]
  },
  {
   "cell_type": "markdown",
   "id": "6af05ba9",
   "metadata": {},
   "source": [
    "Le modèle semble prédire uniquement la classe \"niveau 2\", quelles que soient les vraies classes.Aucune observation des niveaux 1 et 3 n’est correctement classée.L'erreur de généralisation est de 50%, cette methode est inefficace pour classer nos données."
   ]
  },
  {
   "cell_type": "code",
   "execution_count": 253,
   "id": "8b5e6b1c",
   "metadata": {},
   "outputs": [],
   "source": [
    "add_model_result(\"SVM radiale défault\", y_test_exp_level, ypred, te-ts)"
   ]
  },
  {
   "cell_type": "code",
   "execution_count": 254,
   "id": "a3d9a028",
   "metadata": {},
   "outputs": [
    {
     "name": "stdout",
     "output_type": "stream",
     "text": [
      "Meilleur score de généralisation en validation croisée = 0.730153, Meilleur paramètre = {'C': 1, 'gamma': 0.001}\n"
     ]
    }
   ],
   "source": [
    "ts = time.time()\n",
    "param=[{\"C\":[0.1,0.5,1,2,10],\"gamma\":[0.001,.01,.1,.5,1]}]\n",
    "svm= GridSearchCV(SVC(),param,cv=10,n_jobs=-1)\n",
    "svmOpt=svm.fit(X_train_exp_level_dummies, y_train_exp_level)\n",
    "te = time.time()\n",
    "te-ts\n",
    "print(\"Meilleur score de généralisation en validation croisée = %f, Meilleur paramètre = %s\" % (svmOpt.best_score_,svmOpt.best_params_))"
   ]
  },
  {
   "cell_type": "code",
   "execution_count": 255,
   "id": "adb7eb2d",
   "metadata": {},
   "outputs": [
    {
     "name": "stdout",
     "output_type": "stream",
     "text": [
      "Score de généraisation : 0.743590, time running : 9 secondes\n",
      "Multiclass Log Loss: 1.0546327097809318\n"
     ]
    },
    {
     "name": "stderr",
     "output_type": "stream",
     "text": [
      "c:\\Users\\LiLi\\anaconda3\\Lib\\site-packages\\sklearn\\base.py:464: UserWarning: X does not have valid feature names, but SVC was fitted with feature names\n",
      "  warnings.warn(\n"
     ]
    },
    {
     "data": {
      "text/html": [
       "<div>\n",
       "<style scoped>\n",
       "    .dataframe tbody tr th:only-of-type {\n",
       "        vertical-align: middle;\n",
       "    }\n",
       "\n",
       "    .dataframe tbody tr th {\n",
       "        vertical-align: top;\n",
       "    }\n",
       "\n",
       "    .dataframe thead th {\n",
       "        text-align: right;\n",
       "    }\n",
       "</style>\n",
       "<table border=\"1\" class=\"dataframe\">\n",
       "  <thead>\n",
       "    <tr style=\"text-align: right;\">\n",
       "      <th></th>\n",
       "      <th>niveau 1</th>\n",
       "      <th>niveau 2</th>\n",
       "      <th>niveau 3</th>\n",
       "    </tr>\n",
       "  </thead>\n",
       "  <tbody>\n",
       "    <tr>\n",
       "      <th>niveau 1</th>\n",
       "      <td>46</td>\n",
       "      <td>31</td>\n",
       "      <td>1</td>\n",
       "    </tr>\n",
       "    <tr>\n",
       "      <th>niveau 2</th>\n",
       "      <td>11</td>\n",
       "      <td>67</td>\n",
       "      <td>1</td>\n",
       "    </tr>\n",
       "    <tr>\n",
       "      <th>niveau 3</th>\n",
       "      <td>0</td>\n",
       "      <td>6</td>\n",
       "      <td>32</td>\n",
       "    </tr>\n",
       "  </tbody>\n",
       "</table>\n",
       "</div>"
      ],
      "text/plain": [
       "          niveau 1  niveau 2  niveau 3\n",
       "niveau 1        46        31         1\n",
       "niveau 2        11        67         1\n",
       "niveau 3         0         6        32"
      ]
     },
     "execution_count": 255,
     "metadata": {},
     "output_type": "execute_result"
    }
   ],
   "source": [
    "svmOpt=SVC(C=1, gamma=0.001, probability=True)\n",
    "svmOpt.fit(X_train_exp_level_dummies, y_train_exp_level)\n",
    "yChap=svmOpt.predict(X_test_exp_level_dummies)\n",
    "score = svmOpt.score(X_test_exp_level_dummies, y_test_exp_level)\n",
    "print(\"Score de généraisation : %f, time running : %d secondes\" %(score, te-ts))\n",
    "expected_loss = log_loss(y_test_exp_level, method.predict_proba(np.array(X_test_exp_level_dummies)))# Calcul de l'expected loss (log loss)\n",
    "print(f\"Multiclass Log Loss: {expected_loss}\")\n",
    "pd.DataFrame(confusion_matrix(y_test_exp_level, yChap), index = labels, columns=labels)"
   ]
  },
  {
   "cell_type": "markdown",
   "id": "adc2ac2b",
   "metadata": {},
   "source": [
    "Ls erreurs de classification restent nombreuses et la qualité des prédictions est limitée mais l’optimisation des paramètres a permis une amélioration notable : le modèle prédit désormais des individus dans les classes 1 et 3, contrairement à la version initiale.\n",
    "L’erreur de généralisation reste élevée: 25 %, mais le temps d’exécution est plus raisonnable que celui observé lors de l’optimisation des paramètres de la SVM linéaire: 17s.\n"
   ]
  },
  {
   "cell_type": "markdown",
   "id": "c3640a6f",
   "metadata": {},
   "source": [
    "Finalement c'est la svm linéaire sans optimisation des paramètres qui est la plus adapté à notre problème de classification parmis les différentes SVM testées, elle permet d'avoir une bonne prédiction avec un temps d'execution assez faible. "
   ]
  },
  {
   "cell_type": "code",
   "execution_count": 256,
   "id": "26ba273b",
   "metadata": {},
   "outputs": [],
   "source": [
    "add_model_result(\"SVM radiale optimisée\", y_test_exp_level, yChap, te-ts)"
   ]
  },
  {
   "cell_type": "markdown",
   "id": "032fbb81",
   "metadata": {},
   "source": [
    "### Conclusion partie 1 classification"
   ]
  },
  {
   "cell_type": "markdown",
   "id": "8735ac24",
   "metadata": {},
   "source": [
    "Le tableau suivant présente un résumé des performance de chaque methode testée. "
   ]
  },
  {
   "cell_type": "code",
   "execution_count": 257,
   "id": "c7ab71f3",
   "metadata": {},
   "outputs": [
    {
     "data": {
      "text/html": [
       "<div>\n",
       "<style scoped>\n",
       "    .dataframe tbody tr th:only-of-type {\n",
       "        vertical-align: middle;\n",
       "    }\n",
       "\n",
       "    .dataframe tbody tr th {\n",
       "        vertical-align: top;\n",
       "    }\n",
       "\n",
       "    .dataframe thead th {\n",
       "        text-align: right;\n",
       "    }\n",
       "</style>\n",
       "<table border=\"1\" class=\"dataframe\">\n",
       "  <thead>\n",
       "    <tr style=\"text-align: right;\">\n",
       "      <th></th>\n",
       "      <th>Modèle</th>\n",
       "      <th>Score de généralisation</th>\n",
       "      <th>Durée (s)</th>\n",
       "    </tr>\n",
       "  </thead>\n",
       "  <tbody>\n",
       "    <tr>\n",
       "      <th>4</th>\n",
       "      <td>SVM linéaire défault</td>\n",
       "      <td>0.913</td>\n",
       "      <td>169.03</td>\n",
       "    </tr>\n",
       "    <tr>\n",
       "      <th>5</th>\n",
       "      <td>SVM linéaire optimisée</td>\n",
       "      <td>0.913</td>\n",
       "      <td>92.62</td>\n",
       "    </tr>\n",
       "    <tr>\n",
       "      <th>2</th>\n",
       "      <td>ADL</td>\n",
       "      <td>0.908</td>\n",
       "      <td>0.02</td>\n",
       "    </tr>\n",
       "    <tr>\n",
       "      <th>0</th>\n",
       "      <td>Logistic Regression</td>\n",
       "      <td>0.903</td>\n",
       "      <td>0.09</td>\n",
       "    </tr>\n",
       "    <tr>\n",
       "      <th>1</th>\n",
       "      <td>Logistic Regression avec optimisation Lasso</td>\n",
       "      <td>0.903</td>\n",
       "      <td>2.67</td>\n",
       "    </tr>\n",
       "    <tr>\n",
       "      <th>7</th>\n",
       "      <td>SVM radiale optimisée</td>\n",
       "      <td>0.744</td>\n",
       "      <td>9.90</td>\n",
       "    </tr>\n",
       "    <tr>\n",
       "      <th>3</th>\n",
       "      <td>KNN</td>\n",
       "      <td>0.728</td>\n",
       "      <td>20.93</td>\n",
       "    </tr>\n",
       "    <tr>\n",
       "      <th>6</th>\n",
       "      <td>SVM radiale défault</td>\n",
       "      <td>0.405</td>\n",
       "      <td>2.40</td>\n",
       "    </tr>\n",
       "  </tbody>\n",
       "</table>\n",
       "</div>"
      ],
      "text/plain": [
       "                                        Modèle  Score de généralisation  \\\n",
       "4                         SVM linéaire défault                    0.913   \n",
       "5                       SVM linéaire optimisée                    0.913   \n",
       "2                                          ADL                    0.908   \n",
       "0                          Logistic Regression                    0.903   \n",
       "1  Logistic Regression avec optimisation Lasso                    0.903   \n",
       "7                        SVM radiale optimisée                    0.744   \n",
       "3                                          KNN                    0.728   \n",
       "6                          SVM radiale défault                    0.405   \n",
       "\n",
       "   Durée (s)  \n",
       "4     169.03  \n",
       "5      92.62  \n",
       "2       0.02  \n",
       "0       0.09  \n",
       "1       2.67  \n",
       "7       9.90  \n",
       "3      20.93  \n",
       "6       2.40  "
      ]
     },
     "execution_count": 257,
     "metadata": {},
     "output_type": "execute_result"
    }
   ],
   "source": [
    "pd.DataFrame(results).sort_values(by=\"Score de généralisation\", ascending=False)\n"
   ]
  },
  {
   "cell_type": "markdown",
   "id": "860c5000",
   "metadata": {},
   "source": [
    "Parmi tous les modèles testés, l’analyse discriminante linéaire (ADL) offre le meilleur compromis entre précision et temps d’exécution. Elle est presque aussi performante que les meilleurs modèles, tout en étant extrêmement rapide. C’est donc un très bon choix si l’on souhaite obtenir des résultats fiables en un minimum de temps.\n",
    "\n",
    "Si l’on cherche avant tout la meilleure précision possible et que le temps de calcul n’est pas un problème (environ 20 secondes), alors le SVM linéaire avec les paramètres par défaut est la meilleure option: on gagne 0.005 sur le score de généralisation contre 23 segondes d'execution e plus. \n",
    "\n",
    "En revanche, les modèles SVM avec noyau radial (RBF) et K plus proches voisins (KNN) ne sont pas adaptés à ce jeu de données. Ils donnent des résultats moins précis que les autres méthodes, voir indépendant de l'individu :la SVM radiale prédit des individus uniquement dans le second niveau d'expérience. "
   ]
  },
  {
   "cell_type": "markdown",
   "id": "97585469",
   "metadata": {},
   "source": [
    "Comparaison avec R: dans la regression logistique optimisé par Lasso, plus de variables sont supprimés qu'en R. "
   ]
  }
 ],
 "metadata": {
  "kernelspec": {
   "display_name": "base",
   "language": "python",
   "name": "python3"
  },
  "language_info": {
   "codemirror_mode": {
    "name": "ipython",
    "version": 3
   },
   "file_extension": ".py",
   "mimetype": "text/x-python",
   "name": "python",
   "nbconvert_exporter": "python",
   "pygments_lexer": "ipython3",
   "version": "3.11.5"
  }
 },
 "nbformat": 4,
 "nbformat_minor": 5
}
