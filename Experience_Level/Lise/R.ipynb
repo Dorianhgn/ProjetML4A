{
 "cells": [
  {
   "cell_type": "code",
   "execution_count": 125,
   "metadata": {
    "vscode": {
     "languageId": "r"
    }
   },
   "outputs": [
    {
     "data": {
      "text/plain": [
       "[1] '3.5.1'"
      ]
     },
     "metadata": {},
     "output_type": "display_data"
    },
    {
     "data": {
      "text/html": [
       "'C:/Users/LiLi/AppData/Local/R/win-library/4.2/ggplot2'"
      ],
      "text/latex": [
       "'C:/Users/LiLi/AppData/Local/R/win-library/4.2/ggplot2'"
      ],
      "text/markdown": [
       "'C:/Users/LiLi/AppData/Local/R/win-library/4.2/ggplot2'"
      ],
      "text/plain": [
       "[1] \"C:/Users/LiLi/AppData/Local/R/win-library/4.2/ggplot2\""
      ]
     },
     "metadata": {},
     "output_type": "display_data"
    }
   ],
   "source": [
    "packageVersion(\"ggplot2\")\n",
    "find.package(\"ggplot2\")"
   ]
  },
  {
   "cell_type": "markdown",
   "metadata": {},
   "source": []
  },
  {
   "cell_type": "code",
   "execution_count": 126,
   "metadata": {
    "vscode": {
     "languageId": "r"
    }
   },
   "outputs": [
    {
     "name": "stderr",
     "output_type": "stream",
     "text": [
      "Installation du package dans 'C:/Users/LiLi/AppData/Local/R/win-library/4.2'\n",
      "(car 'lib' n'est pas spécifié)\n",
      "\n"
     ]
    },
    {
     "name": "stdout",
     "output_type": "stream",
     "text": [
      "\n",
      "  Une version binaire est disponible mais la version du source est plus\n",
      "  récente:\n",
      "     binary source needs_compilation\n",
      "nnet 7.3-19 7.3-20              TRUE\n",
      "\n",
      "  Binaries will be installed\n",
      "le package 'nnet' a été décompressé et les sommes MD5 ont été vérifiées avec succés\n"
     ]
    },
    {
     "name": "stderr",
     "output_type": "stream",
     "text": [
      "Warning message:\n",
      "\"impossible de supprimer l'installation précédente du package 'nnet'\"\n",
      "Warning message in file.copy(savedcopy, lib, recursive = TRUE):\n",
      "\"problème lors de la copie de C:\\Users\\LiLi\\AppData\\Local\\R\\win-library\\4.2\\00LOCK\\nnet\\libs\\x64\\nnet.dll vers C:\\Users\\LiLi\\AppData\\Local\\R\\win-library\\4.2\\nnet\\libs\\x64\\nnet.dll: Permission denied\"\n",
      "Warning message:\n",
      "\"'nnet' restauré\"\n"
     ]
    },
    {
     "name": "stdout",
     "output_type": "stream",
     "text": [
      "\n",
      "Les packages binaires téléchargés sont dans\n",
      "\tC:\\Users\\LiLi\\AppData\\Local\\Temp\\RtmpY5S2fV\\downloaded_packages\n"
     ]
    }
   ],
   "source": [
    "\n",
    "\n",
    "install.packages(\"nnet\")\n"
   ]
  },
  {
   "cell_type": "markdown",
   "metadata": {},
   "source": [
    "# R Experience Level:  Regression logistique, LDA, KNN, SVM"
   ]
  },
  {
   "cell_type": "code",
   "execution_count": 127,
   "metadata": {
    "vscode": {
     "languageId": "r"
    }
   },
   "outputs": [],
   "source": [
    "library(ggplot2)\n",
    "library(tidyverse)\n",
    "library(gridExtra)\n",
    "library(GGally)\n",
    "library(plotly)\n",
    "library(corrplot)\n",
    "library(reshape2)\n",
    "library(FactoMineR) \n",
    "library(factoextra)\n",
    "library(glmnet) \n",
    "library(ggfortify)\n",
    "library(pROC)\n",
    "library(ROCR)\n",
    "library(repr)\n",
    "library(recipes)\n",
    "library(caret)\n",
    "library(e1071)\n"
   ]
  },
  {
   "cell_type": "code",
   "execution_count": 128,
   "metadata": {
    "vscode": {
     "languageId": "r"
    }
   },
   "outputs": [],
   "source": [
    "#library(nnet)\n",
    "library(mlr3)\n",
    "library(mlr3learners)\n",
    "library(RColorBrewer)\n",
    "library(e1071)\n",
    "library(rpart)\n",
    "#library(rpart.plot)"
   ]
  },
  {
   "cell_type": "code",
   "execution_count": 129,
   "metadata": {
    "vscode": {
     "languageId": "r"
    }
   },
   "outputs": [
    {
     "name": "stdout",
     "output_type": "stream",
     "text": [
      "Data loaded and preprocessed"
     ]
    }
   ],
   "source": [
    "# fix random seed for reproducibility\n",
    "set.seed(1234)\n",
    "\n",
    "## GRAPH SETTINGS ##\n",
    "# Save original parameters (optional)\n",
    "original_par <- par(no.readonly = TRUE)\n",
    "\n",
    "# Set global scaling factors (1.5x default size)\n",
    "par(\n",
    "  cex.lab = 1.5,   # Axis labels\n",
    "  cex.axis = 1.5,  # Axis text (tick labels)\n",
    "  cex.main = 1.5,  # Main title\n",
    "  cex.sub = 1.5    # Subtitle\n",
    ")\n",
    "\n",
    "# Define a custom theme with larger fonts\n",
    "custom_theme <- theme(\n",
    "  text = element_text(size = 16),            # Global text size\n",
    "  axis.title = element_text(size = 18),      # Axis labels\n",
    "  axis.text = element_text(size = 14),       # Axis tick labels\n",
    "  plot.title = element_text(size = 20),      # Main title\n",
    "  plot.subtitle = element_text(size = 16)    # Subtitle\n",
    ")\n",
    "\n",
    "# Apply the theme to all future plots\n",
    "theme_set(custom_theme)\n",
    "\n",
    "\n",
    "## DATA LOADING & PROCESSING ##\n",
    "# Load data\n",
    "path <- \"../../\" # modifier le nombre de ../ si nécessaire\n",
    "gym <- read.table(paste(path, \"gym_members_exercise_tracking.csv\", sep = \"\"),\n",
    "                    sep = \",\", header = TRUE)\n",
    "\n",
    "gym[,'Gender'] <- as.factor(gym[,'Gender'])\n",
    "gym[,'Workout_Type'] <- as.factor(gym[,'Workout_Type'])\n",
    "gym[,'Experience_Level'] <- as.factor(gym[,'Experience_Level'])\n",
    "gym[,'Workout_Frequency..days.week.'] <- as.factor(gym[,'Workout_Frequency..days.week.'])\n",
    "\n",
    "gym[, \"Weight..kg.\"] <- log(gym[,\"Weight..kg.\"])\n",
    "\n",
    "max_fat <- max(gym[,\"Fat_Percentage\"])\n",
    "gym[, \"Fat_Percentage\"] <- sqrt((max_fat + 1) - gym[,\"Fat_Percentage\"])\n",
    "\n",
    "# renome les variables Weight..kg. et BMI en LWeight et LBMI\n",
    "names(gym)[names(gym) == \"Weight..kg.\"] <- \"LWeight\"\n",
    "names(gym)[names(gym) == \"Fat_Percentage\"] <- \"SFat_Percentage\"\n",
    "\n",
    "gym <- gym %>% select(-c(BMI))\n",
    "\n",
    "# divide data into training and testing sets for experience level\n",
    "trainIndex <- createDataPartition(gym$Experience_Level, p = .8, \n",
    "                                  list = FALSE, \n",
    "                                  times = 1)\n",
    "gym_train <- gym[ trainIndex,]\n",
    "gym_test  <- gym[-trainIndex,]\n",
    "\n",
    "# Normalize the data\n",
    "gym_train_scaled = gym_train\n",
    "scaler <- scale(gym_train[,-c(2,10,13,14)])\n",
    "\n",
    "# Extract the center and scale attributes\n",
    "center <- attr(scaler, \"scaled:center\")\n",
    "scale <- attr(scaler, \"scaled:scale\")\n",
    "\n",
    "gym_train_scaled[,-c(2,10,13,14)] <- scale(gym_train[,-c(2,10,13,14)], center = center, scale = scale)\n",
    "\n",
    "gym_test_scaled = gym_test\n",
    "gym_test_scaled[,-c(2,10,13,14)] <- scale(gym_test[,-c(2,10,13,14)], center = center, scale = scale)\n",
    "\n",
    "\n",
    "cat(\"Data loaded and preprocessed\")"
   ]
  },
  {
   "cell_type": "code",
   "execution_count": 130,
   "metadata": {
    "vscode": {
     "languageId": "r"
    }
   },
   "outputs": [],
   "source": [
    "\n",
    "## FUNCTION DEFINITIONS ##\n",
    "\n",
    "# Function to plot residuals\n",
    "# x: predicted values\n",
    "# y: residuals\n",
    "gplot.res <- function(x, y, titre = \"titre\"){\n",
    "    ggplot(data.frame(x=x, y=y),aes(x,y))+\n",
    "    geom_point(col = \"blue\")+#xlim(0, 250)+ylim(-155, 155)+\n",
    "    ylab(\"Résidus\")+ xlab(\"Valeurs prédites\")+\n",
    "    ggtitle(titre)+\n",
    "    geom_hline(yintercept = 0,col=\"green\")\n",
    "}\n",
    "\n",
    "# Function to plot ROC curve\n",
    "# model: model to evaluate\n",
    "# data: data to evaluate\n",
    "# title: title of the plot\n",
    "plot_roc <- function(model, data, title = \"ROC curve\"){\n",
    "    pred <- predict(model, data, type = \"response\")\n",
    "    roc <- roc(data$Experience_Level, pred)\n",
    "    auc <- round(auc(roc), 2)\n",
    "    plot(roc, main = title)\n",
    "    text(0.8, 0.2, paste(\"AUC = \", auc), cex = 1.5)\n",
    "}\n",
    "\n",
    "#Fonction qui calcule et affiche le pourcentage d'erreur \n",
    "#à partirde la matrice de confusion\n",
    "\n",
    "pourcentage_erreur <- function(conf_matrix) {\n",
    "  total_samples <- sum(conf_matrix)\n",
    "  errors <- total_samples - sum(diag(conf_matrix))\n",
    "  error_percentage <- (errors / total_samples) * 100\n",
    "  print(paste(\"Pourcentage d'erreur :\", round(error_percentage, 2), \"%\"))\n",
    "}\n",
    "\n",
    "# Initialiser tableau des résultats\n",
    "results <- data.frame(\n",
    "  Methode = character(),\n",
    "  Score = numeric(),\n",
    "  Temps = numeric(),\n",
    "  stringsAsFactors = FALSE\n",
    ")"
   ]
  },
  {
   "cell_type": "markdown",
   "metadata": {},
   "source": [
    "## Regression logistique (optimisation Lasso)"
   ]
  },
  {
   "cell_type": "markdown",
   "metadata": {},
   "source": [
    "La régréssion logistque réalisée ici est multinomiale pour être adaptée à notre problème de clasification et prend en comte les interactions doubles. \n",
    "La fonction R glmnet calcule tous les modèles lasso (pénalisation L1, alpha=1 en argument) pour une séquence de 100 lambda puis évalue leurs performances par validation croisée. "
   ]
  },
  {
   "cell_type": "markdown",
   "metadata": {},
   "source": [
    " Les données utilisés sont les donnnés \"scalers\" (moyenne à 0 ecart-type à 1) pour ne pas donner plus d'importance à certaines variables (glmnet fait des pénalisation avec les normes L1 (alpha=1))."
   ]
  },
  {
   "cell_type": "code",
   "execution_count": 131,
   "metadata": {
    "vscode": {
     "languageId": "r"
    }
   },
   "outputs": [
    {
     "name": "stdout",
     "output_type": "stream",
     "text": [
      "[1] \"Temps d'exécution :  1.85748100280762\"\n",
      "[1] \"Best Lambda : 0.000566060562817942\"\n",
      "[1] \"LSE Lambda : 0.0069786591919684\"\n"
     ]
    },
    {
     "data": {
      "image/png": "[encoded data removed]",
      "text/plain": [
       "plot without title"
      ]
     },
     "metadata": {
      "image/png": {
       "height": 420,
       "width": 420
      }
     },
     "output_type": "display_data"
    }
   ],
   "source": [
    "t0 <- Sys.time()\n",
    "\n",
    "# Convertir les données en matrice pour glmnet\n",
    "# si ~ .^2 => erreur = 15% environ\n",
    "x <- model.matrix(Experience_Level ~ ., data = gym_train_scaled)[, -1] # Prédicteurs \n",
    "y <- model.matrix(~ Experience_Level + 0, data = gym_train_scaled)      # Réponse\n",
    "\n",
    "# Ajustement du modèle avec validation croisée\n",
    "cv_fit <- cv.glmnet(x, y, family = \"multinomial\", alpha = 1)\n",
    "autoplot(cv_fit)\n",
    "\n",
    "# Afficher le temps d'exécution\n",
    "t <- Sys.time()\n",
    "execution_time <- t - t0\n",
    "print(paste(\"Temps d'exécution : \", execution_time))\n",
    "\n",
    "# Afficher le meilleur lambda\n",
    "best_lambda <- cv_fit$lambda.min\n",
    "print(paste(\"Best Lambda :\", best_lambda))\n",
    "\n",
    "#Affiche le plus grand lambda envisageable\n",
    "lse_lambda <- cv_fit$lambda.1se\n",
    "print(paste(\"LSE Lambda :\", lse_lambda))"
   ]
  },
  {
   "cell_type": "markdown",
   "metadata": {},
   "source": [
    "- lambda petit= moins de pénalisation, modèle complexe avec beaucoup de variables non nulles \n",
    "- lambda grand= plus depénalisation, modèle simple avec bcp de coefs nulles\n",
    "- courbe = performance sur validation croisée sauf forme erreur de prédiction\n",
    "\n",
    "Le plus grand lambda qui minimise la deviance est lambda min = 0.000295; et le plus grand lambda dont la déviance est à moins de un écart-type du minimum est LSE lambda= 0.0052791. On garde ce dernier qui fait un compromis entre la simplicité et la robustesse du modèle. "
   ]
  },
  {
   "cell_type": "markdown",
   "metadata": {},
   "source": [
    "Le choix du lamabda nous permet de réduire le nombre de coeffcients selectionnés.\n"
   ]
  },
  {
   "cell_type": "code",
   "execution_count": 132,
   "metadata": {
    "vscode": {
     "languageId": "r"
    }
   },
   "outputs": [
    {
     "name": "stdout",
     "output_type": "stream",
     "text": [
      "$Experience_Level1\n",
      "18 x 1 sparse Matrix of class \"dgCMatrix\"\n",
      "                                        s0\n",
      "                                2.76270639\n",
      "Age                             0.04454661\n",
      "GenderMale                      .         \n",
      "LWeight                         .         \n",
      "Height..m.                      0.01526018\n",
      "Max_BPM                         .         \n",
      "Avg_BPM                         .         \n",
      "Resting_BPM                     .         \n",
      "Session_Duration..hours.       -1.15464048\n",
      "Calories_Burned                -0.17927720\n",
      "Workout_TypeHIIT                .         \n",
      "Workout_TypeStrength            .         \n",
      "Workout_TypeYoga                .         \n",
      "SFat_Percentage                 .         \n",
      "Water_Intake..liters.           .         \n",
      "Workout_Frequency..days.week.3  .         \n",
      "Workout_Frequency..days.week.4 -5.94077471\n",
      "Workout_Frequency..days.week.5  .         \n",
      "\n",
      "$Experience_Level2\n",
      "18 x 1 sparse Matrix of class \"dgCMatrix\"\n",
      "                                        s0\n",
      "                               -0.30941971\n",
      "Age                             .         \n",
      "GenderMale                      0.27531839\n",
      "LWeight                         .         \n",
      "Height..m.                      .         \n",
      "Max_BPM                         .         \n",
      "Avg_BPM                         .         \n",
      "Resting_BPM                     .         \n",
      "Session_Duration..hours.        .         \n",
      "Calories_Burned                 .         \n",
      "Workout_TypeHIIT               -0.13237245\n",
      "Workout_TypeStrength            0.02285378\n",
      "Workout_TypeYoga                0.01988554\n",
      "SFat_Percentage                 .         \n",
      "Water_Intake..liters.          -0.05468635\n",
      "Workout_Frequency..days.week.3  3.30909756\n",
      "Workout_Frequency..days.week.4  1.45969980\n",
      "Workout_Frequency..days.week.5  .         \n",
      "\n",
      "$Experience_Level3\n",
      "18 x 1 sparse Matrix of class \"dgCMatrix\"\n",
      "                                       s0\n",
      "                               -2.4532867\n",
      "Age                             .        \n",
      "GenderMale                     -0.5591016\n",
      "LWeight                         .        \n",
      "Height..m.                      .        \n",
      "Max_BPM                         .        \n",
      "Avg_BPM                         .        \n",
      "Resting_BPM                     .        \n",
      "Session_Duration..hours.        2.1919943\n",
      "Calories_Burned                 .        \n",
      "Workout_TypeHIIT                .        \n",
      "Workout_TypeStrength            .        \n",
      "Workout_TypeYoga                .        \n",
      "SFat_Percentage                 2.7748322\n",
      "Water_Intake..liters.           .        \n",
      "Workout_Frequency..days.week.3  .        \n",
      "Workout_Frequency..days.week.4  .        \n",
      "Workout_Frequency..days.week.5  1.2141021\n",
      "\n"
     ]
    }
   ],
   "source": [
    "# Choix du lambda\n",
    "chosen_lambda <- lse_lambda\n",
    "\n",
    "# Ajuster le modèle final avec le meilleur lambda\n",
    "final_model <- glmnet(x, y, family = \"multinomial\", alpha = 1, lambda = chosen_lambda)\n",
    "\n",
    "# Afficher les coefficients du modèle final\n",
    "print(coef(final_model))"
   ]
  },
  {
   "cell_type": "code",
   "execution_count": 133,
   "metadata": {
    "vscode": {
     "languageId": "r"
    }
   },
   "outputs": [
    {
     "name": "stdout",
     "output_type": "stream",
     "text": [
      "Experience_Level1 Experience_Level2 Experience_Level3 \n",
      "                5                 7                 4 \n"
     ]
    }
   ],
   "source": [
    "# Extraire tous les coefficients\n",
    "coefs_list <- coef(final_model)\n",
    "\n",
    "# Pour chaque classe, compter les coefficients non nuls (hors intercept)\n",
    "nombre_non_nuls_par_classe <- sapply(coefs_list, function(m) {\n",
    "  sum(m[-1, ] != 0)  # Enlève intercept (-1) et compte les non-zéros\n",
    "})\n",
    "\n",
    "# Afficher\n",
    "print(nombre_non_nuls_par_classe)"
   ]
  },
  {
   "cell_type": "markdown",
   "metadata": {},
   "source": [
    "La methode Lasso avec le lambda 1se permet de garder uniquement 5 coefficients pour la classe Experience_Level1, 7 pour Experience_Level2 et 4 pour Experience_Level3, contre 17 par classe à l'origine. "
   ]
  },
  {
   "cell_type": "markdown",
   "metadata": {},
   "source": [
    "On affiche la matrice de confusion associée à ce modèle. "
   ]
  },
  {
   "cell_type": "code",
   "execution_count": 134,
   "metadata": {
    "vscode": {
     "languageId": "r"
    }
   },
   "outputs": [
    {
     "name": "stdout",
     "output_type": "stream",
     "text": [
      "         Actual\n",
      "Predicted  1  2  3\n",
      "        1 67 19  0\n",
      "        2  8 62  0\n",
      "        3  0  0 38\n",
      "[1] \"Pourcentage d'erreur : 13.92 %\"\n"
     ]
    }
   ],
   "source": [
    "#matrice de confusion \n",
    "\n",
    "# Convertir les données test en matrice pour glmnet de la meme manière \n",
    "#que pour les données d'apprentissage \n",
    "# si ~ .^2 => erreur = 15% environ\n",
    "x_test <- model.matrix(Experience_Level ~ ., data = gym_test_scaled)[, -1]  # Prédicteurs\n",
    "y_test <- model.matrix(~ Experience_Level + 0, data = gym_test_scaled)  # Réponse réelle (one-hot)\n",
    "\n",
    "# Prédiction des probabilités pour chaque classe\n",
    "pred_probs <- predict(final_model, newx = x_test, type = \"response\") \n",
    "\n",
    "# Modification nécessaires pour tracer les courbes ROC \n",
    "probabilities_logit <- pred_probs[,,1]\n",
    "probabilities_logit <- as.data.frame(probabilities_logit)\n",
    "colnames(probabilities_logit) <- c(\"1\", \"2\", \"3\")\n",
    "\n",
    "\n",
    "# Convertir les probabilités en classes prédictes (classe avec proba max)\n",
    "pred_class <- apply(pred_probs, 1, which.max)\n",
    "# Convertir y_test en indices de classes réelles\n",
    "true_class_test <- apply(y_test, 1, which.max)\n",
    "\n",
    "# Construire la matrice de confusion\n",
    "conf_matrix_logit <- table(Predicted = pred_class, Actual = true_class)\n",
    "print(conf_matrix_logit)\n",
    "pourcentage_erreur(conf_matrix_logit)"
   ]
  },
  {
   "cell_type": "markdown",
   "metadata": {},
   "source": [
    "On voit qu'il y a eu des erreures de prédiction pour 28 persones, et ces erreures sont toujours entre les niveau d'expérience 1 et deux. Le pourcentage d'erreure de prédiction est de 14.43%, assez élevé. "
   ]
  },
  {
   "cell_type": "code",
   "execution_count": 135,
   "metadata": {
    "vscode": {
     "languageId": "r"
    }
   },
   "outputs": [],
   "source": [
    "# Calcul de l'AUC multiclass \n",
    "roc_result <- multiclass.roc(true_class_test, probabilities_logit)\n",
    "auc_value <- auc(roc_result)\n",
    "\n",
    "results <- rbind(results, data.frame(\n",
    "  Methode = \"Logit\",\n",
    "  Score = auc_value,\n",
    "  Temps = as.numeric(execution_time, units = \"secs\")\n",
    "))"
   ]
  },
  {
   "cell_type": "markdown",
   "metadata": {},
   "source": [
    "### Analyse Discriminante Linéaire LDA"
   ]
  },
  {
   "cell_type": "code",
   "execution_count": 136,
   "metadata": {
    "vscode": {
     "languageId": "r"
    }
   },
   "outputs": [],
   "source": [
    "# Initialisation de la validation croisée avec 10 folds\n",
    "# Intervient dès que l'on utilise la\n",
    "# fonction train du package caret\n",
    "param_train<-trainControl(method=\"cv\",number=10)"
   ]
  },
  {
   "cell_type": "code",
   "execution_count": 137,
   "metadata": {
    "vscode": {
     "languageId": "r"
    }
   },
   "outputs": [
    {
     "name": "stdout",
     "output_type": "stream",
     "text": [
      "[1] \"Temps d'exécution :  0.768541097640991\"\n",
      "   predictions_lda\n",
      "     1  2  3\n",
      "  1 64 11  0\n",
      "  2 17 64  0\n",
      "  3  0  0 38\n",
      "[1] \"Pourcentage d'erreur : 14.43 %\"\n"
     ]
    }
   ],
   "source": [
    "t0 <- Sys.time()\n",
    "\n",
    "lda.fit<-train(Experience_Level ~ ., data = gym_train_scaled, method=\"lda\")\n",
    "\n",
    "# erreur par validation croisée  en analyse discriminante linéaire\n",
    "lda.fit <- train(Experience_Level ~ ., data = gym_train_scaled, method=\"lda\",trControl=param_train)\n",
    "\n",
    "predictions_lda <-predict(lda.fit, gym_test_scaled)\n",
    "probabilities_lda <-predict(lda.fit, gym_test_scaled, type=\"prob\")\n",
    "\n",
    "# Afficher le temps d'exécution\n",
    "t <- Sys.time()\n",
    "execution_time <- t - t0\n",
    "print(paste(\"Temps d'exécution : \", execution_time))\n",
    "\n",
    "# estimer le taux d'erreur à partir de la matrice de confusion\n",
    "conf_matrix_lda=table(gym_test_scaled[,\"Experience_Level\"],predictions_lda)\n",
    "print(conf_matrix_lda)\n",
    "pourcentage_erreur(conf_matrix_lda)\n",
    "\n"
   ]
  },
  {
   "cell_type": "markdown",
   "metadata": {},
   "source": [
    "Le pourcentage d'erreur est très proche de celui obtenus avec la regression logistque optimisée par Lasso. Les erreurs sont à nouveau entre les niveaux d'expérience 1 et 2, cette fois il y a plus d'individus prédits du niveau 2 alors qu'il sont du niveau 1."
   ]
  },
  {
   "cell_type": "code",
   "execution_count": 138,
   "metadata": {
    "vscode": {
     "languageId": "r"
    }
   },
   "outputs": [],
   "source": [
    "# AUC multiclasse\n",
    "roc_result <- multiclass.roc(true_class_test, probabilities_lda)\n",
    "auc_value <- auc(roc_result)\n",
    "\n",
    "# Ajouter au tableau des résultats\n",
    "results <- rbind(results, data.frame(\n",
    "  Methode = \"LDA\",\n",
    "  Score = auc_value,\n",
    "  Temps = as.numeric(execution_time, units = \"secs\")\n",
    "))"
   ]
  },
  {
   "cell_type": "markdown",
   "metadata": {},
   "source": [
    "### k-Nearest Neighbour Classification (kNN)"
   ]
  },
  {
   "cell_type": "code",
   "execution_count": 139,
   "metadata": {
    "vscode": {
     "languageId": "r"
    }
   },
   "outputs": [
    {
     "name": "stdout",
     "output_type": "stream",
     "text": [
      "[1] \"Temps d'exécution :  1.86749601364136\"\n",
      "   predictions_knn\n",
      "     1  2  3\n",
      "  1 43 32  0\n",
      "  2 11 70  0\n",
      "  3  0  0 38\n",
      "[1] \"Pourcentage d'erreur : 22.16 %\"\n"
     ]
    }
   ],
   "source": [
    "#knn.fit<-train(Experience_Level ~ ., data = gym_train_scaled ,method=\"knn\")\n",
    "\n",
    "t0 <- Sys.time() \n",
    "\n",
    "# erreur par validation croisée  en kNN\n",
    "knn.fit <- train(Experience_Level ~ ., data = gym_train_scaled, method=\"knn\",trControl=param_train,tuneLength=20)\n",
    "\n",
    "predictions_knn <-predict(knn.fit, gym_test_scaled)\n",
    "probabilities_knn <-predict(knn.fit, gym_test_scaled, type=\"prob\")\n",
    "\n",
    "# Afficher le temps d'exécution\n",
    "t <- Sys.time()\n",
    "execution_time <- t - t0\n",
    "print(paste(\"Temps d'exécution : \", execution_time))\n",
    "\n",
    "# estimer le taux d'erreur à partir de la matrice de confusion\n",
    "conf_matrix_knn=table(gym_test_scaled[,\"Experience_Level\"],predictions_knn)\n",
    "print(conf_matrix_knn)\n",
    "pourcentage_erreur(conf_matrix_knn)"
   ]
  },
  {
   "cell_type": "markdown",
   "metadata": {},
   "source": [
    "Le pourcentage d'erreur de prédiction est nettement plus élevé que pour les deux derniers modèle, il dépasse les 20%. Le modèle de prédiction par KNN est mauvais. On retrouve que les niveau d'expérience 1 et 2 sont souvent mélangés. "
   ]
  },
  {
   "cell_type": "code",
   "execution_count": 140,
   "metadata": {
    "vscode": {
     "languageId": "r"
    }
   },
   "outputs": [],
   "source": [
    "# AUC multiclasse\n",
    "roc_result <- multiclass.roc(true_class_test, probabilities_knn)\n",
    "auc_value <- auc(roc_result)\n",
    "\n",
    "# Ajouter au tableau des résultats\n",
    "results <- rbind(results, data.frame(\n",
    "  Methode = \"KNN\",\n",
    "  Score = auc_value,\n",
    "  Temps = as.numeric(execution_time, units = \"secs\")\n",
    "))"
   ]
  },
  {
   "cell_type": "markdown",
   "metadata": {},
   "source": [
    "### SVM kernel radial "
   ]
  },
  {
   "cell_type": "code",
   "execution_count": 141,
   "metadata": {
    "vscode": {
     "languageId": "r"
    }
   },
   "outputs": [
    {
     "name": "stdout",
     "output_type": "stream",
     "text": [
      "[1] \"Temps d'exécution :  29.4472100734711\"\n"
     ]
    },
    {
     "data": {
      "image/png": "[encoded data removed]",
      "text/plain": [
       "Plot with title \"Performance of `svm'\""
      ]
     },
     "metadata": {
      "image/png": {
       "height": 420,
       "width": 420
      }
     },
     "output_type": "display_data"
    }
   ],
   "source": [
    "t0 <- Sys.time()\n",
    "\n",
    "#La zone de recherche est volontairement déjà centré sur les paramètres optimaux\n",
    "svm.rad.tune = tune.svm(Experience_Level ~ ., data = gym_train_scaled, cost = c(2, 2.5, 3, 3.5,4,4.5), \n",
    "    gamma = seq(0.01, 0.1, by = 0.02), kernel= \"radial\")\n",
    "plot(svm.rad.tune)\n",
    "\n",
    "# Afficher le temps d'exécution\n",
    "t <- Sys.time()\n",
    "execution_time <- t - t0\n",
    "print(paste(\"Temps d'exécution : \", execution_time))"
   ]
  },
  {
   "cell_type": "code",
   "execution_count": 142,
   "metadata": {
    "vscode": {
     "languageId": "r"
    }
   },
   "outputs": [
    {
     "name": "stdout",
     "output_type": "stream",
     "text": [
      "   pred.svm.rad\n",
      "     1  2  3\n",
      "  1 63 12  0\n",
      "  2 17 64  0\n",
      "  3  0  0 38\n",
      "[1] \"Pourcentage d'erreur : 14.95 %\"\n"
     ]
    }
   ],
   "source": [
    "svm.rad = svm(Experience_Level ~ ., data = gym_train_scaled, \n",
    "              cost = svm.rad.tune$best.parameters$cost, \n",
    "              gamma = svm.rad.tune$best.parameters$gamma,\n",
    "              probability=TRUE)\n",
    "\n",
    "pred.svm.rad=predict(svm.rad,newdata=gym_test_scaled,probability=TRUE)\n",
    "\n",
    "#Utiles pour les courbes ROC :\n",
    "probabilities_svm.rad <- attr(pred.svm.rad, \"probabilities\")\n",
    "probabilities_svm.rad <- as.data.frame(probabilities_svm.rad)\n",
    "probabilities_svm.rad <- probabilities_svm.rad[, c(\"1\", \"2\", \"3\")]\n",
    "\n",
    "conf_matrix_svm.rad=table(gym_test_scaled[,\"Experience_Level\"],pred.svm.rad)\n",
    "print(conf_matrix_svm.rad)\n",
    "pourcentage_erreur(conf_matrix_svm.rad)"
   ]
  },
  {
   "cell_type": "markdown",
   "metadata": {},
   "source": [
    "Le modèle présente des performances similaires à celles de la régression logistique et de l’analyse discriminante linéaire, avec une erreur de prédiction de 14,95 %. Les erreurs concernent uniquement une confusion entre les niveaux 1 et 2. En revanche, le temps d’exécution est long, autour de 30 secondes."
   ]
  },
  {
   "cell_type": "code",
   "execution_count": 143,
   "metadata": {
    "vscode": {
     "languageId": "r"
    }
   },
   "outputs": [],
   "source": [
    "# AUC multiclasse\n",
    "roc_result <- multiclass.roc(true_class_test, probabilities_svm.rad)\n",
    "auc_value <- auc(roc_result)\n",
    "\n",
    "# Ajouter au tableau des résultats\n",
    "results <- rbind(results, data.frame(\n",
    "  Methode = \"SVM radiale\",\n",
    "  Score = auc_value,\n",
    "  Temps = as.numeric(execution_time, units = \"secs\")\n",
    "))"
   ]
  },
  {
   "cell_type": "markdown",
   "metadata": {},
   "source": [
    "### SVM kernel polynomial"
   ]
  },
  {
   "cell_type": "code",
   "execution_count": 144,
   "metadata": {
    "vscode": {
     "languageId": "r"
    }
   },
   "outputs": [
    {
     "name": "stdout",
     "output_type": "stream",
     "text": [
      "[1] \"Temps d'exécution :  9.83239912986755\"\n"
     ]
    },
    {
     "data": {
      "image/png": "[encoded data removed]",
      "text/plain": [
       "Plot with title \"Performance of `svm'\""
      ]
     },
     "metadata": {
      "image/png": {
       "height": 420,
       "width": 420
      }
     },
     "output_type": "display_data"
    }
   ],
   "source": [
    "# On peut rajouter :\n",
    "# coef0 = c(0.5,1,1.5), degree= c(2,3)\n",
    "# Mais c'est trop long\n",
    "\n",
    "t0 <- Sys.time()\n",
    "\n",
    "svm.pol.tune = tune.svm(Experience_Level ~ ., data = gym_train_scaled, kernel= \"polynomial\", cost = c(3.5,4,4.5,5), \n",
    "    gamma = seq(0.01, 0.1, by = 0.02), coef0=1, degree=3) \n",
    "\n",
    "plot(svm.rad.tune)\n",
    "\n",
    "# Afficher le temps d'exécution\n",
    "t <- Sys.time()\n",
    "execution_time <- t - t0\n",
    "print(paste(\"Temps d'exécution : \", execution_time))"
   ]
  },
  {
   "cell_type": "markdown",
   "metadata": {},
   "source": [
    "Le temps d'execution plus raisonnable (11s). En revenche elle de plusieurs minutes quand on ajoute l'optimisation de 'cef0' et 'degree'."
   ]
  },
  {
   "cell_type": "code",
   "execution_count": 145,
   "metadata": {
    "vscode": {
     "languageId": "r"
    }
   },
   "outputs": [
    {
     "name": "stdout",
     "output_type": "stream",
     "text": [
      "   pred.svm.pol\n",
      "     1  2  3\n",
      "  1 64 11  0\n",
      "  2 17 64  0\n",
      "  3  0  0 38\n",
      "[1] \"Pourcentage d'erreur : 14.43 %\"\n"
     ]
    }
   ],
   "source": [
    "svm.pol = svm(Experience_Level ~ ., data = gym_train_scaled, kernel= \"polynomial\",\n",
    "              cost = svm.pol.tune$best.parameters$cost, \n",
    "              gamma = svm.pol.tune$best.parameters$gamma,\n",
    "              coef0 = 1,\n",
    "              degree = 3,\n",
    "              probability=TRUE)\n",
    "\n",
    "pred.svm.pol=predict(svm.pol,newdata=gym_test_scaled,probability=TRUE)\n",
    "\n",
    "#Utiles pour les courbes ROC :\n",
    "probabilities_svm.pol <- attr(pred.svm.pol, \"probabilities\")\n",
    "probabilities_svm.pol <- as.data.frame(probabilities_svm.pol)\n",
    "probabilities_svm.pol <- probabilities_svm.pol[, c(\"1\", \"2\", \"3\")]\n",
    "\n",
    "conf_matrix_svm.pol=table(gym_test_scaled[,\"Experience_Level\"],pred.svm.pol)\n",
    "print(conf_matrix_svm.pol)\n",
    "pourcentage_erreur(conf_matrix_svm.pol)"
   ]
  },
  {
   "cell_type": "markdown",
   "metadata": {},
   "source": [
    "Pas d'amélioration par rapport au kernel radial sur l'erreur mais une diminution de 20s du temps d'execution. "
   ]
  },
  {
   "cell_type": "code",
   "execution_count": 146,
   "metadata": {
    "vscode": {
     "languageId": "r"
    }
   },
   "outputs": [],
   "source": [
    "# AUC multiclasse\n",
    "roc_result <- multiclass.roc(true_class_test, probabilities_svm.pol)\n",
    "auc_value <- auc(roc_result)\n",
    "\n",
    "# Ajouter au tableau des résultats\n",
    "results <- rbind(results, data.frame(\n",
    "  Methode = \"SVM polynomiale\",\n",
    "  Score = auc_value,\n",
    "  Temps = as.numeric(execution_time, units = \"secs\")\n",
    "))"
   ]
  },
  {
   "cell_type": "markdown",
   "metadata": {},
   "source": [
    "## Conclusion partie 1 classification "
   ]
  },
  {
   "cell_type": "markdown",
   "metadata": {},
   "source": [
    "### Courbes ROC"
   ]
  },
  {
   "cell_type": "code",
   "execution_count": 149,
   "metadata": {
    "vscode": {
     "languageId": "r"
    }
   },
   "outputs": [
    {
     "name": "stderr",
     "output_type": "stream",
     "text": [
      "Setting levels: control = FALSE, case = TRUE\n",
      "\n",
      "Setting direction: controls < cases\n",
      "\n"
     ]
    },
    {
     "data": {
      "text/html": [
       "0.959357587676172"
      ],
      "text/latex": [
       "0.959357587676172"
      ],
      "text/markdown": [
       "0.959357587676172"
      ],
      "text/plain": [
       "Area under the curve: 0.9594"
      ]
     },
     "metadata": {},
     "output_type": "display_data"
    },
    {
     "data": {
      "image/png": "[encoded data removed]",
      "text/plain": [
       "Plot with title \"ROC - Classe 2\""
      ]
     },
     "metadata": {
      "image/png": {
       "height": 420,
       "width": 420
      }
     },
     "output_type": "display_data"
    }
   ],
   "source": [
    "library(pROC)\n",
    "\n",
    "cl <- \"2\"\n",
    "true_class_test <- as.character(true_class_test)\n",
    "response_test <- true_class_test == cl\n",
    "predictor_test <- all_probs[[model]][, cl]\n",
    "\n",
    "roc_test <- roc(response = response_test, predictor = predictor_test)\n",
    "\n",
    "plot(roc_test, legacy.axes = TRUE, main = paste(\"ROC - Classe\", cl))\n",
    "auc(roc_test)"
   ]
  },
  {
   "cell_type": "code",
   "execution_count": null,
   "metadata": {
    "vscode": {
     "languageId": "r"
    }
   },
   "outputs": [],
   "source": []
  },
  {
   "cell_type": "code",
   "execution_count": 153,
   "metadata": {
    "vscode": {
     "languageId": "r"
    }
   },
   "outputs": [
    {
     "name": "stderr",
     "output_type": "stream",
     "text": [
      "Setting levels: control = FALSE, case = TRUE\n",
      "\n",
      "Setting direction: controls < cases\n",
      "\n",
      "Setting levels: control = FALSE, case = TRUE\n",
      "\n",
      "Setting direction: controls < cases\n",
      "\n",
      "Setting levels: control = FALSE, case = TRUE\n",
      "\n",
      "Setting direction: controls < cases\n",
      "\n",
      "Setting levels: control = FALSE, case = TRUE\n",
      "\n",
      "Setting direction: controls < cases\n",
      "\n",
      "Setting levels: control = FALSE, case = TRUE\n",
      "\n",
      "Setting direction: controls < cases\n",
      "\n",
      "Setting levels: control = FALSE, case = TRUE\n",
      "\n",
      "Setting direction: controls < cases\n",
      "\n",
      "Setting levels: control = FALSE, case = TRUE\n",
      "\n",
      "Setting direction: controls < cases\n",
      "\n",
      "Setting levels: control = FALSE, case = TRUE\n",
      "\n",
      "Setting direction: controls < cases\n",
      "\n",
      "Setting levels: control = FALSE, case = TRUE\n",
      "\n",
      "Setting direction: controls < cases\n",
      "\n",
      "Setting levels: control = FALSE, case = TRUE\n",
      "\n",
      "Setting direction: controls < cases\n",
      "\n",
      "Setting levels: control = FALSE, case = TRUE\n",
      "\n",
      "Setting direction: controls < cases\n",
      "\n",
      "Setting levels: control = FALSE, case = TRUE\n",
      "\n",
      "Setting direction: controls < cases\n",
      "\n",
      "Setting levels: control = FALSE, case = TRUE\n",
      "\n",
      "Setting direction: controls < cases\n",
      "\n",
      "Setting levels: control = FALSE, case = TRUE\n",
      "\n",
      "Setting direction: controls < cases\n",
      "\n",
      "Setting levels: control = FALSE, case = TRUE\n",
      "\n",
      "Setting direction: controls < cases\n",
      "\n"
     ]
    },
    {
     "data": {
      "image/png": "[encoded data removed]",
      "text/plain": [
       "Plot with title \"ROC - Classe 1\""
      ]
     },
     "metadata": {
      "image/png": {
       "height": 420,
       "width": 420
      }
     },
     "output_type": "display_data"
    },
    {
     "data": {
      "image/png": "[encoded data removed]",
      "text/plain": [
       "Plot with title \"ROC - Classe 2\""
      ]
     },
     "metadata": {
      "image/png": {
       "height": 420,
       "width": 420
      }
     },
     "output_type": "display_data"
    },
    {
     "data": {
      "image/png": "[encoded data removed]",
      "text/plain": [
       "Plot with title \"ROC - Classe 3\""
      ]
     },
     "metadata": {
      "image/png": {
       "height": 420,
       "width": 420
      }
     },
     "output_type": "display_data"
    }
   ],
   "source": [
    "library(pROC)\n",
    "\n",
    "for (cl in 1:3) {\n",
    "  # Paramètres\n",
    "  #cl <- \"2\"  # classe d’intérêt\n",
    "  models <- names(all_probs)  # les deux modèles à comparer\n",
    "  # Génération automatique d'autant de couleurs qu'il y a de modèles\n",
    "  colors <- rainbow(length(models))\n",
    "  names(colors) <- models\n",
    "\n",
    "\n",
    "  # Sécuriser les étiquettes\n",
    "  true_class_test <- as.character(true_class_test)\n",
    "  response_test <- true_class_test == cl\n",
    "\n",
    "  # Préparer la liste pour stocker les objets ROC\n",
    "  roc_list <- list()\n",
    "\n",
    "  # Boucle sur les deux modèles\n",
    "  for (model in models) {\n",
    "    predictor_test <- all_probs[[model]][, cl]\n",
    "    roc_obj <- roc(response = response_test, predictor = predictor_test)\n",
    "    roc_list[[model]] <- roc_obj\n",
    "  }\n",
    "\n",
    "  # Tracer la première courbe pour initialiser le plot\n",
    "  plot(roc_list[[models[1]]],\n",
    "      col = colors[models[1]],\n",
    "      lwd = 2,\n",
    "      legacy.axes = TRUE,\n",
    "      main = paste(\"ROC - Classe\", cl),\n",
    "      print.auc = FALSE)\n",
    "\n",
    "  for (i in 2:length(models)) {\n",
    "    # Ajouter les courbes ROC pour chaque modèle\n",
    "    lines(roc_list[[models[i]]], col = colors[models[i]], lwd = 2)\n",
    "  }\n",
    "\n",
    "  legend(\"bottomright\", legend = names(all_probs), col = colors, lwd = 2)\n",
    "}\n",
    "\n",
    " "
   ]
  },
  {
   "cell_type": "markdown",
   "metadata": {},
   "source": [
    "On constate ainsément que pour les niveaux d'expérience 1 et 2, le modèle KNN est le moins performant (courbe verte). Les 4 autres modèles ont des performances assez proches, mais la courbe associée à la regression logit étant souvent legerment au dessus des autres, c'est ce modèle le plus performant. "
   ]
  },
  {
   "cell_type": "markdown",
   "metadata": {},
   "source": [
    "### Tableau recapitulatif "
   ]
  },
  {
   "cell_type": "code",
   "execution_count": 152,
   "metadata": {
    "vscode": {
     "languageId": "r"
    }
   },
   "outputs": [
    {
     "name": "stdout",
     "output_type": "stream",
     "text": [
      "          Methode     Score      Temps\n",
      "1           Logit 0.9812620  1.8574810\n",
      "2             LDA 0.9802469  0.7685411\n",
      "3             KNN 0.9272312  1.8674960\n",
      "4     SVM radiale 0.9737997 29.4472101\n",
      "5 SVM polynomiale 0.9796433  9.8323991\n"
     ]
    }
   ],
   "source": [
    "print(results)"
   ]
  },
  {
   "cell_type": "markdown",
   "metadata": {},
   "source": [
    "Le modèle avec le meilleur score, qui est ici un score de généralisation AUC (air sous la courbe ROC), est la regression logistique avec optimisation Lasso. Cette methode à un temps d'execution très court: 2.3 s. Le modèle le moins efficace est KNN, qui n'est pas adapté à notre situation. "
   ]
  }
 ],
 "metadata": {
  "kernelspec": {
   "display_name": "R",
   "language": "R",
   "name": "ir"
  },
  "language_info": {
   "codemirror_mode": "r",
   "file_extension": ".r",
   "mimetype": "text/x-r-source",
   "name": "R",
   "pygments_lexer": "r",
   "version": "4.2.2"
  }
 },
 "nbformat": 4,
 "nbformat_minor": 2
}
