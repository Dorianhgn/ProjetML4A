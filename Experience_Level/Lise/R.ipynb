{
 "cells": [
  {
   "cell_type": "code",
   "execution_count": 87,
   "metadata": {
    "vscode": {
     "languageId": "r"
    }
   },
   "outputs": [
    {
     "data": {
      "text/plain": [
       "[1] '3.5.1'"
      ]
     },
     "metadata": {},
     "output_type": "display_data"
    },
    {
     "data": {
      "text/html": [
       "'C:/Users/LiLi/AppData/Local/R/win-library/4.2/ggplot2'"
      ],
      "text/latex": [
       "'C:/Users/LiLi/AppData/Local/R/win-library/4.2/ggplot2'"
      ],
      "text/markdown": [
       "'C:/Users/LiLi/AppData/Local/R/win-library/4.2/ggplot2'"
      ],
      "text/plain": [
       "[1] \"C:/Users/LiLi/AppData/Local/R/win-library/4.2/ggplot2\""
      ]
     },
     "metadata": {},
     "output_type": "display_data"
    }
   ],
   "source": [
    "packageVersion(\"ggplot2\")\n",
    "find.package(\"ggplot2\")"
   ]
  },
  {
   "cell_type": "markdown",
   "metadata": {},
   "source": []
  },
  {
   "cell_type": "code",
   "execution_count": 88,
   "metadata": {
    "vscode": {
     "languageId": "r"
    }
   },
   "outputs": [
    {
     "name": "stderr",
     "output_type": "stream",
     "text": [
      "Installation du package dans 'C:/Users/LiLi/AppData/Local/R/win-library/4.2'\n",
      "(car 'lib' n'est pas spécifié)\n",
      "\n"
     ]
    },
    {
     "name": "stdout",
     "output_type": "stream",
     "text": [
      "\n",
      "  Une version binaire est disponible mais la version du source est plus\n",
      "  récente:\n",
      "     binary source needs_compilation\n",
      "nnet 7.3-19 7.3-20              TRUE\n",
      "\n",
      "  Binaries will be installed\n",
      "le package 'nnet' a été décompressé et les sommes MD5 ont été vérifiées avec succés\n"
     ]
    },
    {
     "name": "stderr",
     "output_type": "stream",
     "text": [
      "Warning message:\n",
      "\"impossible de supprimer l'installation précédente du package 'nnet'\"\n",
      "Warning message in file.copy(savedcopy, lib, recursive = TRUE):\n",
      "\"problème lors de la copie de C:\\Users\\LiLi\\AppData\\Local\\R\\win-library\\4.2\\00LOCK\\nnet\\libs\\x64\\nnet.dll vers C:\\Users\\LiLi\\AppData\\Local\\R\\win-library\\4.2\\nnet\\libs\\x64\\nnet.dll: Permission denied\"\n",
      "Warning message:\n",
      "\"'nnet' restauré\"\n"
     ]
    },
    {
     "name": "stdout",
     "output_type": "stream",
     "text": [
      "\n",
      "Les packages binaires téléchargés sont dans\n",
      "\tC:\\Users\\LiLi\\AppData\\Local\\Temp\\Rtmp2rgHf5\\downloaded_packages\n"
     ]
    }
   ],
   "source": [
    "\n",
    "\n",
    "install.packages(\"nnet\")\n"
   ]
  },
  {
   "cell_type": "markdown",
   "metadata": {},
   "source": [
    "# R Experience Level:  Regression logistique, LDA, KNN, SVM"
   ]
  },
  {
   "cell_type": "code",
   "execution_count": 2,
   "metadata": {
    "vscode": {
     "languageId": "r"
    }
   },
   "outputs": [
    {
     "name": "stderr",
     "output_type": "stream",
     "text": [
      "Warning message:\n",
      "\"le package 'ggplot2' a été compilé avec la version R 4.2.3\"\n",
      "Warning message:\n",
      "\"le package 'tidyverse' a été compilé avec la version R 4.2.3\"\n",
      "Warning message:\n",
      "\"le package 'tibble' a été compilé avec la version R 4.2.3\"\n",
      "Warning message:\n",
      "\"le package 'readr' a été compilé avec la version R 4.2.3\"\n",
      "Warning message:\n",
      "\"le package 'dplyr' a été compilé avec la version R 4.2.3\"\n",
      "Warning message:\n",
      "\"le package 'forcats' a été compilé avec la version R 4.2.3\"\n",
      "Warning message:\n",
      "\"le package 'lubridate' a été compilé avec la version R 4.2.3\"\n",
      "── \u001b[1mAttaching core tidyverse packages\u001b[22m ──────────────────────── tidyverse 2.0.0 ──\n",
      "\u001b[32m✔\u001b[39m \u001b[34mdplyr    \u001b[39m 1.1.4     \u001b[32m✔\u001b[39m \u001b[34mreadr    \u001b[39m 2.1.5\n",
      "\u001b[32m✔\u001b[39m \u001b[34mforcats  \u001b[39m 1.0.0     \u001b[32m✔\u001b[39m \u001b[34mstringr  \u001b[39m 1.5.0\n",
      "\u001b[32m✔\u001b[39m \u001b[34mlubridate\u001b[39m 1.9.3     \u001b[32m✔\u001b[39m \u001b[34mtibble   \u001b[39m 3.2.1\n",
      "\u001b[32m✔\u001b[39m \u001b[34mpurrr    \u001b[39m 1.0.1     \u001b[32m✔\u001b[39m \u001b[34mtidyr    \u001b[39m 1.3.0\n",
      "── \u001b[1mConflicts\u001b[22m ────────────────────────────────────────── tidyverse_conflicts() ──\n",
      "\u001b[31m✖\u001b[39m \u001b[34mdplyr\u001b[39m::\u001b[32mfilter()\u001b[39m masks \u001b[34mstats\u001b[39m::filter()\n",
      "\u001b[31m✖\u001b[39m \u001b[34mdplyr\u001b[39m::\u001b[32mlag()\u001b[39m    masks \u001b[34mstats\u001b[39m::lag()\n",
      "\u001b[36mℹ\u001b[39m Use the conflicted package (\u001b[3m\u001b[34m<http://conflicted.r-lib.org/>\u001b[39m\u001b[23m) to force all conflicts to become errors\n",
      "Warning message:\n",
      "\"le package 'gridExtra' a été compilé avec la version R 4.2.3\"\n",
      "\n",
      "Attachement du package : 'gridExtra'\n",
      "\n",
      "\n",
      "L'objet suivant est masqué depuis 'package:dplyr':\n",
      "\n",
      "    combine\n",
      "\n",
      "\n",
      "Warning message:\n",
      "\"le package 'GGally' a été compilé avec la version R 4.2.3\"\n",
      "Registered S3 method overwritten by 'GGally':\n",
      "  method from   \n",
      "  +.gg   ggplot2\n",
      "\n",
      "Warning message:\n",
      "\"le package 'plotly' a été compilé avec la version R 4.2.3\"\n",
      "\n",
      "Attachement du package : 'plotly'\n",
      "\n",
      "\n",
      "L'objet suivant est masqué depuis 'package:ggplot2':\n",
      "\n",
      "    last_plot\n",
      "\n",
      "\n",
      "L'objet suivant est masqué depuis 'package:stats':\n",
      "\n",
      "    filter\n",
      "\n",
      "\n",
      "L'objet suivant est masqué depuis 'package:graphics':\n",
      "\n",
      "    layout\n",
      "\n",
      "\n",
      "corrplot 0.92 loaded\n",
      "\n",
      "Warning message:\n",
      "\"le package 'reshape2' a été compilé avec la version R 4.2.3\"\n",
      "\n",
      "Attachement du package : 'reshape2'\n",
      "\n",
      "\n",
      "L'objet suivant est masqué depuis 'package:tidyr':\n",
      "\n",
      "    smiths\n",
      "\n",
      "\n",
      "Warning message:\n",
      "\"le package 'factoextra' a été compilé avec la version R 4.2.3\"\n",
      "Welcome! Want to learn more? See two factoextra-related books at https://goo.gl/ve3WBa\n",
      "\n",
      "Warning message:\n",
      "\"le package 'glmnet' a été compilé avec la version R 4.2.3\"\n",
      "Le chargement a nécessité le package : Matrix\n",
      "\n",
      "\n",
      "Attachement du package : 'Matrix'\n",
      "\n",
      "\n",
      "Les objets suivants sont masqués depuis 'package:tidyr':\n",
      "\n",
      "    expand, pack, unpack\n",
      "\n",
      "\n",
      "Loaded glmnet 4.1-8\n",
      "\n",
      "Warning message:\n",
      "\"le package 'ggfortify' a été compilé avec la version R 4.2.3\"\n",
      "Warning message:\n",
      "\"le package 'pROC' a été compilé avec la version R 4.2.3\"\n",
      "Type 'citation(\"pROC\")' for a citation.\n",
      "\n",
      "\n",
      "Attachement du package : 'pROC'\n",
      "\n",
      "\n",
      "Les objets suivants sont masqués depuis 'package:stats':\n",
      "\n",
      "    cov, smooth, var\n",
      "\n",
      "\n",
      "Warning message:\n",
      "\"le package 'ROCR' a été compilé avec la version R 4.2.3\"\n",
      "Warning message:\n",
      "\"le package 'repr' a été compilé avec la version R 4.2.3\"\n",
      "Warning message:\n",
      "\"le package 'recipes' a été compilé avec la version R 4.2.3\"\n",
      "\n",
      "Attachement du package : 'recipes'\n",
      "\n",
      "\n",
      "L'objet suivant est masqué depuis 'package:Matrix':\n",
      "\n",
      "    update\n",
      "\n",
      "\n",
      "L'objet suivant est masqué depuis 'package:stringr':\n",
      "\n",
      "    fixed\n",
      "\n",
      "\n",
      "L'objet suivant est masqué depuis 'package:stats':\n",
      "\n",
      "    step\n",
      "\n",
      "\n",
      "Warning message:\n",
      "\"le package 'caret' a été compilé avec la version R 4.2.3\"\n",
      "Le chargement a nécessité le package : lattice\n",
      "\n",
      "\n",
      "Attachement du package : 'caret'\n",
      "\n",
      "\n",
      "L'objet suivant est masqué depuis 'package:purrr':\n",
      "\n",
      "    lift\n",
      "\n",
      "\n",
      "Warning message:\n",
      "\"le package 'e1071' a été compilé avec la version R 4.2.3\"\n"
     ]
    }
   ],
   "source": [
    "library(ggplot2)\n",
    "library(tidyverse)\n",
    "library(gridExtra)\n",
    "library(GGally)\n",
    "library(plotly)\n",
    "library(corrplot)\n",
    "library(reshape2)\n",
    "library(FactoMineR) \n",
    "library(factoextra)\n",
    "library(glmnet) \n",
    "library(ggfortify)\n",
    "library(pROC)\n",
    "library(ROCR)\n",
    "library(repr)\n",
    "library(recipes)\n",
    "library(caret)\n",
    "library(e1071)\n"
   ]
  },
  {
   "cell_type": "code",
   "execution_count": 3,
   "metadata": {
    "vscode": {
     "languageId": "r"
    }
   },
   "outputs": [],
   "source": [
    "#library(nnet)\n",
    "library(mlr3)\n",
    "library(mlr3learners)\n",
    "library(RColorBrewer)\n",
    "library(e1071)\n",
    "library(rpart)\n",
    "#library(rpart.plot)"
   ]
  },
  {
   "cell_type": "code",
   "execution_count": null,
   "metadata": {
    "vscode": {
     "languageId": "r"
    }
   },
   "outputs": [],
   "source": []
  },
  {
   "cell_type": "code",
   "execution_count": 4,
   "metadata": {
    "vscode": {
     "languageId": "r"
    }
   },
   "outputs": [
    {
     "name": "stdout",
     "output_type": "stream",
     "text": [
      "Data loaded and preprocessed"
     ]
    }
   ],
   "source": [
    "# fix random seed for reproducibility\n",
    "set.seed(1234)\n",
    "\n",
    "## GRAPH SETTINGS ##\n",
    "# Save original parameters (optional)\n",
    "original_par <- par(no.readonly = TRUE)\n",
    "\n",
    "# Set global scaling factors (1.5x default size)\n",
    "par(\n",
    "  cex.lab = 1.5,   # Axis labels\n",
    "  cex.axis = 1.5,  # Axis text (tick labels)\n",
    "  cex.main = 1.5,  # Main title\n",
    "  cex.sub = 1.5    # Subtitle\n",
    ")\n",
    "\n",
    "# Define a custom theme with larger fonts\n",
    "custom_theme <- theme(\n",
    "  text = element_text(size = 16),            # Global text size\n",
    "  axis.title = element_text(size = 18),      # Axis labels\n",
    "  axis.text = element_text(size = 14),       # Axis tick labels\n",
    "  plot.title = element_text(size = 20),      # Main title\n",
    "  plot.subtitle = element_text(size = 16)    # Subtitle\n",
    ")\n",
    "\n",
    "# Apply the theme to all future plots\n",
    "theme_set(custom_theme)\n",
    "\n",
    "\n",
    "## DATA LOADING & PROCESSING ##\n",
    "# Load data\n",
    "path <- \"../../\" # modifier le nombre de ../ si nécessaire\n",
    "gym <- read.table(paste(path, \"gym_members_exercise_tracking.csv\", sep = \"\"),\n",
    "                    sep = \",\", header = TRUE)\n",
    "\n",
    "gym[,'Gender'] <- as.factor(gym[,'Gender'])\n",
    "gym[,'Workout_Type'] <- as.factor(gym[,'Workout_Type'])\n",
    "gym[,'Experience_Level'] <- as.factor(gym[,'Experience_Level'])\n",
    "gym[,'Workout_Frequency..days.week.'] <- as.factor(gym[,'Workout_Frequency..days.week.'])\n",
    "\n",
    "gym[, \"Weight..kg.\"] <- log(gym[,\"Weight..kg.\"])\n",
    "\n",
    "max_fat <- max(gym[,\"Fat_Percentage\"])\n",
    "gym[, \"Fat_Percentage\"] <- sqrt((max_fat + 1) - gym[,\"Fat_Percentage\"])\n",
    "\n",
    "# renome les variables Weight..kg. et BMI en LWeight et LBMI\n",
    "names(gym)[names(gym) == \"Weight..kg.\"] <- \"LWeight\"\n",
    "names(gym)[names(gym) == \"Fat_Percentage\"] <- \"SFat_Percentage\"\n",
    "\n",
    "gym <- gym %>% select(-c(BMI))\n",
    "\n",
    "# divide data into training and testing sets for experience level\n",
    "trainIndex <- createDataPartition(gym$Experience_Level, p = .8, \n",
    "                                  list = FALSE, \n",
    "                                  times = 1)\n",
    "gym_train <- gym[ trainIndex,]\n",
    "gym_test  <- gym[-trainIndex,]\n",
    "\n",
    "# Normalize the data\n",
    "gym_train_scaled = gym_train\n",
    "scaler <- scale(gym_train[,-c(2,10,13,14)])\n",
    "\n",
    "# Extract the center and scale attributes\n",
    "center <- attr(scaler, \"scaled:center\")\n",
    "scale <- attr(scaler, \"scaled:scale\")\n",
    "\n",
    "gym_train_scaled[,-c(2,10,13,14)] <- scale(gym_train[,-c(2,10,13,14)], center = center, scale = scale)\n",
    "\n",
    "gym_test_scaled = gym_test\n",
    "gym_test_scaled[,-c(2,10,13,14)] <- scale(gym_test[,-c(2,10,13,14)], center = center, scale = scale)\n",
    "\n",
    "\n",
    "cat(\"Data loaded and preprocessed\")"
   ]
  },
  {
   "cell_type": "code",
   "execution_count": 5,
   "metadata": {
    "vscode": {
     "languageId": "r"
    }
   },
   "outputs": [],
   "source": [
    "\n",
    "\n",
    "\n",
    "## FUNCTION DEFINITIONS ##\n",
    "\n",
    "# Function to plot residuals\n",
    "# x: predicted values\n",
    "# y: residuals\n",
    "gplot.res <- function(x, y, titre = \"titre\"){\n",
    "    ggplot(data.frame(x=x, y=y),aes(x,y))+\n",
    "    geom_point(col = \"blue\")+#xlim(0, 250)+ylim(-155, 155)+\n",
    "    ylab(\"Résidus\")+ xlab(\"Valeurs prédites\")+\n",
    "    ggtitle(titre)+\n",
    "    geom_hline(yintercept = 0,col=\"green\")\n",
    "}\n",
    "\n",
    "# Function to plot ROC curve\n",
    "# model: model to evaluate\n",
    "# data: data to evaluate\n",
    "# title: title of the plot\n",
    "plot_roc <- function(model, data, title = \"ROC curve\"){\n",
    "    pred <- predict(model, data, type = \"response\")\n",
    "    roc <- roc(data$Experience_Level, pred)\n",
    "    auc <- round(auc(roc), 2)\n",
    "    plot(roc, main = title)\n",
    "    text(0.8, 0.2, paste(\"AUC = \", auc), cex = 1.5)\n",
    "}\n",
    "\n",
    "#Fonction qui calcule et affiche le pourcentage d'erreur \n",
    "#à partirde la matrice de confusion\n",
    "\n",
    "pourcentage_erreur <- function(conf_matrix) {\n",
    "  total_samples <- sum(conf_matrix)\n",
    "  errors <- total_samples - sum(diag(conf_matrix))\n",
    "  error_percentage <- (errors / total_samples) * 100\n",
    "  print(paste(\"Pourcentage d'erreur :\", round(error_percentage, 2), \"%\"))\n",
    "}"
   ]
  },
  {
   "cell_type": "markdown",
   "metadata": {},
   "source": [
    "## Regression logistique (optimisation Lasso)"
   ]
  },
  {
   "cell_type": "markdown",
   "metadata": {},
   "source": [
    "La régréssion logistque réalisée ici est multinomiale pour être adaptée à notre problème de clasification et prend en comte les interactions doubles. \n",
    "La fonction R glmnet calcule tous les modèles lasso (pénalisation L1, alpha=1 en argument) pour une séquence de 100 lambda puis évalue leurs performances par validation croisée. "
   ]
  },
  {
   "cell_type": "markdown",
   "metadata": {},
   "source": [
    " Les données utilisés sont les donnnés \"scalers\" (moyenne à 0 ecart-type à 1) pour ne pas donner plus d'importance à certaines variables (glmnet fait des pénalisation avec les normes L1 (alpha=1))."
   ]
  },
  {
   "cell_type": "code",
   "execution_count": 15,
   "metadata": {
    "vscode": {
     "languageId": "r"
    }
   },
   "outputs": [
    {
     "name": "stdout",
     "output_type": "stream",
     "text": [
      "[1] \"Temps d'exécution :  2.04294896125793\"\n",
      "[1] \"Best Lambda : 0.000185359314211359\"\n",
      "[1] \"LSE Lambda : 0.00438280135987971\"\n"
     ]
    },
    {
     "data": {
      "image/png": "[encoded data removed]",
      "text/plain": [
       "plot without title"
      ]
     },
     "metadata": {
      "image/png": {
       "height": 420,
       "width": 420
      }
     },
     "output_type": "display_data"
    }
   ],
   "source": [
    "t0 <- Sys.time()\n",
    "\n",
    "# Convertir les données en matrice pour glmnet\n",
    "# si ~ .^2 => erreur = 15% environ\n",
    "x <- model.matrix(Experience_Level ~ ., data = gym_train_scaled)[, -1] # Prédicteurs \n",
    "y <- model.matrix(~ Experience_Level + 0, data = gym_train_scaled)      # Réponse\n",
    "\n",
    "# Ajustement du modèle avec validation croisée\n",
    "cv_fit <- cv.glmnet(x, y, family = \"multinomial\", alpha = 1)\n",
    "autoplot(cv_fit)\n",
    "\n",
    "# Afficher le temps d'exécution\n",
    "t <- Sys.time()\n",
    "execution_time <- t - t0\n",
    "print(paste(\"Temps d'exécution : \", execution_time))\n",
    "\n",
    "# Afficher le meilleur lambda\n",
    "best_lambda <- cv_fit$lambda.min\n",
    "print(paste(\"Best Lambda :\", best_lambda))\n",
    "\n",
    "#Affiche le plus grand lambda envisageable\n",
    "lse_lambda <- cv_fit$lambda.1se\n",
    "print(paste(\"LSE Lambda :\", lse_lambda))"
   ]
  },
  {
   "cell_type": "markdown",
   "metadata": {},
   "source": [
    "- lambda petit= moins de pénalisation, modèle complexe avec beaucoup de variables non nulles \n",
    "- lambda grand= plus depénalisation, modèle simple avec bcp de coefs nulles\n",
    "- courbe = performance sur validation croisée sauf forme erreur de prédiction\n",
    "\n",
    "Interpetation: le plus grand lambda qui minimise la deviance est lambda min = 0.000295; et le plus grand lambda dont la déviance est à moins de u écart-type du minimum est LSE lambda= 0.0052791. On garde ce dernier qui fait un compromis entre la simplicité et la robustesse du modèle. "
   ]
  },
  {
   "cell_type": "markdown",
   "metadata": {},
   "source": [
    "Le choix du lamabda nous permet de réduire le nombre de coeffcients selectionnés.\n"
   ]
  },
  {
   "cell_type": "code",
   "execution_count": 7,
   "metadata": {
    "vscode": {
     "languageId": "r"
    }
   },
   "outputs": [
    {
     "name": "stdout",
     "output_type": "stream",
     "text": [
      "$Experience_Level1\n",
      "18 x 1 sparse Matrix of class \"dgCMatrix\"\n",
      "                                        s0\n",
      "                                2.76270639\n",
      "Age                             0.04454661\n",
      "GenderMale                      .         \n",
      "LWeight                         .         \n",
      "Height..m.                      0.01526018\n",
      "Max_BPM                         .         \n",
      "Avg_BPM                         .         \n",
      "Resting_BPM                     .         \n",
      "Session_Duration..hours.       -1.15464048\n",
      "Calories_Burned                -0.17927720\n",
      "Workout_TypeHIIT                .         \n",
      "Workout_TypeStrength            .         \n",
      "Workout_TypeYoga                .         \n",
      "SFat_Percentage                 .         \n",
      "Water_Intake..liters.           .         \n",
      "Workout_Frequency..days.week.3  .         \n",
      "Workout_Frequency..days.week.4 -5.94077471\n",
      "Workout_Frequency..days.week.5  .         \n",
      "\n",
      "$Experience_Level2\n",
      "18 x 1 sparse Matrix of class \"dgCMatrix\"\n",
      "                                        s0\n",
      "                               -0.30941971\n",
      "Age                             .         \n",
      "GenderMale                      0.27531839\n",
      "LWeight                         .         \n",
      "Height..m.                      .         \n",
      "Max_BPM                         .         \n",
      "Avg_BPM                         .         \n",
      "Resting_BPM                     .         \n",
      "Session_Duration..hours.        .         \n",
      "Calories_Burned                 .         \n",
      "Workout_TypeHIIT               -0.13237245\n",
      "Workout_TypeStrength            0.02285378\n",
      "Workout_TypeYoga                0.01988554\n",
      "SFat_Percentage                 .         \n",
      "Water_Intake..liters.          -0.05468635\n",
      "Workout_Frequency..days.week.3  3.30909756\n",
      "Workout_Frequency..days.week.4  1.45969980\n",
      "Workout_Frequency..days.week.5  .         \n",
      "\n",
      "$Experience_Level3\n",
      "18 x 1 sparse Matrix of class \"dgCMatrix\"\n",
      "                                       s0\n",
      "                               -2.4532867\n",
      "Age                             .        \n",
      "GenderMale                     -0.5591016\n",
      "LWeight                         .        \n",
      "Height..m.                      .        \n",
      "Max_BPM                         .        \n",
      "Avg_BPM                         .        \n",
      "Resting_BPM                     .        \n",
      "Session_Duration..hours.        2.1919943\n",
      "Calories_Burned                 .        \n",
      "Workout_TypeHIIT                .        \n",
      "Workout_TypeStrength            .        \n",
      "Workout_TypeYoga                .        \n",
      "SFat_Percentage                 2.7748322\n",
      "Water_Intake..liters.           .        \n",
      "Workout_Frequency..days.week.3  .        \n",
      "Workout_Frequency..days.week.4  .        \n",
      "Workout_Frequency..days.week.5  1.2141021\n",
      "\n"
     ]
    }
   ],
   "source": [
    "# Choix du lambda\n",
    "chosen_lambda <- lse_lambda\n",
    "\n",
    "# Ajuster le modèle final avec le meilleur lambda\n",
    "final_model <- glmnet(x, y, family = \"multinomial\", alpha = 1, lambda = chosen_lambda)\n",
    "\n",
    "# Afficher les coefficients du modèle final\n",
    "print(coef(final_model))"
   ]
  },
  {
   "cell_type": "code",
   "execution_count": 12,
   "metadata": {
    "vscode": {
     "languageId": "r"
    }
   },
   "outputs": [
    {
     "name": "stdout",
     "output_type": "stream",
     "text": [
      "Experience_Level1 Experience_Level2 Experience_Level3 \n",
      "                5                 7                 4 \n"
     ]
    }
   ],
   "source": [
    "# Extraire tous les coefficients\n",
    "coefs_list <- coef(final_model)\n",
    "\n",
    "# Pour chaque classe, compter les coefficients non nuls (hors intercept)\n",
    "nombre_non_nuls_par_classe <- sapply(coefs_list, function(m) {\n",
    "  sum(m[-1, ] != 0)  # Enlève intercept (-1) et compte les non-zéros\n",
    "})\n",
    "\n",
    "# Afficher\n",
    "print(nombre_non_nuls_par_classe)"
   ]
  },
  {
   "cell_type": "markdown",
   "metadata": {},
   "source": [
    "La methode Lasso avec le lambda 1se permet de garder uniquement 5 coefficients pour la classe Experience_Level1, 7 pour Experience_Level2 et 4 pour Experience_Level3, contre 17 par classe à l'origine. "
   ]
  },
  {
   "cell_type": "markdown",
   "metadata": {},
   "source": [
    "On affiche la matrice de confusion associée à ce modèle. "
   ]
  },
  {
   "cell_type": "code",
   "execution_count": 95,
   "metadata": {
    "vscode": {
     "languageId": "r"
    }
   },
   "outputs": [
    {
     "name": "stdout",
     "output_type": "stream",
     "text": [
      "         Actual\n",
      "Predicted  1  2  3\n",
      "        1 67 19  0\n",
      "        2  8 62  0\n",
      "        3  0  0 38\n",
      "[1] \"Pourcentage d'erreur : 13.92 %\"\n"
     ]
    }
   ],
   "source": [
    "#matrice de confusion \n",
    "\n",
    "# Convertir les données test en matrice pour glmnet de la meme manière \n",
    "#que pour les données d'apprentissage \n",
    "# si ~ .^2 => erreur = 15% environ\n",
    "x_test <- model.matrix(Experience_Level ~ ., data = gym_test_scaled)[, -1]  # Prédicteurs\n",
    "y_test <- model.matrix(~ Experience_Level + 0, data = gym_test_scaled)  # Réponse réelle (one-hot)\n",
    "\n",
    "# Prédiction des probabilités pour chaque classe\n",
    "pred_probs <- predict(final_model, newx = x_test, type = \"response\") \n",
    "\n",
    "# Modification nécessaires pour tracer les courbes ROC \n",
    "probabilities_logit <- pred_probs[,,1]\n",
    "probabilities_logit <- as.data.frame(probabilities_logit)\n",
    "colnames(probabilities_logit) <- c(\"1\", \"2\", \"3\")\n",
    "\n",
    "\n",
    "# Convertir les probabilités en classes prédictes (classe avec proba max)\n",
    "pred_class <- apply(pred_probs, 1, which.max)\n",
    "# Convertir y_test en indices de classes réelles\n",
    "true_class <- apply(y_test, 1, which.max)\n",
    "\n",
    "# Construire la matrice de confusion\n",
    "conf_matrix_logit <- table(Predicted = pred_class, Actual = true_class)\n",
    "print(conf_matrix_logit)\n",
    "pourcentage_erreur(conf_matrix_logit)"
   ]
  },
  {
   "cell_type": "markdown",
   "metadata": {},
   "source": [
    "On voit qu'il y a eu des erreures de prédiction pour 28 persones, et ces erreures sont toujours entre les niveau d'expérience 1 et deux. Le pourcentage d'erreure de prédiction est de 14.43%, assez élevé. "
   ]
  },
  {
   "cell_type": "markdown",
   "metadata": {},
   "source": [
    "#### Courbe ROC"
   ]
  },
  {
   "cell_type": "code",
   "execution_count": 97,
   "metadata": {
    "vscode": {
     "languageId": "r"
    }
   },
   "outputs": [],
   "source": [
    "plot_roc_multiclass <- function(probabilities, true_labels, title = \"ROC Curve\") {\n",
    "  # One-vs-all ROC pour chaque classe\n",
    "  classes <- colnames(probabilities)\n",
    "  colors <- c(\"red\", \"blue\", \"green\") # Une couleur par classe\n",
    "  \n",
    "  # Nouveau plot vide\n",
    "  plot(0, 0, type = \"n\", xlim = c(1,0), ylim = c(0,1),\n",
    "       xlab = \"Spécificité\", ylab = \"Sensibilité\", main = title)\n",
    "  \n",
    "  for (i in seq_along(classes)) {\n",
    "    roc_obj <- roc(as.numeric(true_labels == classes[i]), probabilities[[i]])\n",
    "    lines(1 - roc_obj$specificities, roc_obj$sensitivities, col = colors[i], lwd = 2)\n",
    "    \n",
    "    auc_val <- round(auc(roc_obj), 2)\n",
    "    text(0.7, 0.3 - 0.07*i, paste(\"Classe\", classes[i], \"AUC =\", auc_val), col = colors[i], cex = 1.2)\n",
    "  }\n",
    "  \n",
    "  abline(a = 0, b = 1, lty = 2) # Diagonale random\n",
    "}"
   ]
  },
  {
   "cell_type": "code",
   "execution_count": 99,
   "metadata": {
    "vscode": {
     "languageId": "r"
    }
   },
   "outputs": [
    {
     "name": "stderr",
     "output_type": "stream",
     "text": [
      "Setting levels: control = 0, case = 1\n",
      "\n"
     ]
    },
    {
     "ename": "ERROR",
     "evalue": "Error in roc.default(as.numeric(true_labels == classes[i]), probabilities[[i]]): Response and predictor must be vectors of the same length.\n",
     "output_type": "error",
     "traceback": [
      "Error in roc.default(as.numeric(true_labels == classes[i]), probabilities[[i]]): Response and predictor must be vectors of the same length.\nTraceback:\n",
      "1. plot_roc_multiclass(probabilities_logit, y_test)",
      "2. roc(as.numeric(true_labels == classes[i]), probabilities[[i]])   # at line 11 of file <text>",
      "3. roc.default(as.numeric(true_labels == classes[i]), probabilities[[i]])",
      "4. stop(\"Response and predictor must be vectors of the same length.\")"
     ]
    },
    {
     "data": {
      "image/png": "[encoded data removed]",
      "text/plain": [
       "Plot with title \"ROC Curve\""
      ]
     },
     "metadata": {
      "image/png": {
       "height": 420,
       "width": 420
      }
     },
     "output_type": "display_data"
    }
   ],
   "source": [
    "plot_roc_multiclass(probabilities_logit, y_test)"
   ]
  },
  {
   "cell_type": "markdown",
   "metadata": {},
   "source": [
    "### Analyse Discriminante Linéaire LDA"
   ]
  },
  {
   "cell_type": "code",
   "execution_count": 13,
   "metadata": {
    "vscode": {
     "languageId": "r"
    }
   },
   "outputs": [],
   "source": [
    "# Initialisation de la validation croisée avec 10 folds\n",
    "# Intervient dès que l'on utilise la\n",
    "# fonction train du package caret\n",
    "param_train<-trainControl(method=\"cv\",number=10)"
   ]
  },
  {
   "cell_type": "code",
   "execution_count": 16,
   "metadata": {
    "vscode": {
     "languageId": "r"
    }
   },
   "outputs": [
    {
     "name": "stdout",
     "output_type": "stream",
     "text": [
      "[1] \"Temps d'exécution :  1.10321998596191\"\n",
      "   predictions_lda\n",
      "     1  2  3\n",
      "  1 64 11  0\n",
      "  2 17 64  0\n",
      "  3  0  0 38\n",
      "[1] \"Pourcentage d'erreur : 14.43 %\"\n"
     ]
    }
   ],
   "source": [
    "t0 <- Sys.time()\n",
    "\n",
    "lda.fit<-train(Experience_Level ~ ., data = gym_train_scaled, method=\"lda\")\n",
    "\n",
    "# erreur par validation croisée  en analyse discriminante linéaire\n",
    "lda.fit <- train(Experience_Level ~ ., data = gym_train_scaled, method=\"lda\",trControl=param_train)\n",
    "\n",
    "predictions_lda <-predict(lda.fit, gym_test_scaled)\n",
    "probabilities_lda <-predict(lda.fit, gym_test_scaled, type=\"prob\")\n",
    "\n",
    "# Afficher le temps d'exécution\n",
    "t <- Sys.time()\n",
    "execution_time <- t - t0\n",
    "print(paste(\"Temps d'exécution : \", execution_time))\n",
    "\n",
    "# estimer le taux d'erreur à partir de la matrice de confusion\n",
    "conf_matrix_lda=table(gym_test_scaled[,\"Experience_Level\"],predictions_lda)\n",
    "print(conf_matrix_lda)\n",
    "pourcentage_erreur(conf_matrix_lda)\n",
    "\n"
   ]
  },
  {
   "cell_type": "markdown",
   "metadata": {},
   "source": [
    "Le pourcentage d'erreur est très proche de celui obtenus avec la regression logistque optimisée par Lasso. Les erreurs sont à nouveau entre les niveaux d'expérience 1 et 2, cette fois il y a plus d'individus prédits du nuveau 2 alors qu'il sont du niveau 1."
   ]
  },
  {
   "cell_type": "markdown",
   "metadata": {},
   "source": [
    "mettre courbe ROC "
   ]
  },
  {
   "cell_type": "markdown",
   "metadata": {},
   "source": [
    "### k-Nearest Neighbour Classification kNN "
   ]
  },
  {
   "cell_type": "code",
   "execution_count": 17,
   "metadata": {
    "vscode": {
     "languageId": "r"
    }
   },
   "outputs": [
    {
     "name": "stdout",
     "output_type": "stream",
     "text": [
      "[1] \"Temps d'exécution :  1.94258213043213\"\n",
      "   predictions_knn\n",
      "     1  2  3\n",
      "  1 43 32  0\n",
      "  2 17 64  0\n",
      "  3  0  0 38\n",
      "[1] \"Pourcentage d'erreur : 25.26 %\"\n"
     ]
    }
   ],
   "source": [
    "#knn.fit<-train(Experience_Level ~ ., data = gym_train_scaled ,method=\"knn\")\n",
    "\n",
    "t0 <- Sys.time() \n",
    "\n",
    "# erreur par validation croisée  en kNN\n",
    "knn.fit <- train(Experience_Level ~ ., data = gym_train_scaled, method=\"knn\",trControl=param_train,tuneLength=20)\n",
    "\n",
    "predictions_knn <-predict(knn.fit, gym_test_scaled)\n",
    "probabilities_knn <-predict(knn.fit, gym_test_scaled, type=\"prob\")\n",
    "\n",
    "# Afficher le temps d'exécution\n",
    "t <- Sys.time()\n",
    "execution_time <- t - t0\n",
    "print(paste(\"Temps d'exécution : \", execution_time))\n",
    "\n",
    "# estimer le taux d'erreur à partir de la matrice de confusion\n",
    "conf_matrix_knn=table(gym_test_scaled[,\"Experience_Level\"],predictions_knn)\n",
    "print(conf_matrix_knn)\n",
    "pourcentage_erreur(conf_matrix_knn)"
   ]
  },
  {
   "cell_type": "markdown",
   "metadata": {},
   "source": [
    "Le pourcentage d'erreur de prédiction est beaucoup pluss élevé que pour les deux derniers modèle. Le modèle de prédiction par KNN n'est pas \"rouste\", la prédiction est mauvaise. On retrouve que les niveau d'expérience 1 et deux sont souvent mélangés. "
   ]
  },
  {
   "cell_type": "markdown",
   "metadata": {},
   "source": [
    "### SVM kernel radial "
   ]
  },
  {
   "cell_type": "code",
   "execution_count": 18,
   "metadata": {
    "vscode": {
     "languageId": "r"
    }
   },
   "outputs": [
    {
     "name": "stdout",
     "output_type": "stream",
     "text": [
      "[1] \"Temps d'exécution :  32.3715310096741\"\n"
     ]
    },
    {
     "data": {
      "image/png": "[encoded data removed]",
      "text/plain": [
       "Plot with title \"Performance of `svm'\""
      ]
     },
     "metadata": {
      "image/png": {
       "height": 420,
       "width": 420
      }
     },
     "output_type": "display_data"
    }
   ],
   "source": [
    "t0 <- Sys.time()\n",
    "\n",
    "#La zone de recherche est volontairement déjà centré sur les paramètres optimaux\n",
    "svm.rad.tune = tune.svm(Experience_Level ~ ., data = gym_train_scaled, cost = c(2, 2.5, 3, 3.5,4,4.5), \n",
    "    gamma = seq(0.01, 0.1, by = 0.02), kernel= \"radial\")\n",
    "plot(svm.rad.tune)\n",
    "\n",
    "# Afficher le temps d'exécution\n",
    "t <- Sys.time()\n",
    "execution_time <- t - t0\n",
    "print(paste(\"Temps d'exécution : \", execution_time))"
   ]
  },
  {
   "cell_type": "markdown",
   "metadata": {},
   "source": [
    "temps d'execution long (30s)"
   ]
  },
  {
   "cell_type": "code",
   "execution_count": null,
   "metadata": {
    "vscode": {
     "languageId": "r"
    }
   },
   "outputs": [
    {
     "name": "stdout",
     "output_type": "stream",
     "text": [
      "   pred.svm.rad\n",
      "     1  2  3\n",
      "  1 63 12  0\n",
      "  2 17 64  0\n",
      "  3  0  0 38\n",
      "[1] \"Pourcentage d'erreur : 14.95 %\"\n"
     ]
    }
   ],
   "source": [
    "svm.rad = svm(Experience_Level ~ ., data = gym_train_scaled, \n",
    "              cost = svm.rad.tune$best.parameters$cost, \n",
    "              gamma = svm.rad.tune$best.parameters$gamma,\n",
    "              probability=TRUE)\n",
    "\n",
    "pred.svm.rad=predict(svm.rad,newdata=gym_test_scaled,probability=TRUE)\n",
    "\n",
    "#Utiles pour les courbes ROC :\n",
    "probabilities_svm.rad <- attr(pred.svm.rad, \"probabilities\")\n",
    "probabilities_svm.rad <- as.data.frame(probabilities_svm.rad)\n",
    "\n",
    "conf_matrix_svm.rad=table(gym_test_scaled[,\"Experience_Level\"],pred.svm.rad)\n",
    "print(conf_matrix_svm.rad)\n",
    "pourcentage_erreur(conf_matrix_svm.rad)"
   ]
  },
  {
   "cell_type": "markdown",
   "metadata": {},
   "source": [
    "Semblable logit et analyse discriminante: erreur de prédiction 0.1495. Toujour entre niv 1 et 2."
   ]
  },
  {
   "cell_type": "markdown",
   "metadata": {},
   "source": [
    "### SVM kernel polynomial"
   ]
  },
  {
   "cell_type": "code",
   "execution_count": 19,
   "metadata": {
    "vscode": {
     "languageId": "r"
    }
   },
   "outputs": [
    {
     "name": "stdout",
     "output_type": "stream",
     "text": [
      "[1] \"Temps d'exécution :  10.4820718765259\"\n"
     ]
    },
    {
     "data": {
      "image/png": "[encoded data removed]",
      "text/plain": [
       "Plot with title \"Performance of `svm'\""
      ]
     },
     "metadata": {
      "image/png": {
       "height": 420,
       "width": 420
      }
     },
     "output_type": "display_data"
    }
   ],
   "source": [
    "# On peut rajouter :\n",
    "# coef0 = c(0.5,1,1.5), degree= c(2,3)\n",
    "# Mais c'est trop long\n",
    "\n",
    "t0 <- Sys.time()\n",
    "\n",
    "svm.pol.tune = tune.svm(Experience_Level ~ ., data = gym_train_scaled, kernel= \"polynomial\", cost = c(3.5,4,4.5,5), \n",
    "    gamma = seq(0.01, 0.1, by = 0.02), coef0=1, degree=3) \n",
    "\n",
    "plot(svm.rad.tune)\n",
    "\n",
    "# Afficher le temps d'exécution\n",
    "t <- Sys.time()\n",
    "execution_time <- t - t0\n",
    "print(paste(\"Temps d'exécution : \", execution_time))"
   ]
  },
  {
   "cell_type": "markdown",
   "metadata": {},
   "source": [
    "temps d'execution plus raisonnable (11s), quand on ajoute l'optimisationd de cef0 et degree trop long. "
   ]
  },
  {
   "cell_type": "code",
   "execution_count": null,
   "metadata": {
    "vscode": {
     "languageId": "r"
    }
   },
   "outputs": [
    {
     "name": "stdout",
     "output_type": "stream",
     "text": [
      "   pred.svm.pol\n",
      "     1  2  3\n",
      "  1 64 11  0\n",
      "  2 17 64  0\n",
      "  3  0  0 38\n",
      "[1] \"Pourcentage d'erreur : 14.43 %\"\n"
     ]
    }
   ],
   "source": [
    "svm.pol = svm(Experience_Level ~ ., data = gym_train_scaled, kernel= \"polynomial\",\n",
    "              cost = svm.pol.tune$best.parameters$cost, \n",
    "              gamma = svm.pol.tune$best.parameters$gamma,\n",
    "              coef0 = 1,\n",
    "              degree = 3,\n",
    "              probability=TRUE)\n",
    "\n",
    "pred.svm.pol=predict(svm.pol,newdata=gym_test_scaled,probability=TRUE)\n",
    "\n",
    "#Utiles pour les courbes ROC :\n",
    "probabilities_svm.pol <- attr(pred.svm.pol, \"probabilities\")\n",
    "probabilities_svm.pol <- as.data.frame(probabilities_svm.pol)\n",
    "\n",
    "conf_matrix_svm.pol=table(gym_test_scaled[,\"Experience_Level\"],pred.svm.pol)\n",
    "print(conf_matrix_svm.pol)\n",
    "pourcentage_erreur(conf_matrix_svm.pol)"
   ]
  },
  {
   "cell_type": "markdown",
   "metadata": {},
   "source": [
    "Pas d'amélioration par rapport au kernel radial "
   ]
  },
  {
   "cell_type": "markdown",
   "metadata": {},
   "source": [
    "courbe roc: "
   ]
  }
 ],
 "metadata": {
  "kernelspec": {
   "display_name": "R",
   "language": "R",
   "name": "ir"
  },
  "language_info": {
   "codemirror_mode": "r",
   "file_extension": ".r",
   "mimetype": "text/x-r-source",
   "name": "R",
   "pygments_lexer": "r",
   "version": "4.2.2"
  }
 },
 "nbformat": 4,
 "nbformat_minor": 2
}
