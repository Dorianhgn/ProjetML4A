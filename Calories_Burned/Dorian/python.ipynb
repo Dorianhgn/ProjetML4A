{
 "cells": [
  {
   "cell_type": "code",
   "execution_count": 1,
   "metadata": {},
   "outputs": [
    {
     "name": "stdout",
     "output_type": "stream",
     "text": [
      "Data loaded and preprocessed\n"
     ]
    }
   ],
   "source": [
    "import pandas as pd\n",
    "import numpy as np\n",
    "\n",
    "import matplotlib.pyplot as plt\n",
    "import seaborn as sns\n",
    "\n",
    "from sklearn.model_selection import train_test_split\n",
    "\n",
    "\n",
    "randomseed = 1234\n",
    "\n",
    "gym = pd.read_csv('../../gym_members_exercise_tracking.csv')\n",
    "\n",
    "# set 'Gender', 'Workout_Type', 'Workout_Frequency (days/week)' and 'Experience_Level' as categorical\n",
    "for col in ['Gender', 'Workout_Type', 'Workout_Frequency (days/week)', 'Experience_Level']:\n",
    "    gym[col] = gym[col].astype('category')\n",
    "\n",
    "# log transform Weight and BMI\n",
    "gym['Weight (kg)'] = np.log1p(gym['Weight (kg)'])\n",
    "gym['BMI'] = np.log1p(gym['BMI'])\n",
    "\n",
    "# transform 'Fat_Percentage'\n",
    "max_fat = gym['Fat_Percentage'].max()\n",
    "gym['Fat_Percentage'] = gym['Fat_Percentage'].apply(lambda x: np.sqrt(max_fat+1)-x)\n",
    "\n",
    "# rename transformed columns\n",
    "gym.rename(columns={'Weight (kg)': 'LWeight', 'BMI': 'LBMI', 'Fat_Percentage': 'SFat_Percentage'}, inplace=True)\n",
    "\n",
    "# divide into train and test set\n",
    "gym_train, gym_test = train_test_split(gym, test_size=0.2, random_state=randomseed)\n",
    "\n",
    "# Create X_train_exp_level, X_test_exp_level, y_train_exp_level, y_test_exp_level\n",
    "X_train_exp_level = gym_train.drop(columns=['Experience_Level'])\n",
    "y_train_exp_level = gym_train['Experience_Level']\n",
    "X_test_exp_level = gym_test.drop(columns=['Experience_Level'])\n",
    "y_test_exp_level = gym_test['Experience_Level']\n",
    "\n",
    "# Create X_train_calories, X_test_calories, y_train_calories, y_test_calories\n",
    "X_train_calories = gym_train.drop(columns=['Calories_Burned'])\n",
    "y_train_calories = gym_train['Calories_Burned']\n",
    "X_test_calories = gym_test.drop(columns=['Calories_Burned'])\n",
    "y_test_calories = gym_test['Calories_Burned']\n",
    "\n",
    "print(\"Data loaded and preprocessed\")\n"
   ]
  },
  {
   "cell_type": "code",
   "execution_count": null,
   "metadata": {},
   "outputs": [],
   "source": []
  }
 ],
 "metadata": {
  "kernelspec": {
   "display_name": "dataScience",
   "language": "python",
   "name": "python3"
  },
  "language_info": {
   "codemirror_mode": {
    "name": "ipython",
    "version": 3
   },
   "file_extension": ".py",
   "mimetype": "text/x-python",
   "name": "python",
   "nbconvert_exporter": "python",
   "pygments_lexer": "ipython3",
   "version": "3.12.6"
  }
 },
 "nbformat": 4,
 "nbformat_minor": 2
}
