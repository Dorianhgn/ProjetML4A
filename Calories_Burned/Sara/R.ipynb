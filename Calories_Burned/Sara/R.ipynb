{
 "cells": [
  {
   "cell_type": "code",
   "execution_count": 5,
   "id": "70cfcc8e",
   "metadata": {
    "vscode": {
     "languageId": "r"
    }
   },
   "outputs": [
    {
     "name": "stderr",
     "output_type": "stream",
     "text": [
      "Installation du package dans 'C:/Users/essak/AppData/Local/R/win-library/4.3'\n",
      "(car 'lib' n'est pas spécifié)\n",
      "\n"
     ]
    },
    {
     "name": "stderr",
     "output_type": "stream",
     "text": [
      "installation de la dépendance 'sparsevctrs'\n",
      "\n",
      "\n"
     ]
    },
    {
     "name": "stdout",
     "output_type": "stream",
     "text": [
      "\n",
      "  Des versions binaires sont disponibles mais les versions des sources\n",
      "  sont plus récentes:\n",
      "            binary source needs_compilation\n",
      "sparsevctrs  0.3.2  0.3.3              TRUE\n",
      "recipes      1.2.1  1.3.0             FALSE\n",
      "\n",
      "  Binaries will be installed\n",
      "le package 'sparsevctrs' a été décompressé et les sommes MD5 ont été vérifiées avec succés\n",
      "\n",
      "Les packages binaires téléchargés sont dans\n",
      "\tC:\\Users\\essak\\AppData\\Local\\Temp\\RtmpyKHnMn\\downloaded_packages\n"
     ]
    },
    {
     "name": "stderr",
     "output_type": "stream",
     "text": [
      "installation du package source 'recipes'\n",
      "\n",
      "\n"
     ]
    }
   ],
   "source": [
    "install.packages(\"recipes\")"
   ]
  },
  {
   "cell_type": "code",
   "execution_count": 11,
   "id": "79fba057",
   "metadata": {
    "vscode": {
     "languageId": "r"
    }
   },
   "outputs": [
    {
     "name": "stdout",
     "output_type": "stream",
     "text": [
      "Data loaded and preprocessed"
     ]
    }
   ],
   "source": [
    "# Chargement des librairies nécessaires\n",
    "library(ggplot2)\n",
    "library(tidyverse)\n",
    "library(gridExtra)\n",
    "library(GGally)\n",
    "library(plotly)\n",
    "library(corrplot)\n",
    "library(reshape2)\n",
    "library(FactoMineR) \n",
    "library(factoextra)\n",
    "library(glmnet) \n",
    "library(ggfortify)\n",
    "library(pROC)\n",
    "library(ROCR)\n",
    "library(repr)\n",
    "library(caret)\n",
    "\n",
    "# fix random seed for reproducibility\n",
    "set.seed(1234)\n",
    "\n",
    "## GRAPH SETTINGS ##\n",
    "# Save original parameters (optional)\n",
    "original_par <- par(no.readonly = TRUE)\n",
    "\n",
    "# Set global scaling factors (1.5x default size)\n",
    "par(\n",
    "  cex.lab = 1.5,   # Axis labels\n",
    "  cex.axis = 1.5,  # Axis text (tick labels)\n",
    "  cex.main = 1.5,  # Main title\n",
    "  cex.sub = 1.5    # Subtitle\n",
    ")\n",
    "\n",
    "# Define a custom theme with larger fonts\n",
    "custom_theme <- theme(\n",
    "  text = element_text(size = 16),            # Global text size\n",
    "  axis.title = element_text(size = 18),      # Axis labels\n",
    "  axis.text = element_text(size = 14),       # Axis tick labels\n",
    "  plot.title = element_text(size = 20),      # Main title\n",
    "  plot.subtitle = element_text(size = 16)    # Subtitle\n",
    ")\n",
    "\n",
    "# Apply the theme to all future plots\n",
    "theme_set(custom_theme)\n",
    "\n",
    "\n",
    "## DATA LOADING & PROCESSING ##\n",
    "# Load data\n",
    "path <- \"../../\" # modifier le nombre de ../ si nécessaire\n",
    "gym <- read.table(paste(path, \"gym_members_exercise_tracking.csv\", sep = \"\"),\n",
    "                    sep = \",\", header = TRUE)\n",
    "\n",
    "gym[,'Gender'] <- as.factor(gym[,'Gender'])\n",
    "gym[,'Workout_Type'] <- as.factor(gym[,'Workout_Type'])\n",
    "gym[,'Experience_Level'] <- as.factor(gym[,'Experience_Level'])\n",
    "gym[,'Workout_Frequency..days.week.'] <- as.factor(gym[,'Workout_Frequency..days.week.'])\n",
    "\n",
    "gym[, \"Weight..kg.\"] <- log(gym[,\"Weight..kg.\"])\n",
    "\n",
    "max_fat <- max(gym[,\"Fat_Percentage\"])\n",
    "gym[, \"Fat_Percentage\"] <- sqrt((max_fat + 1) - gym[,\"Fat_Percentage\"])\n",
    "\n",
    "# renome les variables Weight..kg. et BMI en LWeight et LBMI\n",
    "names(gym)[names(gym) == \"Weight..kg.\"] <- \"LWeight\"\n",
    "names(gym)[names(gym) == \"Fat_Percentage\"] <- \"SFat_Percentage\"\n",
    "\n",
    "gym <- gym %>% select(-c(BMI))\n",
    "\n",
    "# divide data into training and testing sets for experience level\n",
    "trainIndex <- createDataPartition(gym$Experience_Level, p = .8, \n",
    "                                  list = FALSE, \n",
    "                                  times = 1)\n",
    "gym_train <- gym[ trainIndex,]\n",
    "gym_test  <- gym[-trainIndex,]\n",
    "\n",
    "# Normalize the data\n",
    "gym_train_scaled = gym_train\n",
    "#scaler <- scale(gym_train[,-c(2,10,13,14)])\n",
    "scaler <- scale(gym_train[,-c(2,9,10,13,14)])  # Exclure la colonne Calories_Burned (colonne 9)\n",
    "# Extract the center and scale attributes\n",
    "center <- attr(scaler, \"scaled:center\")\n",
    "scale <- attr(scaler, \"scaled:scale\")\n",
    "\n",
    "\n",
    "# Appliquer la normalisation uniquement sur les colonnes sélectionnées\n",
    "gym_train_scaled[,-c(2,9,10,13,14)] <- scale(gym_train[,-c(2,9,10,13,14)], center = center, scale = scale)\n",
    "\n",
    "gym_test_scaled = gym_test\n",
    "gym_test_scaled[,-c(2,9,10,13,14)] <- scale(gym_test[,-c(2,9,10,13,14)], center = center, scale = scale)\n",
    "\n",
    "\n",
    "cat(\"Data loaded and preprocessed\")\n",
    "\n",
    "\n",
    "## FUNCTION DEFINITIONS ##\n",
    "\n",
    "# Function to plot residuals\n",
    "# x: predicted values\n",
    "# y: residuals\n",
    "gplot.res <- function(x, y, titre = \"titre\"){\n",
    "    ggplot(data.frame(x=x, y=y),aes(x,y))+\n",
    "    geom_point(col = \"blue\")+#xlim(0, 250)+ylim(-155, 155)+\n",
    "    ylab(\"Résidus\")+ xlab(\"Valeurs prédites\")+\n",
    "    ggtitle(titre)+\n",
    "    geom_hline(yintercept = 0,col=\"green\")\n",
    "}\n",
    "\n",
    "# Function to plot ROC curve\n",
    "# model: model to evaluate\n",
    "# data: data to evaluate\n",
    "# title: title of the plot\n",
    "plot_roc <- function(model, data, title = \"ROC curve\"){\n",
    "    pred <- predict(model, data, type = \"response\")\n",
    "    roc <- roc(data$Experience_Level, pred)\n",
    "    auc <- round(auc(roc), 2)\n",
    "    plot(roc, main = title)\n",
    "    text(0.8, 0.2, paste(\"AUC = \", auc), cex = 1.5)\n",
    "}"
   ]
  },
  {
   "cell_type": "code",
   "execution_count": 7,
   "id": "97ea8a51",
   "metadata": {
    "vscode": {
     "languageId": "r"
    }
   },
   "outputs": [
    {
     "data": {
      "text/plain": [
       "      Age              Gender       LWeight           Height..m.      \n",
       " Min.   :-1.70033   Female:384   Min.   :-2.06411   Min.   :-1.74278  \n",
       " 1st Qu.:-0.88351   Male  :395   1st Qu.:-0.70877   1st Qu.:-0.79206  \n",
       " Median : 0.09668                Median :-0.05133   Median :-0.07902  \n",
       " Mean   : 0.00000                Mean   : 0.00000   Mean   : 0.00000  \n",
       " 3rd Qu.: 0.91350                3rd Qu.: 0.67508   3rd Qu.: 0.55479  \n",
       " Max.   : 1.64864                Max.   : 2.18326   Max.   : 2.21854  \n",
       "    Max_BPM            Avg_BPM          Resting_BPM      \n",
       " Min.   :-1.70393   Min.   :-1.66558   Min.   :-1.66962  \n",
       " 1st Qu.:-0.84195   1st Qu.:-0.90414   1st Qu.:-0.84618  \n",
       " Median : 0.02003   Median :-0.07349   Median :-0.02273  \n",
       " Mean   : 0.00000   Mean   : 0.00000   Mean   : 0.00000  \n",
       " 3rd Qu.: 0.88201   3rd Qu.: 0.89561   3rd Qu.: 0.80072  \n",
       " Max.   : 1.65779   Max.   : 1.72627   Max.   : 1.62417  \n",
       " Session_Duration..hours. Calories_Burned     Workout_Type SFat_Percentage   \n",
       " Min.   :-2.20445         Min.   :-2.1417   Cardio  :206   Min.   :-2.22377  \n",
       " 1st Qu.:-0.60926         1st Qu.:-0.6756   HIIT    :181   1st Qu.:-0.61252  \n",
       " Median : 0.02882         Median :-0.0198   Strength:202   Median :-0.03597  \n",
       " Mean   : 0.00000         Mean   : 0.0000   Yoga    :190   Mean   : 0.00000  \n",
       " 3rd Qu.: 0.57988         3rd Qu.: 0.6306                  3rd Qu.: 0.69320  \n",
       " Max.   : 2.14607         Max.   : 3.1775                  Max.   : 1.98550  \n",
       " Water_Intake..liters. Workout_Frequency..days.week. Experience_Level\n",
       " Min.   :-1.84852      2:156                         1:301           \n",
       " 1st Qu.:-0.85679      3:291                         2:325           \n",
       " Median :-0.03034      4:251                         3:153           \n",
       " Mean   : 0.00000      5: 81                                         \n",
       " 3rd Qu.: 0.79610                                                    \n",
       " Max.   : 1.78784                                                    "
      ]
     },
     "metadata": {},
     "output_type": "display_data"
    },
    {
     "data": {
      "text/plain": [
       "      Age              Gender       LWeight           Height..m.      \n",
       " Min.   :-1.70033   Female: 78   Min.   :-2.06411   Min.   :-1.74278  \n",
       " 1st Qu.:-0.88351   Male  :116   1st Qu.:-0.74142   1st Qu.:-0.71283  \n",
       " Median :-0.06669                Median :-0.01540   Median :-0.07902  \n",
       " Mean   :-0.05448                Mean   : 0.03039   Mean   : 0.10352  \n",
       " 3rd Qu.: 0.66845                3rd Qu.: 0.77183   3rd Qu.: 0.95092  \n",
       " Max.   : 1.64864                Max.   : 2.14138   Max.   : 2.21854  \n",
       "    Max_BPM            Avg_BPM         Resting_BPM      \n",
       " Min.   :-1.70393   Min.   :-1.6656   Min.   :-1.66962  \n",
       " 1st Qu.:-0.66956   1st Qu.:-0.9041   1st Qu.:-0.84618  \n",
       " Median : 0.10623   Median :-0.1427   Median : 0.11451  \n",
       " Mean   : 0.05024   Mean   :-0.1024   Mean   : 0.03953  \n",
       " 3rd Qu.: 0.88201   3rd Qu.: 0.7399   3rd Qu.: 0.93796  \n",
       " Max.   : 1.65779   Max.   : 1.6571   Max.   : 1.62417  \n",
       " Session_Duration..hours. Calories_Burned      Workout_Type SFat_Percentage   \n",
       " Min.   :-2.17545         Min.   :-2.19978   Cardio  :49    Min.   :-2.22377  \n",
       " 1st Qu.:-0.63826         1st Qu.:-0.69378   HIIT    :40    1st Qu.:-0.47615  \n",
       " Median :-0.07269         Median :-0.15241   Strength:56    Median :-0.01148  \n",
       " Mean   :-0.05296         Mean   :-0.05516   Yoga    :49    Mean   : 0.05224  \n",
       " 3rd Qu.: 0.55088         3rd Qu.: 0.52429                  3rd Qu.: 0.68651  \n",
       " Max.   : 2.11707         Max.   : 2.44722                  Max.   : 1.95520  \n",
       " Water_Intake..liters. Workout_Frequency..days.week. Experience_Level\n",
       " Min.   :-1.84852      2:41                          1:75            \n",
       " 1st Qu.:-0.69150      3:77                          2:81            \n",
       " Median :-0.03034      4:55                          3:38            \n",
       " Mean   : 0.06849      5:21                                          \n",
       " 3rd Qu.: 0.96139                                                    \n",
       " Max.   : 1.78784                                                    "
      ]
     },
     "metadata": {},
     "output_type": "display_data"
    }
   ],
   "source": [
    "summary(gym_train_scaled)\n",
    "summary(gym_test_scaled)"
   ]
  },
  {
   "cell_type": "markdown",
   "id": "18609fbe",
   "metadata": {},
   "source": [
    "### Linear régression"
   ]
  },
  {
   "cell_type": "code",
   "execution_count": 12,
   "id": "91253362",
   "metadata": {
    "vscode": {
     "languageId": "r"
    }
   },
   "outputs": [
    {
     "data": {
      "text/plain": [
       "\n",
       "Call:\n",
       "lm(formula = Calories_Burned ~ ., data = gym_train_scaled)\n",
       "\n",
       "Residuals:\n",
       "     Min       1Q   Median       3Q      Max \n",
       "-129.781  -25.798   -2.093   21.929  174.692 \n",
       "\n",
       "Coefficients:\n",
       "                                Estimate Std. Error t value Pr(>|t|)    \n",
       "(Intercept)                    863.83896    5.84203 147.866   <2e-16 ***\n",
       "Age                            -41.48959    1.47443 -28.139   <2e-16 ***\n",
       "GenderMale                      90.90917    5.96339  15.245   <2e-16 ***\n",
       "LWeight                          2.37302    1.81802   1.305    0.192    \n",
       "Height..m.                       0.56211    1.79582   0.313    0.754    \n",
       "Max_BPM                          0.43035    1.48189   0.290    0.772    \n",
       "Avg_BPM                         90.48059    1.47639  61.285   <2e-16 ***\n",
       "Resting_BPM                      2.40358    1.47472   1.630    0.104    \n",
       "Session_Duration..hours.       245.80498    2.40398 102.249   <2e-16 ***\n",
       "Workout_TypeHIIT                 1.37064    4.18464   0.328    0.743    \n",
       "Workout_TypeStrength             0.02802    4.09013   0.007    0.995    \n",
       "Workout_TypeYoga                -6.23194    4.14140  -1.505    0.133    \n",
       "SFat_Percentage                 -1.12468    2.79860  -0.402    0.688    \n",
       "Water_Intake..liters.           -2.03573    2.40772  -0.846    0.398    \n",
       "Workout_Frequency..days.week.3  -3.28212    4.75539  -0.690    0.490    \n",
       "Workout_Frequency..days.week.4   1.25217    6.60834   0.189    0.850    \n",
       "Workout_Frequency..days.week.5   7.24900    9.38137   0.773    0.440    \n",
       "Experience_Level2               -1.26347    5.08829  -0.248    0.804    \n",
       "Experience_Level3                1.54843   10.70731   0.145    0.885    \n",
       "---\n",
       "Signif. codes:  0 '***' 0.001 '**' 0.01 '*' 0.05 '.' 0.1 ' ' 1\n",
       "\n",
       "Residual standard error: 40.8 on 760 degrees of freedom\n",
       "Multiple R-squared:  0.9785,\tAdjusted R-squared:  0.978 \n",
       "F-statistic:  1924 on 18 and 760 DF,  p-value: < 2.2e-16\n"
      ]
     },
     "metadata": {},
     "output_type": "display_data"
    },
    {
     "data": {
      "image/png": "[encoded data removed]",
      "text/plain": [
       "plot without title"
      ]
     },
     "metadata": {
      "image/png": {
       "height": 420,
       "width": 420
      }
     },
     "output_type": "display_data"
    }
   ],
   "source": [
    "reg.lm <- lm(Calories_Burned ~ ., data = gym_train_scaled)\n",
    "\n",
    "# Summary of the regression\n",
    "summary(reg.lm)\n",
    "\n",
    "# Extract the residuals\n",
    "sel.lm <- reg.lm$residuals\n",
    "fit.lm <- reg.lm$fitted.values\n",
    "\n",
    "# Plot the residuals\n",
    "gplot.res(fit.lm, sel.lm, \"Régression linéaire\")"
   ]
  },
  {
   "cell_type": "code",
   "execution_count": 13,
   "id": "b16f85e0",
   "metadata": {
    "vscode": {
     "languageId": "r"
    }
   },
   "outputs": [
    {
     "name": "stdout",
     "output_type": "stream",
     "text": [
      "MSE on training set:  1624.432 \n"
     ]
    },
    {
     "name": "stdout",
     "output_type": "stream",
     "text": [
      "MSE on test set:  1218.783 \n"
     ]
    }
   ],
   "source": [
    "# MSE of the model on the training and test set\n",
    "mse_train <- mean(sel.lm^2)\n",
    "mse_test <- mean((predict(reg.lm, gym_test_scaled) - gym_test_scaled$Calories_Burned)^2)\n",
    "\n",
    "cat(\"MSE on training set: \", mse_train, \"\\n\")\n",
    "cat(\"MSE on test set: \", mse_test, \"\\n\")"
   ]
  },
  {
   "cell_type": "markdown",
   "id": "7c0f6e92",
   "metadata": {},
   "source": [
    "\n",
    "### Performance du modèle \n",
    "Le modèle linéaire explique 97,8 % de la variance des calories brûlées, ce qui constitue une performance remarquable. Toutefois, un tel résultat peut également être suspect, suggérant un possible surapprentissage, ou bien la présence d’un prédicteur dominant.\n",
    "\n",
    "En effet, la variable Session_Duration..hours. (coefficient standardisé ≈ 0.893) semble jouer un rôle prédominant dans le modèle. Cela s’explique logiquement : plus une séance dure longtemps, plus la dépense calorique augmente de manière mécanique.\n",
    "\n",
    "En ce qui concerne les autres coefficients standardisés, on observe que :\n",
    "\n",
    "- Une augmentation d’1 écart-type de la durée de la séance entraîne une hausse de 0.893 écart-type des calories brûlées.\n",
    "- Une fréquence cardiaque moyenne élevée est également un bon prédicteur (+0.329 SD).\n",
    "- À caractéristiques équivalentes, les hommes brûlent en moyenne 0.33 écart-type de calories de plus que les femmes.\n",
    "\n",
    "À l’inverse, plusieurs variables n’ont pas montré d’effet significatif (p > 0.05), notamment :\n",
    "\n",
    "- Les caractéristiques physiques telles que le poids (Weight) ou le pourcentage de masse grasse (Fat_Percentage)\n",
    "- Certains paramètres cardiaques comme le rythme cardiaque maximal ou au repos\n",
    "- Le type d'entraînement (HIIT, force, yoga), qui semble avoir peu d’influence une fois les autres facteurs contrôlés.\n",
    "\n",
    "\n",
    "En ce qui est du graphe des résidus: \n",
    "\n",
    "La forme en banane des résidus nous fait dire que le modèle ne capture pas entièrement les relations non linéaires entre variables malgré la valeur assez élevée du score R² (97,85%)\n",
    "\n",
    "\n",
    "\n"
   ]
  },
  {
   "cell_type": "markdown",
   "id": "8127654d",
   "metadata": {},
   "source": [
    "Nous allons maintenant étudier l’effet des interactions entre les variables afin de déterminer si le modèle intégrant ces interactions offre de meilleures performances.\n",
    "\n",
    "### GLM"
   ]
  },
  {
   "cell_type": "code",
   "execution_count": null,
   "id": "7e549a9f",
   "metadata": {
    "vscode": {
     "languageId": "r"
    }
   },
   "outputs": [
    {
     "data": {
      "text/plain": [
       "\n",
       "Call:\n",
       "glm(formula = Calories_Burned ~ (.)^2, family = gaussian, data = gym_train)\n",
       "\n",
       "Coefficients: (8 not defined because of singularities)\n",
       "                                                          Estimate Std. Error\n",
       "(Intercept)                                             -1.159e+03  7.420e+02\n",
       "Age                                                      4.246e+00  2.823e+00\n",
       "GenderMale                                              -2.893e+02  1.501e+02\n",
       "LWeight                                                  1.017e+02  1.286e+02\n",
       "Height..m.                                               2.189e+02  2.820e+02\n",
       "Max_BPM                                                  4.768e+00  2.611e+00\n",
       "Avg_BPM                                                  2.921e+00  2.143e+00\n",
       "Resting_BPM                                             -1.182e+00  4.447e+00\n",
       "Session_Duration..hours.                                 2.163e+02  1.598e+02\n",
       "Workout_TypeHIIT                                         2.271e+01  1.010e+02\n",
       "Workout_TypeStrength                                    -1.129e+02  9.369e+01\n",
       "Workout_TypeYoga                                         6.665e+01  9.439e+01\n",
       "SFat_Percentage                                         -9.275e+01  6.672e+01\n",
       "Water_Intake..liters.                                    1.597e+02  8.435e+01\n",
       "Workout_Frequency..days.week.3                          -1.115e+01  1.044e+02\n",
       "Workout_Frequency..days.week.4                           3.673e+00  1.447e+02\n",
       "Workout_Frequency..days.week.5                           1.356e+02  4.773e+02\n",
       "Experience_Level2                                       -5.366e+01  1.120e+02\n",
       "Experience_Level3                                        1.375e+02  3.868e+02\n",
       "Age:GenderMale                                          -3.871e-01  3.603e-01\n",
       "Age:LWeight                                              2.660e-01  3.759e-01\n",
       "Age:Height..m.                                          -7.060e-01  8.194e-01\n",
       "Age:Max_BPM                                              4.420e-04  7.420e-03\n",
       "Age:Avg_BPM                                             -2.104e-02  5.551e-03\n",
       "Age:Resting_BPM                                         -7.076e-03  1.159e-02\n",
       "Age:Session_Duration..hours.                            -2.914e+00  3.978e-01\n",
       "Age:Workout_TypeHIIT                                    -2.480e-01  2.346e-01\n",
       "Age:Workout_TypeStrength                                 3.167e-02  2.313e-01\n",
       "Age:Workout_TypeYoga                                    -1.409e-01  2.378e-01\n",
       "Age:SFat_Percentage                                      3.803e-02  1.679e-01\n",
       "Age:Water_Intake..liters.                               -1.063e-01  2.382e-01\n",
       "Age:Workout_Frequency..days.week.3                      -6.107e-02  2.661e-01\n",
       "Age:Workout_Frequency..days.week.4                      -3.816e-01  3.695e-01\n",
       "Age:Workout_Frequency..days.week.5                       7.381e-02  5.492e-01\n",
       "Age:Experience_Level2                                    2.875e-01  2.853e-01\n",
       "Age:Experience_Level3                                   -9.558e-02  6.201e-01\n",
       "GenderMale:LWeight                                      -3.516e-02  1.712e+01\n",
       "GenderMale:Height..m.                                    1.804e+01  3.646e+01\n",
       "GenderMale:Max_BPM                                       4.132e-01  3.443e-01\n",
       "GenderMale:Avg_BPM                                       1.059e+00  2.880e-01\n",
       "GenderMale:Resting_BPM                                  -2.093e-01  5.971e-01\n",
       "GenderMale:Session_Duration..hours.                      1.024e+02  1.901e+01\n",
       "GenderMale:Workout_TypeHIIT                             -8.199e+00  1.180e+01\n",
       "GenderMale:Workout_TypeStrength                         -1.090e+00  1.183e+01\n",
       "GenderMale:Workout_TypeYoga                              4.476e+00  1.161e+01\n",
       "GenderMale:SFat_Percentage                              -6.337e-02  7.084e+00\n",
       "GenderMale:Water_Intake..liters.                         1.269e+01  9.331e+00\n",
       "GenderMale:Workout_Frequency..days.week.3               -8.383e-01  1.283e+01\n",
       "GenderMale:Workout_Frequency..days.week.4                6.885e+00  1.755e+01\n",
       "GenderMale:Workout_Frequency..days.week.5                4.327e+01  4.431e+01\n",
       "GenderMale:Experience_Level2                            -8.033e+00  1.399e+01\n",
       "GenderMale:Experience_Level3                            -3.345e+01  3.593e+01\n",
       "LWeight:Height..m.                                      -2.884e+01  4.270e+01\n",
       "LWeight:Max_BPM                                         -8.256e-01  3.787e-01\n",
       "LWeight:Avg_BPM                                          1.466e-01  3.073e-01\n",
       "LWeight:Resting_BPM                                      5.993e-01  6.512e-01\n",
       "LWeight:Session_Duration..hours.                         1.294e+01  2.041e+01\n",
       "LWeight:Workout_TypeHIIT                                 2.389e+01  1.398e+01\n",
       "LWeight:Workout_TypeStrength                             3.198e+00  1.241e+01\n",
       "LWeight:Workout_TypeYoga                                 7.820e+00  1.273e+01\n",
       "LWeight:SFat_Percentage                                 -5.089e+00  8.773e+00\n",
       "LWeight:Water_Intake..liters.                            8.029e+00  1.148e+01\n",
       "LWeight:Workout_Frequency..days.week.3                  -1.849e+00  1.308e+01\n",
       "LWeight:Workout_Frequency..days.week.4                  -1.268e+01  1.840e+01\n",
       "LWeight:Workout_Frequency..days.week.5                  -1.282e+02  1.077e+02\n",
       "LWeight:Experience_Level2                                1.372e+01  1.456e+01\n",
       "LWeight:Experience_Level3                                1.159e+01  8.169e+01\n",
       "Height..m.:Max_BPM                                       7.872e-01  8.571e-01\n",
       "Height..m.:Avg_BPM                                      -8.942e-01  6.933e-01\n",
       "Height..m.:Resting_BPM                                  -2.045e+00  1.348e+00\n",
       "Height..m.:Session_Duration..hours.                     -5.714e+01  4.851e+01\n",
       "Height..m.:Workout_TypeHIIT                             -5.957e+01  2.795e+01\n",
       "Height..m.:Workout_TypeStrength                          4.778e+01  2.625e+01\n",
       "Height..m.:Workout_TypeYoga                             -6.159e+01  2.712e+01\n",
       "Height..m.:SFat_Percentage                               6.756e+01  2.126e+01\n",
       "Height..m.:Water_Intake..liters.                        -3.886e+01  2.537e+01\n",
       "Height..m.:Workout_Frequency..days.week.3                4.744e+00  3.199e+01\n",
       "Height..m.:Workout_Frequency..days.week.4                2.893e+01  4.414e+01\n",
       "Height..m.:Workout_Frequency..days.week.5                2.068e+01  6.203e+01\n",
       "Height..m.:Experience_Level2                             1.109e+01  3.453e+01\n",
       "Height..m.:Experience_Level3                            -9.143e+01  7.273e+01\n",
       "Max_BPM:Avg_BPM                                         -8.789e-03  5.964e-03\n",
       "Max_BPM:Resting_BPM                                     -4.348e-03  1.223e-02\n",
       "Max_BPM:Session_Duration..hours.                         1.684e-01  4.204e-01\n",
       "Max_BPM:Workout_TypeHIIT                                 9.342e-02  2.521e-01\n",
       "Max_BPM:Workout_TypeStrength                             1.457e-01  2.433e-01\n",
       "Max_BPM:Workout_TypeYoga                                 2.259e-01  2.454e-01\n",
       "Max_BPM:SFat_Percentage                                 -9.762e-02  1.812e-01\n",
       "Max_BPM:Water_Intake..liters.                           -4.818e-01  2.362e-01\n",
       "Max_BPM:Workout_Frequency..days.week.3                   1.409e-01  2.895e-01\n",
       "Max_BPM:Workout_Frequency..days.week.4                   7.051e-02  3.909e-01\n",
       "Max_BPM:Workout_Frequency..days.week.5                   1.057e+00  5.671e-01\n",
       "Max_BPM:Experience_Level2                               -6.673e-02  2.977e-01\n",
       "Max_BPM:Experience_Level3                               -3.093e-01  6.388e-01\n",
       "Avg_BPM:Resting_BPM                                      1.364e-02  9.447e-03\n",
       "Avg_BPM:Session_Duration..hours.                         4.571e+00  3.258e-01\n",
       "Avg_BPM:Workout_TypeHIIT                                -3.875e-02  1.992e-01\n",
       "Avg_BPM:Workout_TypeStrength                             1.134e-02  1.923e-01\n",
       "Avg_BPM:Workout_TypeYoga                                -8.890e-02  2.015e-01\n",
       "Avg_BPM:SFat_Percentage                                 -2.483e-02  1.367e-01\n",
       "Avg_BPM:Water_Intake..liters.                           -1.732e-01  1.961e-01\n",
       "Avg_BPM:Workout_Frequency..days.week.3                  -1.130e-01  2.205e-01\n",
       "Avg_BPM:Workout_Frequency..days.week.4                   2.717e-01  3.098e-01\n",
       "Avg_BPM:Workout_Frequency..days.week.5                   9.676e-02  4.466e-01\n",
       "Avg_BPM:Experience_Level2                               -1.508e-01  2.437e-01\n",
       "Avg_BPM:Experience_Level3                                3.075e-01  5.018e-01\n",
       "Resting_BPM:Session_Duration..hours.                    -4.930e-01  6.688e-01\n",
       "Resting_BPM:Workout_TypeHIIT                            -1.972e-01  4.069e-01\n",
       "Resting_BPM:Workout_TypeStrength                        -8.359e-02  3.840e-01\n",
       "Resting_BPM:Workout_TypeYoga                             2.201e-01  3.907e-01\n",
       "Resting_BPM:SFat_Percentage                              7.715e-01  2.791e-01\n",
       "Resting_BPM:Water_Intake..liters.                       -9.197e-02  3.847e-01\n",
       "Resting_BPM:Workout_Frequency..days.week.3              -4.633e-02  4.374e-01\n",
       "Resting_BPM:Workout_Frequency..days.week.4              -2.398e-02  6.135e-01\n",
       "Resting_BPM:Workout_Frequency..days.week.5              -3.154e-01  8.934e-01\n",
       "Resting_BPM:Experience_Level2                            2.381e-01  4.835e-01\n",
       "Resting_BPM:Experience_Level3                           -3.951e-01  1.022e+00\n",
       "Session_Duration..hours.:Workout_TypeHIIT               -1.890e+01  1.360e+01\n",
       "Session_Duration..hours.:Workout_TypeStrength            1.147e+01  1.335e+01\n",
       "Session_Duration..hours.:Workout_TypeYoga               -1.190e+01  1.278e+01\n",
       "Session_Duration..hours.:SFat_Percentage                -1.229e+01  8.832e+00\n",
       "Session_Duration..hours.:Water_Intake..liters.          -5.240e+00  1.244e+01\n",
       "Session_Duration..hours.:Workout_Frequency..days.week.3 -3.881e-01  1.144e+01\n",
       "Session_Duration..hours.:Workout_Frequency..days.week.4 -4.435e+01  2.412e+01\n",
       "Session_Duration..hours.:Workout_Frequency..days.week.5  2.967e+01  4.099e+01\n",
       "Session_Duration..hours.:Experience_Level2               1.855e+01  1.789e+01\n",
       "Session_Duration..hours.:Experience_Level3               2.316e+01  3.794e+01\n",
       "Workout_TypeHIIT:SFat_Percentage                        -4.405e+00  5.689e+00\n",
       "Workout_TypeStrength:SFat_Percentage                    -7.855e+00  5.416e+00\n",
       "Workout_TypeYoga:SFat_Percentage                        -7.074e+00  5.492e+00\n",
       "Workout_TypeHIIT:Water_Intake..liters.                   1.332e+01  7.562e+00\n",
       "Workout_TypeStrength:Water_Intake..liters.               3.748e+00  7.567e+00\n",
       "Workout_TypeYoga:Water_Intake..liters.                   1.599e+00  7.448e+00\n",
       "Workout_TypeHIIT:Workout_Frequency..days.week.3         -6.758e+00  8.759e+00\n",
       "Workout_TypeStrength:Workout_Frequency..days.week.3     -9.710e-01  9.131e+00\n",
       "Workout_TypeYoga:Workout_Frequency..days.week.3         -4.870e+00  8.773e+00\n",
       "Workout_TypeHIIT:Workout_Frequency..days.week.4         -7.730e+00  1.249e+01\n",
       "Workout_TypeStrength:Workout_Frequency..days.week.4     -3.370e+00  1.230e+01\n",
       "Workout_TypeYoga:Workout_Frequency..days.week.4         -8.805e+00  1.247e+01\n",
       "Workout_TypeHIIT:Workout_Frequency..days.week.5         -7.634e+00  1.811e+01\n",
       "Workout_TypeStrength:Workout_Frequency..days.week.5      4.908e+00  1.816e+01\n",
       "Workout_TypeYoga:Workout_Frequency..days.week.5         -1.797e+01  1.807e+01\n",
       "Workout_TypeHIIT:Experience_Level2                      -1.146e+01  9.687e+00\n",
       "Workout_TypeStrength:Experience_Level2                  -1.471e+01  9.367e+00\n",
       "Workout_TypeYoga:Experience_Level2                      -6.218e+00  9.528e+00\n",
       "Workout_TypeHIIT:Experience_Level3                       8.639e+00  2.005e+01\n",
       "Workout_TypeStrength:Experience_Level3                   9.043e+00  2.037e+01\n",
       "Workout_TypeYoga:Experience_Level3                       3.382e+01  1.959e+01\n",
       "SFat_Percentage:Water_Intake..liters.                   -4.814e+00  5.350e+00\n",
       "SFat_Percentage:Workout_Frequency..days.week.3           1.979e+00  6.091e+00\n",
       "SFat_Percentage:Workout_Frequency..days.week.4           9.473e+00  8.157e+00\n",
       "SFat_Percentage:Workout_Frequency..days.week.5           2.770e+01  2.936e+01\n",
       "SFat_Percentage:Experience_Level2                       -2.084e+00  6.338e+00\n",
       "SFat_Percentage:Experience_Level3                       -9.706e-01  2.279e+01\n",
       "Water_Intake..liters.:Workout_Frequency..days.week.3     1.892e+00  8.003e+00\n",
       "Water_Intake..liters.:Workout_Frequency..days.week.4    -1.218e+00  1.103e+01\n",
       "Water_Intake..liters.:Workout_Frequency..days.week.5            NA         NA\n",
       "Water_Intake..liters.:Experience_Level2                 -8.303e+00  8.776e+00\n",
       "Water_Intake..liters.:Experience_Level3                         NA         NA\n",
       "Workout_Frequency..days.week.3:Experience_Level2                NA         NA\n",
       "Workout_Frequency..days.week.4:Experience_Level2                NA         NA\n",
       "Workout_Frequency..days.week.5:Experience_Level2                NA         NA\n",
       "Workout_Frequency..days.week.3:Experience_Level3                NA         NA\n",
       "Workout_Frequency..days.week.4:Experience_Level3                NA         NA\n",
       "Workout_Frequency..days.week.5:Experience_Level3                NA         NA\n",
       "                                                        t value Pr(>|t|)    \n",
       "(Intercept)                                              -1.562 0.118905    \n",
       "Age                                                       1.504 0.133059    \n",
       "GenderMale                                               -1.928 0.054358 .  \n",
       "LWeight                                                   0.791 0.429204    \n",
       "Height..m.                                                0.776 0.438034    \n",
       "Max_BPM                                                   1.826 0.068263 .  \n",
       "Avg_BPM                                                   1.363 0.173312    \n",
       "Resting_BPM                                              -0.266 0.790469    \n",
       "Session_Duration..hours.                                  1.353 0.176430    \n",
       "Workout_TypeHIIT                                          0.225 0.822071    \n",
       "Workout_TypeStrength                                     -1.205 0.228731    \n",
       "Workout_TypeYoga                                          0.706 0.480370    \n",
       "SFat_Percentage                                          -1.390 0.164987    \n",
       "Water_Intake..liters.                                     1.894 0.058693 .  \n",
       "Workout_Frequency..days.week.3                           -0.107 0.914921    \n",
       "Workout_Frequency..days.week.4                            0.025 0.979759    \n",
       "Workout_Frequency..days.week.5                            0.284 0.776375    \n",
       "Experience_Level2                                        -0.479 0.631950    \n",
       "Experience_Level3                                         0.355 0.722350    \n",
       "Age:GenderMale                                           -1.074 0.283056    \n",
       "Age:LWeight                                               0.708 0.479461    \n",
       "Age:Height..m.                                           -0.862 0.389221    \n",
       "Age:Max_BPM                                               0.060 0.952519    \n",
       "Age:Avg_BPM                                              -3.790 0.000165 ***\n",
       "Age:Resting_BPM                                          -0.610 0.541786    \n",
       "Age:Session_Duration..hours.                             -7.326 7.37e-13 ***\n",
       "Age:Workout_TypeHIIT                                     -1.057 0.290901    \n",
       "Age:Workout_TypeStrength                                  0.137 0.891139    \n",
       "Age:Workout_TypeYoga                                     -0.593 0.553692    \n",
       "Age:SFat_Percentage                                       0.226 0.820916    \n",
       "Age:Water_Intake..liters.                                -0.446 0.655586    \n",
       "Age:Workout_Frequency..days.week.3                       -0.230 0.818526    \n",
       "Age:Workout_Frequency..days.week.4                       -1.033 0.302052    \n",
       "Age:Workout_Frequency..days.week.5                        0.134 0.893134    \n",
       "Age:Experience_Level2                                     1.008 0.313988    \n",
       "Age:Experience_Level3                                    -0.154 0.877561    \n",
       "GenderMale:LWeight                                       -0.002 0.998362    \n",
       "GenderMale:Height..m.                                     0.495 0.620952    \n",
       "GenderMale:Max_BPM                                        1.200 0.230573    \n",
       "GenderMale:Avg_BPM                                        3.677 0.000257 ***\n",
       "GenderMale:Resting_BPM                                   -0.350 0.726097    \n",
       "GenderMale:Session_Duration..hours.                       5.389 1.00e-07 ***\n",
       "GenderMale:Workout_TypeHIIT                              -0.695 0.487420    \n",
       "GenderMale:Workout_TypeStrength                          -0.092 0.926604    \n",
       "GenderMale:Workout_TypeYoga                               0.386 0.699977    \n",
       "GenderMale:SFat_Percentage                               -0.009 0.992865    \n",
       "GenderMale:Water_Intake..liters.                          1.360 0.174270    \n",
       "GenderMale:Workout_Frequency..days.week.3                -0.065 0.947917    \n",
       "GenderMale:Workout_Frequency..days.week.4                 0.392 0.694895    \n",
       "GenderMale:Workout_Frequency..days.week.5                 0.977 0.329147    \n",
       "GenderMale:Experience_Level2                             -0.574 0.566077    \n",
       "GenderMale:Experience_Level3                             -0.931 0.352139    \n",
       "LWeight:Height..m.                                       -0.675 0.499641    \n",
       "LWeight:Max_BPM                                          -2.180 0.029627 *  \n",
       "LWeight:Avg_BPM                                           0.477 0.633560    \n",
       "LWeight:Resting_BPM                                       0.920 0.357771    \n",
       "LWeight:Session_Duration..hours.                          0.634 0.526253    \n",
       "LWeight:Workout_TypeHIIT                                  1.708 0.088050 .  \n",
       "LWeight:Workout_TypeStrength                              0.258 0.796690    \n",
       "LWeight:Workout_TypeYoga                                  0.614 0.539371    \n",
       "LWeight:SFat_Percentage                                  -0.580 0.562025    \n",
       "LWeight:Water_Intake..liters.                             0.699 0.484597    \n",
       "LWeight:Workout_Frequency..days.week.3                   -0.141 0.887573    \n",
       "LWeight:Workout_Frequency..days.week.4                   -0.689 0.491038    \n",
       "LWeight:Workout_Frequency..days.week.5                   -1.190 0.234591    \n",
       "LWeight:Experience_Level2                                 0.943 0.346242    \n",
       "LWeight:Experience_Level3                                 0.142 0.887220    \n",
       "Height..m.:Max_BPM                                        0.918 0.358755    \n",
       "Height..m.:Avg_BPM                                       -1.290 0.197636    \n",
       "Height..m.:Resting_BPM                                   -1.517 0.129884    \n",
       "Height..m.:Session_Duration..hours.                      -1.178 0.239317    \n",
       "Height..m.:Workout_TypeHIIT                              -2.131 0.033453 *  \n",
       "Height..m.:Workout_TypeStrength                           1.820 0.069216 .  \n",
       "Height..m.:Workout_TypeYoga                              -2.271 0.023493 *  \n",
       "Height..m.:SFat_Percentage                                3.178 0.001557 ** \n",
       "Height..m.:Water_Intake..liters.                         -1.532 0.126078    \n",
       "Height..m.:Workout_Frequency..days.week.3                 0.148 0.882162    \n",
       "Height..m.:Workout_Frequency..days.week.4                 0.655 0.512457    \n",
       "Height..m.:Workout_Frequency..days.week.5                 0.333 0.738953    \n",
       "Height..m.:Experience_Level2                              0.321 0.748181    \n",
       "Height..m.:Experience_Level3                             -1.257 0.209159    \n",
       "Max_BPM:Avg_BPM                                          -1.474 0.141055    \n",
       "Max_BPM:Resting_BPM                                      -0.355 0.722365    \n",
       "Max_BPM:Session_Duration..hours.                          0.401 0.688877    \n",
       "Max_BPM:Workout_TypeHIIT                                  0.371 0.711049    \n",
       "Max_BPM:Workout_TypeStrength                              0.599 0.549350    \n",
       "Max_BPM:Workout_TypeYoga                                  0.920 0.357765    \n",
       "Max_BPM:SFat_Percentage                                  -0.539 0.590200    \n",
       "Max_BPM:Water_Intake..liters.                            -2.040 0.041740 *  \n",
       "Max_BPM:Workout_Frequency..days.week.3                    0.487 0.626744    \n",
       "Max_BPM:Workout_Frequency..days.week.4                    0.180 0.856913    \n",
       "Max_BPM:Workout_Frequency..days.week.5                    1.864 0.062839 .  \n",
       "Max_BPM:Experience_Level2                                -0.224 0.822699    \n",
       "Max_BPM:Experience_Level3                                -0.484 0.628457    \n",
       "Avg_BPM:Resting_BPM                                       1.444 0.149379    \n",
       "Avg_BPM:Session_Duration..hours.                         14.027  < 2e-16 ***\n",
       "Avg_BPM:Workout_TypeHIIT                                 -0.195 0.845813    \n",
       "Avg_BPM:Workout_TypeStrength                              0.059 0.952993    \n",
       "Avg_BPM:Workout_TypeYoga                                 -0.441 0.659287    \n",
       "Avg_BPM:SFat_Percentage                                  -0.182 0.855887    \n",
       "Avg_BPM:Water_Intake..liters.                            -0.883 0.377538    \n",
       "Avg_BPM:Workout_Frequency..days.week.3                   -0.513 0.608431    \n",
       "Avg_BPM:Workout_Frequency..days.week.4                    0.877 0.380895    \n",
       "Avg_BPM:Workout_Frequency..days.week.5                    0.217 0.828556    \n",
       "Avg_BPM:Experience_Level2                                -0.619 0.536273    \n",
       "Avg_BPM:Experience_Level3                                 0.613 0.540254    \n",
       "Resting_BPM:Session_Duration..hours.                     -0.737 0.461338    \n",
       "Resting_BPM:Workout_TypeHIIT                             -0.485 0.628182    \n",
       "Resting_BPM:Workout_TypeStrength                         -0.218 0.827753    \n",
       "Resting_BPM:Workout_TypeYoga                              0.563 0.573416    \n",
       "Resting_BPM:SFat_Percentage                               2.765 0.005868 ** \n",
       "Resting_BPM:Water_Intake..liters.                        -0.239 0.811111    \n",
       "Resting_BPM:Workout_Frequency..days.week.3               -0.106 0.915677    \n",
       "Resting_BPM:Workout_Frequency..days.week.4               -0.039 0.968837    \n",
       "Resting_BPM:Workout_Frequency..days.week.5               -0.353 0.724141    \n",
       "Resting_BPM:Experience_Level2                             0.492 0.622617    \n",
       "Resting_BPM:Experience_Level3                            -0.387 0.699257    \n",
       "Session_Duration..hours.:Workout_TypeHIIT                -1.390 0.165047    \n",
       "Session_Duration..hours.:Workout_TypeStrength             0.859 0.390578    \n",
       "Session_Duration..hours.:Workout_TypeYoga                -0.931 0.352033    \n",
       "Session_Duration..hours.:SFat_Percentage                 -1.392 0.164504    \n",
       "Session_Duration..hours.:Water_Intake..liters.           -0.421 0.673820    \n",
       "Session_Duration..hours.:Workout_Frequency..days.week.3  -0.034 0.972942    \n",
       "Session_Duration..hours.:Workout_Frequency..days.week.4  -1.838 0.066516 .  \n",
       "Session_Duration..hours.:Workout_Frequency..days.week.5   0.724 0.469506    \n",
       "Session_Duration..hours.:Experience_Level2                1.037 0.300105    \n",
       "Session_Duration..hours.:Experience_Level3                0.610 0.541832    \n",
       "Workout_TypeHIIT:SFat_Percentage                         -0.774 0.439118    \n",
       "Workout_TypeStrength:SFat_Percentage                     -1.450 0.147503    \n",
       "Workout_TypeYoga:SFat_Percentage                         -1.288 0.198175    \n",
       "Workout_TypeHIIT:Water_Intake..liters.                    1.761 0.078676 .  \n",
       "Workout_TypeStrength:Water_Intake..liters.                0.495 0.620611    \n",
       "Workout_TypeYoga:Water_Intake..liters.                    0.215 0.830124    \n",
       "Workout_TypeHIIT:Workout_Frequency..days.week.3          -0.772 0.440646    \n",
       "Workout_TypeStrength:Workout_Frequency..days.week.3      -0.106 0.915349    \n",
       "Workout_TypeYoga:Workout_Frequency..days.week.3          -0.555 0.579022    \n",
       "Workout_TypeHIIT:Workout_Frequency..days.week.4          -0.619 0.536260    \n",
       "Workout_TypeStrength:Workout_Frequency..days.week.4      -0.274 0.784176    \n",
       "Workout_TypeYoga:Workout_Frequency..days.week.4          -0.706 0.480403    \n",
       "Workout_TypeHIIT:Workout_Frequency..days.week.5          -0.422 0.673415    \n",
       "Workout_TypeStrength:Workout_Frequency..days.week.5       0.270 0.786978    \n",
       "Workout_TypeYoga:Workout_Frequency..days.week.5          -0.994 0.320550    \n",
       "Workout_TypeHIIT:Experience_Level2                       -1.184 0.237062    \n",
       "Workout_TypeStrength:Experience_Level2                   -1.571 0.116803    \n",
       "Workout_TypeYoga:Experience_Level2                       -0.653 0.514213    \n",
       "Workout_TypeHIIT:Experience_Level3                        0.431 0.666730    \n",
       "Workout_TypeStrength:Experience_Level3                    0.444 0.657208    \n",
       "Workout_TypeYoga:Experience_Level3                        1.726 0.084793 .  \n",
       "SFat_Percentage:Water_Intake..liters.                    -0.900 0.368546    \n",
       "SFat_Percentage:Workout_Frequency..days.week.3            0.325 0.745360    \n",
       "SFat_Percentage:Workout_Frequency..days.week.4            1.161 0.245958    \n",
       "SFat_Percentage:Workout_Frequency..days.week.5            0.943 0.345816    \n",
       "SFat_Percentage:Experience_Level2                        -0.329 0.742419    \n",
       "SFat_Percentage:Experience_Level3                        -0.043 0.966041    \n",
       "Water_Intake..liters.:Workout_Frequency..days.week.3      0.236 0.813172    \n",
       "Water_Intake..liters.:Workout_Frequency..days.week.4     -0.110 0.912102    \n",
       "Water_Intake..liters.:Workout_Frequency..days.week.5         NA       NA    \n",
       "Water_Intake..liters.:Experience_Level2                  -0.946 0.344446    \n",
       "Water_Intake..liters.:Experience_Level3                      NA       NA    \n",
       "Workout_Frequency..days.week.3:Experience_Level2             NA       NA    \n",
       "Workout_Frequency..days.week.4:Experience_Level2             NA       NA    \n",
       "Workout_Frequency..days.week.5:Experience_Level2             NA       NA    \n",
       "Workout_Frequency..days.week.3:Experience_Level3             NA       NA    \n",
       "Workout_Frequency..days.week.4:Experience_Level3             NA       NA    \n",
       "Workout_Frequency..days.week.5:Experience_Level3             NA       NA    \n",
       "---\n",
       "Signif. codes:  0 '***' 0.001 '**' 0.01 '*' 0.05 '.' 0.1 ' ' 1\n",
       "\n",
       "(Dispersion parameter for gaussian family taken to be 633.2569)\n",
       "\n",
       "    Null deviance: 58935195  on 778  degrees of freedom\n",
       "Residual deviance:   393886  on 622  degrees of freedom\n",
       "AIC: 7376.6\n",
       "\n",
       "Number of Fisher Scoring iterations: 2\n"
      ]
     },
     "metadata": {},
     "output_type": "display_data"
    },
    {
     "data": {
      "image/png": "[encoded data removed]",
      "text/plain": [
       "plot without title"
      ]
     },
     "metadata": {},
     "output_type": "display_data"
    }
   ],
   "source": [
    "### glm on calories burned with interaction terms ###\n",
    "\n",
    "# Fit the model with interaction terms\n",
    "\n",
    "modele_interactions <- glm(Calories_Burned ~ (.)^2, data = gym_train, family = gaussian)\n",
    "summary(modele_interactions)\n",
    "\n",
    "# Résidus\n",
    "residus_glm <- resid(modele_interactions)\n",
    "\n",
    "# Valeurs ajustées (prédictions du modèle sur l'échantillon d'entraînement)\n",
    "fitted_glm <- fitted(modele_interactions)\n",
    "\n",
    "# Visualisation des résidus\n",
    "gplot.res(fitted_glm, residus_glm, \"GLM avec interactions\")\n"
   ]
  },
  {
   "cell_type": "code",
   "execution_count": 16,
   "id": "1dcab6cb",
   "metadata": {
    "vscode": {
     "languageId": "r"
    }
   },
   "outputs": [
    {
     "data": {
      "text/plain": [
       "\n",
       "Call:\n",
       "glm(formula = Calories_Burned ~ (.)^2, family = gaussian, data = gym_train)\n",
       "\n",
       "Coefficients: (8 not defined because of singularities)\n",
       "                                                          Estimate Std. Error\n",
       "(Intercept)                                             -1.159e+03  7.420e+02\n",
       "Age                                                      4.246e+00  2.823e+00\n",
       "GenderMale                                              -2.893e+02  1.501e+02\n",
       "LWeight                                                  1.017e+02  1.286e+02\n",
       "Height..m.                                               2.189e+02  2.820e+02\n",
       "Max_BPM                                                  4.768e+00  2.611e+00\n",
       "Avg_BPM                                                  2.921e+00  2.143e+00\n",
       "Resting_BPM                                             -1.182e+00  4.447e+00\n",
       "Session_Duration..hours.                                 2.163e+02  1.598e+02\n",
       "Workout_TypeHIIT                                         2.271e+01  1.010e+02\n",
       "Workout_TypeStrength                                    -1.129e+02  9.369e+01\n",
       "Workout_TypeYoga                                         6.665e+01  9.439e+01\n",
       "SFat_Percentage                                         -9.275e+01  6.672e+01\n",
       "Water_Intake..liters.                                    1.597e+02  8.435e+01\n",
       "Workout_Frequency..days.week.3                          -1.115e+01  1.044e+02\n",
       "Workout_Frequency..days.week.4                           3.673e+00  1.447e+02\n",
       "Workout_Frequency..days.week.5                           1.356e+02  4.773e+02\n",
       "Experience_Level2                                       -5.366e+01  1.120e+02\n",
       "Experience_Level3                                        1.375e+02  3.868e+02\n",
       "Age:GenderMale                                          -3.871e-01  3.603e-01\n",
       "Age:LWeight                                              2.660e-01  3.759e-01\n",
       "Age:Height..m.                                          -7.060e-01  8.194e-01\n",
       "Age:Max_BPM                                              4.420e-04  7.420e-03\n",
       "Age:Avg_BPM                                             -2.104e-02  5.551e-03\n",
       "Age:Resting_BPM                                         -7.076e-03  1.159e-02\n",
       "Age:Session_Duration..hours.                            -2.914e+00  3.978e-01\n",
       "Age:Workout_TypeHIIT                                    -2.480e-01  2.346e-01\n",
       "Age:Workout_TypeStrength                                 3.167e-02  2.313e-01\n",
       "Age:Workout_TypeYoga                                    -1.409e-01  2.378e-01\n",
       "Age:SFat_Percentage                                      3.803e-02  1.679e-01\n",
       "Age:Water_Intake..liters.                               -1.063e-01  2.382e-01\n",
       "Age:Workout_Frequency..days.week.3                      -6.107e-02  2.661e-01\n",
       "Age:Workout_Frequency..days.week.4                      -3.816e-01  3.695e-01\n",
       "Age:Workout_Frequency..days.week.5                       7.381e-02  5.492e-01\n",
       "Age:Experience_Level2                                    2.875e-01  2.853e-01\n",
       "Age:Experience_Level3                                   -9.558e-02  6.201e-01\n",
       "GenderMale:LWeight                                      -3.516e-02  1.712e+01\n",
       "GenderMale:Height..m.                                    1.804e+01  3.646e+01\n",
       "GenderMale:Max_BPM                                       4.132e-01  3.443e-01\n",
       "GenderMale:Avg_BPM                                       1.059e+00  2.880e-01\n",
       "GenderMale:Resting_BPM                                  -2.093e-01  5.971e-01\n",
       "GenderMale:Session_Duration..hours.                      1.024e+02  1.901e+01\n",
       "GenderMale:Workout_TypeHIIT                             -8.199e+00  1.180e+01\n",
       "GenderMale:Workout_TypeStrength                         -1.090e+00  1.183e+01\n",
       "GenderMale:Workout_TypeYoga                              4.476e+00  1.161e+01\n",
       "GenderMale:SFat_Percentage                              -6.337e-02  7.084e+00\n",
       "GenderMale:Water_Intake..liters.                         1.269e+01  9.331e+00\n",
       "GenderMale:Workout_Frequency..days.week.3               -8.383e-01  1.283e+01\n",
       "GenderMale:Workout_Frequency..days.week.4                6.885e+00  1.755e+01\n",
       "GenderMale:Workout_Frequency..days.week.5                4.327e+01  4.431e+01\n",
       "GenderMale:Experience_Level2                            -8.033e+00  1.399e+01\n",
       "GenderMale:Experience_Level3                            -3.345e+01  3.593e+01\n",
       "LWeight:Height..m.                                      -2.884e+01  4.270e+01\n",
       "LWeight:Max_BPM                                         -8.256e-01  3.787e-01\n",
       "LWeight:Avg_BPM                                          1.466e-01  3.073e-01\n",
       "LWeight:Resting_BPM                                      5.993e-01  6.512e-01\n",
       "LWeight:Session_Duration..hours.                         1.294e+01  2.041e+01\n",
       "LWeight:Workout_TypeHIIT                                 2.389e+01  1.398e+01\n",
       "LWeight:Workout_TypeStrength                             3.198e+00  1.241e+01\n",
       "LWeight:Workout_TypeYoga                                 7.820e+00  1.273e+01\n",
       "LWeight:SFat_Percentage                                 -5.089e+00  8.773e+00\n",
       "LWeight:Water_Intake..liters.                            8.029e+00  1.148e+01\n",
       "LWeight:Workout_Frequency..days.week.3                  -1.849e+00  1.308e+01\n",
       "LWeight:Workout_Frequency..days.week.4                  -1.268e+01  1.840e+01\n",
       "LWeight:Workout_Frequency..days.week.5                  -1.282e+02  1.077e+02\n",
       "LWeight:Experience_Level2                                1.372e+01  1.456e+01\n",
       "LWeight:Experience_Level3                                1.159e+01  8.169e+01\n",
       "Height..m.:Max_BPM                                       7.872e-01  8.571e-01\n",
       "Height..m.:Avg_BPM                                      -8.942e-01  6.933e-01\n",
       "Height..m.:Resting_BPM                                  -2.045e+00  1.348e+00\n",
       "Height..m.:Session_Duration..hours.                     -5.714e+01  4.851e+01\n",
       "Height..m.:Workout_TypeHIIT                             -5.957e+01  2.795e+01\n",
       "Height..m.:Workout_TypeStrength                          4.778e+01  2.625e+01\n",
       "Height..m.:Workout_TypeYoga                             -6.159e+01  2.712e+01\n",
       "Height..m.:SFat_Percentage                               6.756e+01  2.126e+01\n",
       "Height..m.:Water_Intake..liters.                        -3.886e+01  2.537e+01\n",
       "Height..m.:Workout_Frequency..days.week.3                4.744e+00  3.199e+01\n",
       "Height..m.:Workout_Frequency..days.week.4                2.893e+01  4.414e+01\n",
       "Height..m.:Workout_Frequency..days.week.5                2.068e+01  6.203e+01\n",
       "Height..m.:Experience_Level2                             1.109e+01  3.453e+01\n",
       "Height..m.:Experience_Level3                            -9.143e+01  7.273e+01\n",
       "Max_BPM:Avg_BPM                                         -8.789e-03  5.964e-03\n",
       "Max_BPM:Resting_BPM                                     -4.348e-03  1.223e-02\n",
       "Max_BPM:Session_Duration..hours.                         1.684e-01  4.204e-01\n",
       "Max_BPM:Workout_TypeHIIT                                 9.342e-02  2.521e-01\n",
       "Max_BPM:Workout_TypeStrength                             1.457e-01  2.433e-01\n",
       "Max_BPM:Workout_TypeYoga                                 2.259e-01  2.454e-01\n",
       "Max_BPM:SFat_Percentage                                 -9.762e-02  1.812e-01\n",
       "Max_BPM:Water_Intake..liters.                           -4.818e-01  2.362e-01\n",
       "Max_BPM:Workout_Frequency..days.week.3                   1.409e-01  2.895e-01\n",
       "Max_BPM:Workout_Frequency..days.week.4                   7.051e-02  3.909e-01\n",
       "Max_BPM:Workout_Frequency..days.week.5                   1.057e+00  5.671e-01\n",
       "Max_BPM:Experience_Level2                               -6.673e-02  2.977e-01\n",
       "Max_BPM:Experience_Level3                               -3.093e-01  6.388e-01\n",
       "Avg_BPM:Resting_BPM                                      1.364e-02  9.447e-03\n",
       "Avg_BPM:Session_Duration..hours.                         4.571e+00  3.258e-01\n",
       "Avg_BPM:Workout_TypeHIIT                                -3.875e-02  1.992e-01\n",
       "Avg_BPM:Workout_TypeStrength                             1.134e-02  1.923e-01\n",
       "Avg_BPM:Workout_TypeYoga                                -8.890e-02  2.015e-01\n",
       "Avg_BPM:SFat_Percentage                                 -2.483e-02  1.367e-01\n",
       "Avg_BPM:Water_Intake..liters.                           -1.732e-01  1.961e-01\n",
       "Avg_BPM:Workout_Frequency..days.week.3                  -1.130e-01  2.205e-01\n",
       "Avg_BPM:Workout_Frequency..days.week.4                   2.717e-01  3.098e-01\n",
       "Avg_BPM:Workout_Frequency..days.week.5                   9.676e-02  4.466e-01\n",
       "Avg_BPM:Experience_Level2                               -1.508e-01  2.437e-01\n",
       "Avg_BPM:Experience_Level3                                3.075e-01  5.018e-01\n",
       "Resting_BPM:Session_Duration..hours.                    -4.930e-01  6.688e-01\n",
       "Resting_BPM:Workout_TypeHIIT                            -1.972e-01  4.069e-01\n",
       "Resting_BPM:Workout_TypeStrength                        -8.359e-02  3.840e-01\n",
       "Resting_BPM:Workout_TypeYoga                             2.201e-01  3.907e-01\n",
       "Resting_BPM:SFat_Percentage                              7.715e-01  2.791e-01\n",
       "Resting_BPM:Water_Intake..liters.                       -9.197e-02  3.847e-01\n",
       "Resting_BPM:Workout_Frequency..days.week.3              -4.633e-02  4.374e-01\n",
       "Resting_BPM:Workout_Frequency..days.week.4              -2.398e-02  6.135e-01\n",
       "Resting_BPM:Workout_Frequency..days.week.5              -3.154e-01  8.934e-01\n",
       "Resting_BPM:Experience_Level2                            2.381e-01  4.835e-01\n",
       "Resting_BPM:Experience_Level3                           -3.951e-01  1.022e+00\n",
       "Session_Duration..hours.:Workout_TypeHIIT               -1.890e+01  1.360e+01\n",
       "Session_Duration..hours.:Workout_TypeStrength            1.147e+01  1.335e+01\n",
       "Session_Duration..hours.:Workout_TypeYoga               -1.190e+01  1.278e+01\n",
       "Session_Duration..hours.:SFat_Percentage                -1.229e+01  8.832e+00\n",
       "Session_Duration..hours.:Water_Intake..liters.          -5.240e+00  1.244e+01\n",
       "Session_Duration..hours.:Workout_Frequency..days.week.3 -3.881e-01  1.144e+01\n",
       "Session_Duration..hours.:Workout_Frequency..days.week.4 -4.435e+01  2.412e+01\n",
       "Session_Duration..hours.:Workout_Frequency..days.week.5  2.967e+01  4.099e+01\n",
       "Session_Duration..hours.:Experience_Level2               1.855e+01  1.789e+01\n",
       "Session_Duration..hours.:Experience_Level3               2.316e+01  3.794e+01\n",
       "Workout_TypeHIIT:SFat_Percentage                        -4.405e+00  5.689e+00\n",
       "Workout_TypeStrength:SFat_Percentage                    -7.855e+00  5.416e+00\n",
       "Workout_TypeYoga:SFat_Percentage                        -7.074e+00  5.492e+00\n",
       "Workout_TypeHIIT:Water_Intake..liters.                   1.332e+01  7.562e+00\n",
       "Workout_TypeStrength:Water_Intake..liters.               3.748e+00  7.567e+00\n",
       "Workout_TypeYoga:Water_Intake..liters.                   1.599e+00  7.448e+00\n",
       "Workout_TypeHIIT:Workout_Frequency..days.week.3         -6.758e+00  8.759e+00\n",
       "Workout_TypeStrength:Workout_Frequency..days.week.3     -9.710e-01  9.131e+00\n",
       "Workout_TypeYoga:Workout_Frequency..days.week.3         -4.870e+00  8.773e+00\n",
       "Workout_TypeHIIT:Workout_Frequency..days.week.4         -7.730e+00  1.249e+01\n",
       "Workout_TypeStrength:Workout_Frequency..days.week.4     -3.370e+00  1.230e+01\n",
       "Workout_TypeYoga:Workout_Frequency..days.week.4         -8.805e+00  1.247e+01\n",
       "Workout_TypeHIIT:Workout_Frequency..days.week.5         -7.634e+00  1.811e+01\n",
       "Workout_TypeStrength:Workout_Frequency..days.week.5      4.908e+00  1.816e+01\n",
       "Workout_TypeYoga:Workout_Frequency..days.week.5         -1.797e+01  1.807e+01\n",
       "Workout_TypeHIIT:Experience_Level2                      -1.146e+01  9.687e+00\n",
       "Workout_TypeStrength:Experience_Level2                  -1.471e+01  9.367e+00\n",
       "Workout_TypeYoga:Experience_Level2                      -6.218e+00  9.528e+00\n",
       "Workout_TypeHIIT:Experience_Level3                       8.639e+00  2.005e+01\n",
       "Workout_TypeStrength:Experience_Level3                   9.043e+00  2.037e+01\n",
       "Workout_TypeYoga:Experience_Level3                       3.382e+01  1.959e+01\n",
       "SFat_Percentage:Water_Intake..liters.                   -4.814e+00  5.350e+00\n",
       "SFat_Percentage:Workout_Frequency..days.week.3           1.979e+00  6.091e+00\n",
       "SFat_Percentage:Workout_Frequency..days.week.4           9.473e+00  8.157e+00\n",
       "SFat_Percentage:Workout_Frequency..days.week.5           2.770e+01  2.936e+01\n",
       "SFat_Percentage:Experience_Level2                       -2.084e+00  6.338e+00\n",
       "SFat_Percentage:Experience_Level3                       -9.706e-01  2.279e+01\n",
       "Water_Intake..liters.:Workout_Frequency..days.week.3     1.892e+00  8.003e+00\n",
       "Water_Intake..liters.:Workout_Frequency..days.week.4    -1.218e+00  1.103e+01\n",
       "Water_Intake..liters.:Workout_Frequency..days.week.5            NA         NA\n",
       "Water_Intake..liters.:Experience_Level2                 -8.303e+00  8.776e+00\n",
       "Water_Intake..liters.:Experience_Level3                         NA         NA\n",
       "Workout_Frequency..days.week.3:Experience_Level2                NA         NA\n",
       "Workout_Frequency..days.week.4:Experience_Level2                NA         NA\n",
       "Workout_Frequency..days.week.5:Experience_Level2                NA         NA\n",
       "Workout_Frequency..days.week.3:Experience_Level3                NA         NA\n",
       "Workout_Frequency..days.week.4:Experience_Level3                NA         NA\n",
       "Workout_Frequency..days.week.5:Experience_Level3                NA         NA\n",
       "                                                        t value Pr(>|t|)    \n",
       "(Intercept)                                              -1.562 0.118905    \n",
       "Age                                                       1.504 0.133059    \n",
       "GenderMale                                               -1.928 0.054358 .  \n",
       "LWeight                                                   0.791 0.429204    \n",
       "Height..m.                                                0.776 0.438034    \n",
       "Max_BPM                                                   1.826 0.068263 .  \n",
       "Avg_BPM                                                   1.363 0.173312    \n",
       "Resting_BPM                                              -0.266 0.790469    \n",
       "Session_Duration..hours.                                  1.353 0.176430    \n",
       "Workout_TypeHIIT                                          0.225 0.822071    \n",
       "Workout_TypeStrength                                     -1.205 0.228731    \n",
       "Workout_TypeYoga                                          0.706 0.480370    \n",
       "SFat_Percentage                                          -1.390 0.164987    \n",
       "Water_Intake..liters.                                     1.894 0.058693 .  \n",
       "Workout_Frequency..days.week.3                           -0.107 0.914921    \n",
       "Workout_Frequency..days.week.4                            0.025 0.979759    \n",
       "Workout_Frequency..days.week.5                            0.284 0.776375    \n",
       "Experience_Level2                                        -0.479 0.631950    \n",
       "Experience_Level3                                         0.355 0.722350    \n",
       "Age:GenderMale                                           -1.074 0.283056    \n",
       "Age:LWeight                                               0.708 0.479461    \n",
       "Age:Height..m.                                           -0.862 0.389221    \n",
       "Age:Max_BPM                                               0.060 0.952519    \n",
       "Age:Avg_BPM                                              -3.790 0.000165 ***\n",
       "Age:Resting_BPM                                          -0.610 0.541786    \n",
       "Age:Session_Duration..hours.                             -7.326 7.37e-13 ***\n",
       "Age:Workout_TypeHIIT                                     -1.057 0.290901    \n",
       "Age:Workout_TypeStrength                                  0.137 0.891139    \n",
       "Age:Workout_TypeYoga                                     -0.593 0.553692    \n",
       "Age:SFat_Percentage                                       0.226 0.820916    \n",
       "Age:Water_Intake..liters.                                -0.446 0.655586    \n",
       "Age:Workout_Frequency..days.week.3                       -0.230 0.818526    \n",
       "Age:Workout_Frequency..days.week.4                       -1.033 0.302052    \n",
       "Age:Workout_Frequency..days.week.5                        0.134 0.893134    \n",
       "Age:Experience_Level2                                     1.008 0.313988    \n",
       "Age:Experience_Level3                                    -0.154 0.877561    \n",
       "GenderMale:LWeight                                       -0.002 0.998362    \n",
       "GenderMale:Height..m.                                     0.495 0.620952    \n",
       "GenderMale:Max_BPM                                        1.200 0.230573    \n",
       "GenderMale:Avg_BPM                                        3.677 0.000257 ***\n",
       "GenderMale:Resting_BPM                                   -0.350 0.726097    \n",
       "GenderMale:Session_Duration..hours.                       5.389 1.00e-07 ***\n",
       "GenderMale:Workout_TypeHIIT                              -0.695 0.487420    \n",
       "GenderMale:Workout_TypeStrength                          -0.092 0.926604    \n",
       "GenderMale:Workout_TypeYoga                               0.386 0.699977    \n",
       "GenderMale:SFat_Percentage                               -0.009 0.992865    \n",
       "GenderMale:Water_Intake..liters.                          1.360 0.174270    \n",
       "GenderMale:Workout_Frequency..days.week.3                -0.065 0.947917    \n",
       "GenderMale:Workout_Frequency..days.week.4                 0.392 0.694895    \n",
       "GenderMale:Workout_Frequency..days.week.5                 0.977 0.329147    \n",
       "GenderMale:Experience_Level2                             -0.574 0.566077    \n",
       "GenderMale:Experience_Level3                             -0.931 0.352139    \n",
       "LWeight:Height..m.                                       -0.675 0.499641    \n",
       "LWeight:Max_BPM                                          -2.180 0.029627 *  \n",
       "LWeight:Avg_BPM                                           0.477 0.633560    \n",
       "LWeight:Resting_BPM                                       0.920 0.357771    \n",
       "LWeight:Session_Duration..hours.                          0.634 0.526253    \n",
       "LWeight:Workout_TypeHIIT                                  1.708 0.088050 .  \n",
       "LWeight:Workout_TypeStrength                              0.258 0.796690    \n",
       "LWeight:Workout_TypeYoga                                  0.614 0.539371    \n",
       "LWeight:SFat_Percentage                                  -0.580 0.562025    \n",
       "LWeight:Water_Intake..liters.                             0.699 0.484597    \n",
       "LWeight:Workout_Frequency..days.week.3                   -0.141 0.887573    \n",
       "LWeight:Workout_Frequency..days.week.4                   -0.689 0.491038    \n",
       "LWeight:Workout_Frequency..days.week.5                   -1.190 0.234591    \n",
       "LWeight:Experience_Level2                                 0.943 0.346242    \n",
       "LWeight:Experience_Level3                                 0.142 0.887220    \n",
       "Height..m.:Max_BPM                                        0.918 0.358755    \n",
       "Height..m.:Avg_BPM                                       -1.290 0.197636    \n",
       "Height..m.:Resting_BPM                                   -1.517 0.129884    \n",
       "Height..m.:Session_Duration..hours.                      -1.178 0.239317    \n",
       "Height..m.:Workout_TypeHIIT                              -2.131 0.033453 *  \n",
       "Height..m.:Workout_TypeStrength                           1.820 0.069216 .  \n",
       "Height..m.:Workout_TypeYoga                              -2.271 0.023493 *  \n",
       "Height..m.:SFat_Percentage                                3.178 0.001557 ** \n",
       "Height..m.:Water_Intake..liters.                         -1.532 0.126078    \n",
       "Height..m.:Workout_Frequency..days.week.3                 0.148 0.882162    \n",
       "Height..m.:Workout_Frequency..days.week.4                 0.655 0.512457    \n",
       "Height..m.:Workout_Frequency..days.week.5                 0.333 0.738953    \n",
       "Height..m.:Experience_Level2                              0.321 0.748181    \n",
       "Height..m.:Experience_Level3                             -1.257 0.209159    \n",
       "Max_BPM:Avg_BPM                                          -1.474 0.141055    \n",
       "Max_BPM:Resting_BPM                                      -0.355 0.722365    \n",
       "Max_BPM:Session_Duration..hours.                          0.401 0.688877    \n",
       "Max_BPM:Workout_TypeHIIT                                  0.371 0.711049    \n",
       "Max_BPM:Workout_TypeStrength                              0.599 0.549350    \n",
       "Max_BPM:Workout_TypeYoga                                  0.920 0.357765    \n",
       "Max_BPM:SFat_Percentage                                  -0.539 0.590200    \n",
       "Max_BPM:Water_Intake..liters.                            -2.040 0.041740 *  \n",
       "Max_BPM:Workout_Frequency..days.week.3                    0.487 0.626744    \n",
       "Max_BPM:Workout_Frequency..days.week.4                    0.180 0.856913    \n",
       "Max_BPM:Workout_Frequency..days.week.5                    1.864 0.062839 .  \n",
       "Max_BPM:Experience_Level2                                -0.224 0.822699    \n",
       "Max_BPM:Experience_Level3                                -0.484 0.628457    \n",
       "Avg_BPM:Resting_BPM                                       1.444 0.149379    \n",
       "Avg_BPM:Session_Duration..hours.                         14.027  < 2e-16 ***\n",
       "Avg_BPM:Workout_TypeHIIT                                 -0.195 0.845813    \n",
       "Avg_BPM:Workout_TypeStrength                              0.059 0.952993    \n",
       "Avg_BPM:Workout_TypeYoga                                 -0.441 0.659287    \n",
       "Avg_BPM:SFat_Percentage                                  -0.182 0.855887    \n",
       "Avg_BPM:Water_Intake..liters.                            -0.883 0.377538    \n",
       "Avg_BPM:Workout_Frequency..days.week.3                   -0.513 0.608431    \n",
       "Avg_BPM:Workout_Frequency..days.week.4                    0.877 0.380895    \n",
       "Avg_BPM:Workout_Frequency..days.week.5                    0.217 0.828556    \n",
       "Avg_BPM:Experience_Level2                                -0.619 0.536273    \n",
       "Avg_BPM:Experience_Level3                                 0.613 0.540254    \n",
       "Resting_BPM:Session_Duration..hours.                     -0.737 0.461338    \n",
       "Resting_BPM:Workout_TypeHIIT                             -0.485 0.628182    \n",
       "Resting_BPM:Workout_TypeStrength                         -0.218 0.827753    \n",
       "Resting_BPM:Workout_TypeYoga                              0.563 0.573416    \n",
       "Resting_BPM:SFat_Percentage                               2.765 0.005868 ** \n",
       "Resting_BPM:Water_Intake..liters.                        -0.239 0.811111    \n",
       "Resting_BPM:Workout_Frequency..days.week.3               -0.106 0.915677    \n",
       "Resting_BPM:Workout_Frequency..days.week.4               -0.039 0.968837    \n",
       "Resting_BPM:Workout_Frequency..days.week.5               -0.353 0.724141    \n",
       "Resting_BPM:Experience_Level2                             0.492 0.622617    \n",
       "Resting_BPM:Experience_Level3                            -0.387 0.699257    \n",
       "Session_Duration..hours.:Workout_TypeHIIT                -1.390 0.165047    \n",
       "Session_Duration..hours.:Workout_TypeStrength             0.859 0.390578    \n",
       "Session_Duration..hours.:Workout_TypeYoga                -0.931 0.352033    \n",
       "Session_Duration..hours.:SFat_Percentage                 -1.392 0.164504    \n",
       "Session_Duration..hours.:Water_Intake..liters.           -0.421 0.673820    \n",
       "Session_Duration..hours.:Workout_Frequency..days.week.3  -0.034 0.972942    \n",
       "Session_Duration..hours.:Workout_Frequency..days.week.4  -1.838 0.066516 .  \n",
       "Session_Duration..hours.:Workout_Frequency..days.week.5   0.724 0.469506    \n",
       "Session_Duration..hours.:Experience_Level2                1.037 0.300105    \n",
       "Session_Duration..hours.:Experience_Level3                0.610 0.541832    \n",
       "Workout_TypeHIIT:SFat_Percentage                         -0.774 0.439118    \n",
       "Workout_TypeStrength:SFat_Percentage                     -1.450 0.147503    \n",
       "Workout_TypeYoga:SFat_Percentage                         -1.288 0.198175    \n",
       "Workout_TypeHIIT:Water_Intake..liters.                    1.761 0.078676 .  \n",
       "Workout_TypeStrength:Water_Intake..liters.                0.495 0.620611    \n",
       "Workout_TypeYoga:Water_Intake..liters.                    0.215 0.830124    \n",
       "Workout_TypeHIIT:Workout_Frequency..days.week.3          -0.772 0.440646    \n",
       "Workout_TypeStrength:Workout_Frequency..days.week.3      -0.106 0.915349    \n",
       "Workout_TypeYoga:Workout_Frequency..days.week.3          -0.555 0.579022    \n",
       "Workout_TypeHIIT:Workout_Frequency..days.week.4          -0.619 0.536260    \n",
       "Workout_TypeStrength:Workout_Frequency..days.week.4      -0.274 0.784176    \n",
       "Workout_TypeYoga:Workout_Frequency..days.week.4          -0.706 0.480403    \n",
       "Workout_TypeHIIT:Workout_Frequency..days.week.5          -0.422 0.673415    \n",
       "Workout_TypeStrength:Workout_Frequency..days.week.5       0.270 0.786978    \n",
       "Workout_TypeYoga:Workout_Frequency..days.week.5          -0.994 0.320550    \n",
       "Workout_TypeHIIT:Experience_Level2                       -1.184 0.237062    \n",
       "Workout_TypeStrength:Experience_Level2                   -1.571 0.116803    \n",
       "Workout_TypeYoga:Experience_Level2                       -0.653 0.514213    \n",
       "Workout_TypeHIIT:Experience_Level3                        0.431 0.666730    \n",
       "Workout_TypeStrength:Experience_Level3                    0.444 0.657208    \n",
       "Workout_TypeYoga:Experience_Level3                        1.726 0.084793 .  \n",
       "SFat_Percentage:Water_Intake..liters.                    -0.900 0.368546    \n",
       "SFat_Percentage:Workout_Frequency..days.week.3            0.325 0.745360    \n",
       "SFat_Percentage:Workout_Frequency..days.week.4            1.161 0.245958    \n",
       "SFat_Percentage:Workout_Frequency..days.week.5            0.943 0.345816    \n",
       "SFat_Percentage:Experience_Level2                        -0.329 0.742419    \n",
       "SFat_Percentage:Experience_Level3                        -0.043 0.966041    \n",
       "Water_Intake..liters.:Workout_Frequency..days.week.3      0.236 0.813172    \n",
       "Water_Intake..liters.:Workout_Frequency..days.week.4     -0.110 0.912102    \n",
       "Water_Intake..liters.:Workout_Frequency..days.week.5         NA       NA    \n",
       "Water_Intake..liters.:Experience_Level2                  -0.946 0.344446    \n",
       "Water_Intake..liters.:Experience_Level3                      NA       NA    \n",
       "Workout_Frequency..days.week.3:Experience_Level2             NA       NA    \n",
       "Workout_Frequency..days.week.4:Experience_Level2             NA       NA    \n",
       "Workout_Frequency..days.week.5:Experience_Level2             NA       NA    \n",
       "Workout_Frequency..days.week.3:Experience_Level3             NA       NA    \n",
       "Workout_Frequency..days.week.4:Experience_Level3             NA       NA    \n",
       "Workout_Frequency..days.week.5:Experience_Level3             NA       NA    \n",
       "---\n",
       "Signif. codes:  0 '***' 0.001 '**' 0.01 '*' 0.05 '.' 0.1 ' ' 1\n",
       "\n",
       "(Dispersion parameter for gaussian family taken to be 633.2569)\n",
       "\n",
       "    Null deviance: 58935195  on 778  degrees of freedom\n",
       "Residual deviance:   393886  on 622  degrees of freedom\n",
       "AIC: 7376.6\n",
       "\n",
       "Number of Fisher Scoring iterations: 2\n"
      ]
     },
     "metadata": {},
     "output_type": "display_data"
    },
    {
     "data": {
      "image/png": "[encoded data removed]",
      "text/plain": [
       "plot without title"
      ]
     },
     "metadata": {
      "image/png": {
       "height": 420,
       "width": 420
      }
     },
     "output_type": "display_data"
    }
   ],
   "source": [
    "### glm on calories burned with interaction terms ###\n",
    "\n",
    "# Fit the model with interaction terms\n",
    "\n",
    "modele_interactions <- glm(Calories_Burned ~ (.)^2, data = gym_train, family = gaussian)\n",
    "summary(modele_interactions)\n",
    "\n",
    "# Résidus\n",
    "residus_glm <- resid(modele_interactions)\n",
    "\n",
    "# Valeurs ajustées (prédictions du modèle sur l'échantillon d'entraînement)\n",
    "fitted_glm <- fitted(modele_interactions)\n",
    "\n",
    "# Visualisation des résidus\n",
    "gplot.res(fitted_glm, residus_glm, \"GLM avec interactions\")\n"
   ]
  },
  {
   "cell_type": "code",
   "execution_count": 17,
   "id": "4b68c261",
   "metadata": {
    "vscode": {
     "languageId": "r"
    }
   },
   "outputs": [
    {
     "name": "stderr",
     "output_type": "stream",
     "text": [
      "Warning message in predict.lm(object, newdata, se.fit, scale = 1, type = if (type == :\n",
      "\"prediction from rank-deficient fit; attr(*, \"non-estim\") has doubtful cases\"\n"
     ]
    },
    {
     "name": "stdout",
     "output_type": "stream",
     "text": [
      "MSE sur le training set : 505.63 \n",
      "MSE sur le test set : 715.494 \n"
     ]
    }
   ],
   "source": [
    "# MSE sur le training set\n",
    "mse_train_glm <- mean(residus_glm^2)\n",
    "\n",
    "# MSE sur le test set\n",
    "pred_test_glm <- predict(modele_interactions, newdata = gym_test)\n",
    "mse_test_glm <- mean((pred_test_glm - gym_test$Calories_Burned)^2)\n",
    "\n",
    "# Affichage\n",
    "cat(\"MSE sur le training set :\", mse_train_glm, \"\\n\")\n",
    "cat(\"MSE sur le test set :\", mse_test_glm, \"\\n\")"
   ]
  },
  {
   "cell_type": "markdown",
   "id": "eb45181b",
   "metadata": {},
   "source": [
    "On remarque déjà que le MSE de l'échantillon test est plus élevé que celui de l'échantillon d'entrainement. Donc le surapprentissage est évident : Le modèle performe bien sur les données vues, mais généralise mal sur de nouvelles données => Erreur de généralisation.\n",
    "\n",
    "- En ce qui est du graphe des résidus, on observe une dispersion asymétrique avec des résidus extrêmes (-40 à +40). Cela indique que le modèle ne capture pas correctement certaines relations dans les données, surtout pour les valeurs élevées de calories brûlées. \n",
    "- De plus, Le modèle inclut toutes les interactions d'ordre 2 (avec 19 variables initiales → 171 interactions), toutefois on ne retire que 15 interactions significatives.\n",
    "- Surapprentissage évident :\n",
    "AIC = 7376.6 (très élevé → pénalise la complexité).\n",
    "Dispersion résiduelle = 633.26 (variance élevée des résidus).\n",
    "→ Le modèle capture du bruit plutôt que des signaux réels.\n",
    "\n",
    "Pour conclure, nous pouvons déduire que le modèle GLM avec interactions n'est pas meilleur que le modèle linéaire simple pour des raisons de complexité, de surapprentissage, et de difficulté d'interprétabilité. C'est pourquoi, nous allons priviligier une approche plus parcimonieuse pour garder un équilibre entre performance et interprétabilité notamment via des techniques de sélection de variables\n"
   ]
  },
  {
   "cell_type": "markdown",
   "id": "cef688bb",
   "metadata": {},
   "source": []
  },
  {
   "cell_type": "markdown",
   "id": "e817577b",
   "metadata": {},
   "source": [
    "### LASSO"
   ]
  },
  {
   "cell_type": "code",
   "execution_count": 41,
   "id": "584badfd",
   "metadata": {
    "vscode": {
     "languageId": "r"
    }
   },
   "outputs": [
    {
     "data": {
      "text/html": [
       "<table class=\"dataframe\">\n",
       "<caption>A matrix: 6 × 19 of type dbl</caption>\n",
       "<thead>\n",
       "\t<tr><th></th><th scope=col>Age</th><th scope=col>GenderFemale</th><th scope=col>GenderMale</th><th scope=col>LWeight</th><th scope=col>Height..m.</th><th scope=col>Max_BPM</th><th scope=col>Avg_BPM</th><th scope=col>Resting_BPM</th><th scope=col>Session_Duration..hours.</th><th scope=col>Workout_TypeHIIT</th><th scope=col>Workout_TypeStrength</th><th scope=col>Workout_TypeYoga</th><th scope=col>SFat_Percentage</th><th scope=col>Water_Intake..liters.</th><th scope=col>Workout_Frequency..days.week.3</th><th scope=col>Workout_Frequency..days.week.4</th><th scope=col>Workout_Frequency..days.week.5</th><th scope=col>Experience_Level2</th><th scope=col>Experience_Level3</th></tr>\n",
       "</thead>\n",
       "<tbody>\n",
       "\t<tr><th scope=row>2</th><td> 0.58677041</td><td>1</td><td>0</td><td> 0.19779559</td><td>-1.5050986225</td><td>-0.06617008</td><td> 0.4802851</td><td> 0.5262388</td><td> 0.11582778</td><td>1</td><td>0</td><td>0</td><td>-1.7625553</td><td>-0.8567881</td><td>0</td><td>1</td><td>0</td><td>1</td><td>0</td></tr>\n",
       "\t<tr><th scope=row>3</th><td>-0.55678178</td><td>1</td><td>0</td><td>-0.14540416</td><td>-0.4751551297</td><td>-1.10054779</td><td>-1.5271377</td><td>-1.1206579</td><td>-0.43523841</td><td>0</td><td>0</td><td>0</td><td>-1.5948489</td><td>-0.5262097</td><td>0</td><td>1</td><td>0</td><td>1</td><td>0</td></tr>\n",
       "\t<tr><th scope=row>5</th><td>-0.06668799</td><td>0</td><td>1</td><td>-1.55230634</td><td> 0.5547883631</td><td> 0.70961321</td><td> 0.9648354</td><td> 0.8007216</td><td>-1.79840214</td><td>0</td><td>1</td><td>0</td><td>-0.5728511</td><td> 0.3002366</td><td>1</td><td>0</td><td>0</td><td>0</td><td>0</td></tr>\n",
       "\t<tr><th scope=row>6</th><td> 1.40359340</td><td>1</td><td>0</td><td>-0.72427809</td><td>-0.3167022846</td><td>-1.01434964</td><td> 0.8263925</td><td> 1.6241700</td><td> 0.95692880</td><td>1</td><td>0</td><td>0</td><td> 1.3988024</td><td> 0.1349473</td><td>0</td><td>0</td><td>1</td><td>0</td><td>1</td></tr>\n",
       "\t<tr><th scope=row>7</th><td>-0.23005259</td><td>0</td><td>1</td><td>-0.03075534</td><td> 0.0002034054</td><td>-0.49716079</td><td> 1.7262717</td><td> 1.4869286</td><td> 0.66689396</td><td>0</td><td>0</td><td>0</td><td> 0.6865113</td><td>-0.5262097</td><td>1</td><td>0</td><td>0</td><td>1</td><td>0</td></tr>\n",
       "\t<tr><th scope=row>8</th><td> 0.09667661</td><td>1</td><td>0</td><td>-0.06166344</td><td>-1.6635514675</td><td> 0.79581135</td><td>-0.2119297</td><td> 0.2517560</td><td> 0.02881733</td><td>0</td><td>0</td><td>0</td><td>-0.8643778</td><td>-1.1873666</td><td>1</td><td>0</td><td>0</td><td>1</td><td>0</td></tr>\n",
       "</tbody>\n",
       "</table>\n"
      ],
      "text/latex": [
       "A matrix: 6 × 19 of type dbl\n",
       "\\begin{tabular}{r|lllllllllllllllllll}\n",
       "  & Age & GenderFemale & GenderMale & LWeight & Height..m. & Max\\_BPM & Avg\\_BPM & Resting\\_BPM & Session\\_Duration..hours. & Workout\\_TypeHIIT & Workout\\_TypeStrength & Workout\\_TypeYoga & SFat\\_Percentage & Water\\_Intake..liters. & Workout\\_Frequency..days.week.3 & Workout\\_Frequency..days.week.4 & Workout\\_Frequency..days.week.5 & Experience\\_Level2 & Experience\\_Level3\\\\\n",
       "\\hline\n",
       "\t2 &  0.58677041 & 1 & 0 &  0.19779559 & -1.5050986225 & -0.06617008 &  0.4802851 &  0.5262388 &  0.11582778 & 1 & 0 & 0 & -1.7625553 & -0.8567881 & 0 & 1 & 0 & 1 & 0\\\\\n",
       "\t3 & -0.55678178 & 1 & 0 & -0.14540416 & -0.4751551297 & -1.10054779 & -1.5271377 & -1.1206579 & -0.43523841 & 0 & 0 & 0 & -1.5948489 & -0.5262097 & 0 & 1 & 0 & 1 & 0\\\\\n",
       "\t5 & -0.06668799 & 0 & 1 & -1.55230634 &  0.5547883631 &  0.70961321 &  0.9648354 &  0.8007216 & -1.79840214 & 0 & 1 & 0 & -0.5728511 &  0.3002366 & 1 & 0 & 0 & 0 & 0\\\\\n",
       "\t6 &  1.40359340 & 1 & 0 & -0.72427809 & -0.3167022846 & -1.01434964 &  0.8263925 &  1.6241700 &  0.95692880 & 1 & 0 & 0 &  1.3988024 &  0.1349473 & 0 & 0 & 1 & 0 & 1\\\\\n",
       "\t7 & -0.23005259 & 0 & 1 & -0.03075534 &  0.0002034054 & -0.49716079 &  1.7262717 &  1.4869286 &  0.66689396 & 0 & 0 & 0 &  0.6865113 & -0.5262097 & 1 & 0 & 0 & 1 & 0\\\\\n",
       "\t8 &  0.09667661 & 1 & 0 & -0.06166344 & -1.6635514675 &  0.79581135 & -0.2119297 &  0.2517560 &  0.02881733 & 0 & 0 & 0 & -0.8643778 & -1.1873666 & 1 & 0 & 0 & 1 & 0\\\\\n",
       "\\end{tabular}\n"
      ],
      "text/markdown": [
       "\n",
       "A matrix: 6 × 19 of type dbl\n",
       "\n",
       "| <!--/--> | Age | GenderFemale | GenderMale | LWeight | Height..m. | Max_BPM | Avg_BPM | Resting_BPM | Session_Duration..hours. | Workout_TypeHIIT | Workout_TypeStrength | Workout_TypeYoga | SFat_Percentage | Water_Intake..liters. | Workout_Frequency..days.week.3 | Workout_Frequency..days.week.4 | Workout_Frequency..days.week.5 | Experience_Level2 | Experience_Level3 |\n",
       "|---|---|---|---|---|---|---|---|---|---|---|---|---|---|---|---|---|---|---|---|\n",
       "| 2 |  0.58677041 | 1 | 0 |  0.19779559 | -1.5050986225 | -0.06617008 |  0.4802851 |  0.5262388 |  0.11582778 | 1 | 0 | 0 | -1.7625553 | -0.8567881 | 0 | 1 | 0 | 1 | 0 |\n",
       "| 3 | -0.55678178 | 1 | 0 | -0.14540416 | -0.4751551297 | -1.10054779 | -1.5271377 | -1.1206579 | -0.43523841 | 0 | 0 | 0 | -1.5948489 | -0.5262097 | 0 | 1 | 0 | 1 | 0 |\n",
       "| 5 | -0.06668799 | 0 | 1 | -1.55230634 |  0.5547883631 |  0.70961321 |  0.9648354 |  0.8007216 | -1.79840214 | 0 | 1 | 0 | -0.5728511 |  0.3002366 | 1 | 0 | 0 | 0 | 0 |\n",
       "| 6 |  1.40359340 | 1 | 0 | -0.72427809 | -0.3167022846 | -1.01434964 |  0.8263925 |  1.6241700 |  0.95692880 | 1 | 0 | 0 |  1.3988024 |  0.1349473 | 0 | 0 | 1 | 0 | 1 |\n",
       "| 7 | -0.23005259 | 0 | 1 | -0.03075534 |  0.0002034054 | -0.49716079 |  1.7262717 |  1.4869286 |  0.66689396 | 0 | 0 | 0 |  0.6865113 | -0.5262097 | 1 | 0 | 0 | 1 | 0 |\n",
       "| 8 |  0.09667661 | 1 | 0 | -0.06166344 | -1.6635514675 |  0.79581135 | -0.2119297 |  0.2517560 |  0.02881733 | 0 | 0 | 0 | -0.8643778 | -1.1873666 | 1 | 0 | 0 | 1 | 0 |\n",
       "\n"
      ],
      "text/plain": [
       "  Age         GenderFemale GenderMale LWeight     Height..m.    Max_BPM    \n",
       "2  0.58677041 1            0           0.19779559 -1.5050986225 -0.06617008\n",
       "3 -0.55678178 1            0          -0.14540416 -0.4751551297 -1.10054779\n",
       "5 -0.06668799 0            1          -1.55230634  0.5547883631  0.70961321\n",
       "6  1.40359340 1            0          -0.72427809 -0.3167022846 -1.01434964\n",
       "7 -0.23005259 0            1          -0.03075534  0.0002034054 -0.49716079\n",
       "8  0.09667661 1            0          -0.06166344 -1.6635514675  0.79581135\n",
       "  Avg_BPM    Resting_BPM Session_Duration..hours. Workout_TypeHIIT\n",
       "2  0.4802851  0.5262388   0.11582778              1               \n",
       "3 -1.5271377 -1.1206579  -0.43523841              0               \n",
       "5  0.9648354  0.8007216  -1.79840214              0               \n",
       "6  0.8263925  1.6241700   0.95692880              1               \n",
       "7  1.7262717  1.4869286   0.66689396              0               \n",
       "8 -0.2119297  0.2517560   0.02881733              0               \n",
       "  Workout_TypeStrength Workout_TypeYoga SFat_Percentage Water_Intake..liters.\n",
       "2 0                    0                -1.7625553      -0.8567881           \n",
       "3 0                    0                -1.5948489      -0.5262097           \n",
       "5 1                    0                -0.5728511       0.3002366           \n",
       "6 0                    0                 1.3988024       0.1349473           \n",
       "7 0                    0                 0.6865113      -0.5262097           \n",
       "8 0                    0                -0.8643778      -1.1873666           \n",
       "  Workout_Frequency..days.week.3 Workout_Frequency..days.week.4\n",
       "2 0                              1                             \n",
       "3 0                              1                             \n",
       "5 1                              0                             \n",
       "6 0                              0                             \n",
       "7 1                              0                             \n",
       "8 1                              0                             \n",
       "  Workout_Frequency..days.week.5 Experience_Level2 Experience_Level3\n",
       "2 0                              1                 0                \n",
       "3 0                              1                 0                \n",
       "5 0                              0                 0                \n",
       "6 1                              0                 1                \n",
       "7 0                              1                 0                \n",
       "8 0                              1                 0                "
      ]
     },
     "metadata": {},
     "output_type": "display_data"
    },
    {
     "data": {
      "image/png": "[encoded data removed]",
      "text/plain": [
       "plot without title"
      ]
     },
     "metadata": {
      "image/png": {
       "height": 600,
       "width": 720
      }
     },
     "output_type": "display_data"
    }
   ],
   "source": [
    "\n",
    "x.mat <- model.matrix(Calories_Burned ~ . -1, data = gym_train_scaled)\n",
    "y.vec <- gym_train_scaled$Calories_Burned\n",
    "\n",
    "\n",
    "head(x.mat)\n",
    "\n",
    "# Fit the lasso model\n",
    "reg.lasso <- glmnet(x.mat, y.vec, alpha = 1, nfolds = 10) # alpha = 1 for lasso\n",
    "\n",
    "# Plot the coefficients\n",
    "options(repr.plot.width=12, repr.plot.height=10)\n",
    "plot(reg.lasso, xvar = \"lambda\", label = TRUE)\n",
    "legend(\"topright\", \n",
    "       legend = paste(1:ncol(x.mat), \" - \", colnames(x.mat)), cex = 0.5)\n",
    "\n",
    "\n",
    "\n"
   ]
  },
  {
   "cell_type": "markdown",
   "id": "871721a9",
   "metadata": {},
   "source": [
    "- Nous pouvons observer  l'évolution des coefficients des variables en fonction de la pénalisation λ. En effet, plus lambda est petit, moins il n'ya de pénalisation. Ce qui explique les nombreux coefficients non nuls. Parallèlement, pour des lambdas grands, il y'a une forte pénalisation et on donne beaucoup d'importance à la parcimonie face à la complexité du modèle, ce qui pousse de nombreux coefficients à devenir nuls. Cela permet de sélectionner uniquement les variables les plus pertinentes, réduisant ainsi le surapprentissage et améliorant la capacité de généralisation du modèle. \n"
   ]
  },
  {
   "cell_type": "markdown",
   "id": "80329532",
   "metadata": {},
   "source": [
    "Comment choisir la valeur optimale de λ qui équilibre au mieux la simplicité du modèle et sa capacité à généraliser ?\n",
    "\n",
    "C'est ici qu'intervient la validation croisée.  Alors que le premier graphique nous montrait quelles variables sont importantes, la validation croisée nous dira combien de variables garder pour éviter le surapprentissage. Cette étape est essentielle pour transformer notre exploration théorique en un modèle opérationnel et robuste."
   ]
  },
  {
   "cell_type": "markdown",
   "id": "55c2f901",
   "metadata": {},
   "source": []
  },
  {
   "cell_type": "code",
   "execution_count": 24,
   "id": "c6c4f91d",
   "metadata": {
    "vscode": {
     "languageId": "r"
    }
   },
   "outputs": [
    {
     "data": {
      "text/plain": [
       "\n",
       "Call:  cv.glmnet(x = x.mat, y = y.vec, nfolds = 10, alpha = 1) \n",
       "\n",
       "Measure: Mean-Squared Error \n",
       "\n",
       "    Lambda Index Measure    SE Nonzero\n",
       "min  0.711    64    1687 60.30      12\n",
       "1se  3.797    46    1740 76.81       7"
      ]
     },
     "metadata": {},
     "output_type": "display_data"
    },
    {
     "name": "stdout",
     "output_type": "stream",
     "text": [
      "Best lambda:  0.71141 \t \tMSE for best lambda:  1687.447 \n",
      "Best lambda 1se:  3.79661 \tMSE for best lambda 1se:  1687.447 \n"
     ]
    },
    {
     "data": {
      "text/plain": [
       "20 x 1 sparse Matrix of class \"dgCMatrix\"\n",
       "                                          s1\n",
       "(Intercept)                     9.488110e+02\n",
       "Age                            -3.747170e+01\n",
       "GenderFemale                   -8.187953e+01\n",
       "GenderMale                      1.228099e-11\n",
       "LWeight                         3.814220e-01\n",
       "Height..m.                      .           \n",
       "Max_BPM                         .           \n",
       "Avg_BPM                         8.673607e+01\n",
       "Resting_BPM                     .           \n",
       "Session_Duration..hours.        2.431442e+02\n",
       "Workout_TypeHIIT                .           \n",
       "Workout_TypeStrength            .           \n",
       "Workout_TypeYoga                .           \n",
       "SFat_Percentage                 1.927115e-01\n",
       "Water_Intake..liters.           .           \n",
       "Workout_Frequency..days.week.3  .           \n",
       "Workout_Frequency..days.week.4  .           \n",
       "Workout_Frequency..days.week.5  .           \n",
       "Experience_Level2               .           \n",
       "Experience_Level3               .           "
      ]
     },
     "metadata": {},
     "output_type": "display_data"
    },
    {
     "data": {
      "image/png": "[encoded data removed]",
      "text/plain": [
       "plot without title"
      ]
     },
     "metadata": {
      "image/png": {
       "height": 600,
       "width": 720
      }
     },
     "output_type": "display_data"
    }
   ],
   "source": [
    "# Cross-validation\n",
    "reg.lasso.cv <- cv.glmnet(x.mat, y.vec, alpha = 1, nfolds = 10)\n",
    "reg.lasso.cv\n",
    "autoplot(reg.lasso.cv)\n",
    "\n",
    "cat(\"Best lambda: \", round(reg.lasso.cv$lambda.min,5), \"\\t \\t\")\n",
    "cat(\"MSE for best lambda: \", round(reg.lasso.cv$cvm[which.min(reg.lasso.cv$cvm)],5), \"\\n\")\n",
    "cat(\"Best lambda 1se: \", round(reg.lasso.cv$lambda.1se,5), \"\\t\")\n",
    "cat(\"MSE for best lambda 1se: \", round(reg.lasso.cv$cvm[which.min(reg.lasso.cv$cvm)],5), \"\\n\")\n",
    "\n",
    "\n",
    "# Extract the best model\n",
    "coef(reg.lasso.cv, s = \"lambda.1se\")\n",
    "     "
   ]
  },
  {
   "cell_type": "markdown",
   "id": "fae828d4",
   "metadata": {},
   "source": [
    "Nous avons donc \n",
    "lambda.min (0.711) : Lambda optimal minimisant le MSE (1687.45).\n",
    "\n",
    "lambda.1se (3.796) : Lambda plus grand, conservant un MSE dans l'intervalle *\"min + 1 erreur standard\"*.\n",
    "→ Le Modèle le plus simple (7 variables vs 12 pour lambda.min), idéal pour la généralisation.\n",
    "\n",
    "D'après le graphique, nous visualisons l'évolution de l’erreur quadratique moyenne (MSE) évolue lorsque l’on change la pénalisation λ et nous remarquons :\n",
    "- Pour des petits lambdas, la pénalisation est faible et donc le MSE est plus élevé car le modèle est plus complexe (possible surapprentissage)\n",
    "- Au niveau de λ_min (le point le plus bas du nuage), nous avons une erreur minimale et nous gardons en général un nombre modéré de variables (ici autour de 7).\n",
    "- Au niveau de  λ_1se: On choisit un λ un peu plus grand → on réduit davantage le nombre de variables (ici ~6), tout en restant dans l’intervalle d’erreur de la MSE minimale (modèle plus simple sans perte significative de performance).\n",
    "- Pour de grands lambdas, la pénalisation est forte donc presque tous les coefficients passent à zéro et MSE remonte (modèle trop parcimonieux).\n",
    "\n",
    "C'est justement ce que nous observons dans le graphe suivant où les coefficients s'annullent au fur et à mesure que lambda augmente\n"
   ]
  },
  {
   "cell_type": "code",
   "execution_count": 25,
   "id": "d4a2b1a6",
   "metadata": {
    "vscode": {
     "languageId": "r"
    }
   },
   "outputs": [
    {
     "data": {
      "image/png": "[encoded data removed]",
      "text/plain": [
       "plot without title"
      ]
     },
     "metadata": {
      "image/png": {
       "height": 600,
       "width": 720
      }
     },
     "output_type": "display_data"
    }
   ],
   "source": [
    "\n",
    "plot(reg.lasso, xvar = \"lambda\", label = TRUE)\n",
    "abline(v=log(reg.lasso.cv$lambda.1se),col=\"red\")\n",
    "abline(v=log(reg.lasso.cv$lambda.min),col=\"blue\")"
   ]
  },
  {
   "cell_type": "code",
   "execution_count": 27,
   "id": "7cdb599a",
   "metadata": {
    "vscode": {
     "languageId": "r"
    }
   },
   "outputs": [
    {
     "data": {
      "text/html": [
       "0.978528411975688"
      ],
      "text/latex": [
       "0.978528411975688"
      ],
      "text/markdown": [
       "0.978528411975688"
      ],
      "text/plain": [
       "[1] 0.9785284"
      ]
     },
     "metadata": {},
     "output_type": "display_data"
    },
    {
     "data": {
      "image/png": "[encoded data removed]",
      "text/plain": [
       "plot without title"
      ]
     },
     "metadata": {
      "image/png": {
       "height": 720,
       "width": 720
      }
     },
     "output_type": "display_data"
    }
   ],
   "source": [
    "# Extract fitted values and residuals\n",
    "fit.lasso.min <- predict(reg.lasso.cv, s = \"lambda.min\", newx = x.mat)\n",
    "res.lasso.min <- y.vec - fit.lasso.min\n",
    "\n",
    "fit.lasso.1se <- predict(reg.lasso.cv, s = \"lambda.1se\", newx = x.mat)\n",
    "res.lasso.1se <- y.vec - fit.lasso.1se\n",
    "\n",
    "# Plot the residuals\n",
    "options(repr.plot.width=12, repr.plot.height=12)\n",
    "p0 <- gplot.res(fit.lm, sel.lm, \"Régression linéaire\")\n",
    "p1 <- gplot.res(fit.lasso.min, res.lasso.min, \"Lasso - Best lambda\")\n",
    "p2 <- gplot.res(fit.lasso.1se, res.lasso.1se, \"Lasso - Best lambda 1se\")\n",
    "\n",
    "grid.arrange(p0, p1, p2, ncol = 1)\n",
    "rm(p0, p1, p2)\n",
    "\n"
   ]
  },
  {
   "cell_type": "code",
   "execution_count": 28,
   "id": "232cb955",
   "metadata": {
    "vscode": {
     "languageId": "r"
    }
   },
   "outputs": [
    {
     "name": "stdout",
     "output_type": "stream",
     "text": [
      "R2 (LM)           : 0.979 \n",
      "R2 (Lasso λ_min)  : 0.978 \n",
      "R2 (Lasso λ_1se)  : 0.977 \n"
     ]
    }
   ],
   "source": [
    "# 1. Valeurs et résidus déjà calculés\n",
    "y_train <- y.vec\n",
    "fit_min  <- fit.lasso.min\n",
    "fit_1se  <- fit.lasso.1se\n",
    "\n",
    "# 2. Somme des carrés totaux (SST)\n",
    "sst <- sum( (y_train - mean(y_train))^2 )\n",
    "\n",
    "# 3. Somme des carrés des résidus (SSE) pour chaque modèle\n",
    "sse_lasso_min <- sum( (y_train - fit_min)^2 )\n",
    "sse_lasso_1se <- sum( (y_train - fit_1se)^2 )\n",
    "\n",
    "# 4. Calcul des R2\n",
    "r2_lm        <- summary(reg.lm)$r.squared\n",
    "r2_lasso_min <- 1 - sse_lasso_min / sst\n",
    "r2_lasso_1se <- 1 - sse_lasso_1se / sst\n",
    "\n",
    "# 5. Affichage\n",
    "cat(\"R2 (LM)           :\", round(r2_lm,  3), \"\\n\")\n",
    "cat(\"R2 (Lasso λ_min)  :\", round(r2_lasso_min, 3), \"\\n\")\n",
    "cat(\"R2 (Lasso λ_1se)  :\", round(r2_lasso_1se, 3), \"\\n\")\n"
   ]
  },
  {
   "cell_type": "markdown",
   "id": "e6160308",
   "metadata": {},
   "source": [
    "Les trois modèles affichent d’excellentes performances (R² ≃ 0,97). Le Lasso avec λ 1se présente un R² légèrement inférieur, ce qui est attendu puisqu’il écarte davantage de variables.\n",
    "\n",
    "### Analyse des résidus\n",
    "\n",
    "Régression linéaire : les résidus sont bien centrés autour de zéro, mais leur dispersion apparaît légèrement hétérogène.\n",
    "\n",
    "Lasso (λ_min et λ_1se) : les nuages de points restent comparables à ceux de la régression linéaire, avec toutefois une variabilité un peu plus marquée pour λ_1se (voir l’extension de l’axe vertical).\n",
    "\n",
    "Cette similarité visuelle confirme que les trois modèles offrent des performances prédictives très proches.\n",
    "\n",
    "### Importance des variables\n",
    "\n",
    "Session_Duration domine l’explication des calories brûlées (coefficient élevé dans tous les modèles).\n",
    "\n",
    "Les autres variables n’ont qu’un impact marginal : leur suppression par le Lasso n’altère pas significativement la qualité des prédictions.\n",
    "\n",
    " Choix du modèle\n",
    "Le choix final dépend de la priorité donnée à la complexité ou à la parcimonie. Ici, comme le R² diminue très peu en passant au Lasso λ_1se, ce modèle plus simple est à privilégier.\n",
    "\n",
    "\n",
    "\n"
   ]
  },
  {
   "cell_type": "markdown",
   "id": "e02a6dcc",
   "metadata": {},
   "source": [
    "### Modèle Lasso quadratique : "
   ]
  },
  {
   "cell_type": "code",
   "execution_count": 43,
   "id": "12d68fb8",
   "metadata": {
    "vscode": {
     "languageId": "r"
    }
   },
   "outputs": [
    {
     "data": {
      "text/plain": [
       "\n",
       "Call:  cv.glmnet(x = x.mat.quad, y = y.vec, nfolds = 10, alpha = 1) \n",
       "\n",
       "Measure: Mean-Squared Error \n",
       "\n",
       "    Lambda Index Measure    SE Nonzero\n",
       "min 0.7114    64   689.9 40.15      53\n",
       "1se 2.6169    50   729.8 47.99      21"
      ]
     },
     "metadata": {},
     "output_type": "display_data"
    },
    {
     "data": {
      "text/html": [
       "<table class=\"dataframe\">\n",
       "<caption>A matrix: 6 × 165 of type dbl</caption>\n",
       "<thead>\n",
       "\t<tr><th></th><th scope=col>Age</th><th scope=col>GenderFemale</th><th scope=col>GenderMale</th><th scope=col>LWeight</th><th scope=col>Height..m.</th><th scope=col>Max_BPM</th><th scope=col>Avg_BPM</th><th scope=col>Resting_BPM</th><th scope=col>Session_Duration..hours.</th><th scope=col>Workout_TypeHIIT</th><th scope=col>⋯</th><th scope=col>Water_Intake..liters.:Workout_Frequency..days.week.4</th><th scope=col>Water_Intake..liters.:Workout_Frequency..days.week.5</th><th scope=col>Water_Intake..liters.:Experience_Level2</th><th scope=col>Water_Intake..liters.:Experience_Level3</th><th scope=col>Workout_Frequency..days.week.3:Experience_Level2</th><th scope=col>Workout_Frequency..days.week.4:Experience_Level2</th><th scope=col>Workout_Frequency..days.week.5:Experience_Level2</th><th scope=col>Workout_Frequency..days.week.3:Experience_Level3</th><th scope=col>Workout_Frequency..days.week.4:Experience_Level3</th><th scope=col>Workout_Frequency..days.week.5:Experience_Level3</th></tr>\n",
       "</thead>\n",
       "<tbody>\n",
       "\t<tr><th scope=row>2</th><td> 0.58677041</td><td>1</td><td>0</td><td> 0.19779559</td><td>-1.5050986225</td><td>-0.06617008</td><td> 0.4802851</td><td> 0.5262388</td><td> 0.11582778</td><td>1</td><td>⋯</td><td>-0.8567881</td><td>0.0000000</td><td>-0.8567881</td><td>0.0000000</td><td>0</td><td>1</td><td>0</td><td>0</td><td>0</td><td>0</td></tr>\n",
       "\t<tr><th scope=row>3</th><td>-0.55678178</td><td>1</td><td>0</td><td>-0.14540416</td><td>-0.4751551297</td><td>-1.10054779</td><td>-1.5271377</td><td>-1.1206579</td><td>-0.43523841</td><td>0</td><td>⋯</td><td>-0.5262097</td><td>0.0000000</td><td>-0.5262097</td><td>0.0000000</td><td>0</td><td>1</td><td>0</td><td>0</td><td>0</td><td>0</td></tr>\n",
       "\t<tr><th scope=row>5</th><td>-0.06668799</td><td>0</td><td>1</td><td>-1.55230634</td><td> 0.5547883631</td><td> 0.70961321</td><td> 0.9648354</td><td> 0.8007216</td><td>-1.79840214</td><td>0</td><td>⋯</td><td> 0.0000000</td><td>0.0000000</td><td> 0.0000000</td><td>0.0000000</td><td>0</td><td>0</td><td>0</td><td>0</td><td>0</td><td>0</td></tr>\n",
       "\t<tr><th scope=row>6</th><td> 1.40359340</td><td>1</td><td>0</td><td>-0.72427809</td><td>-0.3167022846</td><td>-1.01434964</td><td> 0.8263925</td><td> 1.6241700</td><td> 0.95692880</td><td>1</td><td>⋯</td><td> 0.0000000</td><td>0.1349473</td><td> 0.0000000</td><td>0.1349473</td><td>0</td><td>0</td><td>0</td><td>0</td><td>0</td><td>1</td></tr>\n",
       "\t<tr><th scope=row>7</th><td>-0.23005259</td><td>0</td><td>1</td><td>-0.03075534</td><td> 0.0002034054</td><td>-0.49716079</td><td> 1.7262717</td><td> 1.4869286</td><td> 0.66689396</td><td>0</td><td>⋯</td><td> 0.0000000</td><td>0.0000000</td><td>-0.5262097</td><td>0.0000000</td><td>1</td><td>0</td><td>0</td><td>0</td><td>0</td><td>0</td></tr>\n",
       "\t<tr><th scope=row>8</th><td> 0.09667661</td><td>1</td><td>0</td><td>-0.06166344</td><td>-1.6635514675</td><td> 0.79581135</td><td>-0.2119297</td><td> 0.2517560</td><td> 0.02881733</td><td>0</td><td>⋯</td><td> 0.0000000</td><td>0.0000000</td><td>-1.1873666</td><td>0.0000000</td><td>1</td><td>0</td><td>0</td><td>0</td><td>0</td><td>0</td></tr>\n",
       "</tbody>\n",
       "</table>\n"
      ],
      "text/latex": [
       "A matrix: 6 × 165 of type dbl\n",
       "\\begin{tabular}{r|lllllllllllllllllllll}\n",
       "  & Age & GenderFemale & GenderMale & LWeight & Height..m. & Max\\_BPM & Avg\\_BPM & Resting\\_BPM & Session\\_Duration..hours. & Workout\\_TypeHIIT & ⋯ & Water\\_Intake..liters.:Workout\\_Frequency..days.week.4 & Water\\_Intake..liters.:Workout\\_Frequency..days.week.5 & Water\\_Intake..liters.:Experience\\_Level2 & Water\\_Intake..liters.:Experience\\_Level3 & Workout\\_Frequency..days.week.3:Experience\\_Level2 & Workout\\_Frequency..days.week.4:Experience\\_Level2 & Workout\\_Frequency..days.week.5:Experience\\_Level2 & Workout\\_Frequency..days.week.3:Experience\\_Level3 & Workout\\_Frequency..days.week.4:Experience\\_Level3 & Workout\\_Frequency..days.week.5:Experience\\_Level3\\\\\n",
       "\\hline\n",
       "\t2 &  0.58677041 & 1 & 0 &  0.19779559 & -1.5050986225 & -0.06617008 &  0.4802851 &  0.5262388 &  0.11582778 & 1 & ⋯ & -0.8567881 & 0.0000000 & -0.8567881 & 0.0000000 & 0 & 1 & 0 & 0 & 0 & 0\\\\\n",
       "\t3 & -0.55678178 & 1 & 0 & -0.14540416 & -0.4751551297 & -1.10054779 & -1.5271377 & -1.1206579 & -0.43523841 & 0 & ⋯ & -0.5262097 & 0.0000000 & -0.5262097 & 0.0000000 & 0 & 1 & 0 & 0 & 0 & 0\\\\\n",
       "\t5 & -0.06668799 & 0 & 1 & -1.55230634 &  0.5547883631 &  0.70961321 &  0.9648354 &  0.8007216 & -1.79840214 & 0 & ⋯ &  0.0000000 & 0.0000000 &  0.0000000 & 0.0000000 & 0 & 0 & 0 & 0 & 0 & 0\\\\\n",
       "\t6 &  1.40359340 & 1 & 0 & -0.72427809 & -0.3167022846 & -1.01434964 &  0.8263925 &  1.6241700 &  0.95692880 & 1 & ⋯ &  0.0000000 & 0.1349473 &  0.0000000 & 0.1349473 & 0 & 0 & 0 & 0 & 0 & 1\\\\\n",
       "\t7 & -0.23005259 & 0 & 1 & -0.03075534 &  0.0002034054 & -0.49716079 &  1.7262717 &  1.4869286 &  0.66689396 & 0 & ⋯ &  0.0000000 & 0.0000000 & -0.5262097 & 0.0000000 & 1 & 0 & 0 & 0 & 0 & 0\\\\\n",
       "\t8 &  0.09667661 & 1 & 0 & -0.06166344 & -1.6635514675 &  0.79581135 & -0.2119297 &  0.2517560 &  0.02881733 & 0 & ⋯ &  0.0000000 & 0.0000000 & -1.1873666 & 0.0000000 & 1 & 0 & 0 & 0 & 0 & 0\\\\\n",
       "\\end{tabular}\n"
      ],
      "text/markdown": [
       "\n",
       "A matrix: 6 × 165 of type dbl\n",
       "\n",
       "| <!--/--> | Age | GenderFemale | GenderMale | LWeight | Height..m. | Max_BPM | Avg_BPM | Resting_BPM | Session_Duration..hours. | Workout_TypeHIIT | ⋯ | Water_Intake..liters.:Workout_Frequency..days.week.4 | Water_Intake..liters.:Workout_Frequency..days.week.5 | Water_Intake..liters.:Experience_Level2 | Water_Intake..liters.:Experience_Level3 | Workout_Frequency..days.week.3:Experience_Level2 | Workout_Frequency..days.week.4:Experience_Level2 | Workout_Frequency..days.week.5:Experience_Level2 | Workout_Frequency..days.week.3:Experience_Level3 | Workout_Frequency..days.week.4:Experience_Level3 | Workout_Frequency..days.week.5:Experience_Level3 |\n",
       "|---|---|---|---|---|---|---|---|---|---|---|---|---|---|---|---|---|---|---|---|---|---|\n",
       "| 2 |  0.58677041 | 1 | 0 |  0.19779559 | -1.5050986225 | -0.06617008 |  0.4802851 |  0.5262388 |  0.11582778 | 1 | ⋯ | -0.8567881 | 0.0000000 | -0.8567881 | 0.0000000 | 0 | 1 | 0 | 0 | 0 | 0 |\n",
       "| 3 | -0.55678178 | 1 | 0 | -0.14540416 | -0.4751551297 | -1.10054779 | -1.5271377 | -1.1206579 | -0.43523841 | 0 | ⋯ | -0.5262097 | 0.0000000 | -0.5262097 | 0.0000000 | 0 | 1 | 0 | 0 | 0 | 0 |\n",
       "| 5 | -0.06668799 | 0 | 1 | -1.55230634 |  0.5547883631 |  0.70961321 |  0.9648354 |  0.8007216 | -1.79840214 | 0 | ⋯ |  0.0000000 | 0.0000000 |  0.0000000 | 0.0000000 | 0 | 0 | 0 | 0 | 0 | 0 |\n",
       "| 6 |  1.40359340 | 1 | 0 | -0.72427809 | -0.3167022846 | -1.01434964 |  0.8263925 |  1.6241700 |  0.95692880 | 1 | ⋯ |  0.0000000 | 0.1349473 |  0.0000000 | 0.1349473 | 0 | 0 | 0 | 0 | 0 | 1 |\n",
       "| 7 | -0.23005259 | 0 | 1 | -0.03075534 |  0.0002034054 | -0.49716079 |  1.7262717 |  1.4869286 |  0.66689396 | 0 | ⋯ |  0.0000000 | 0.0000000 | -0.5262097 | 0.0000000 | 1 | 0 | 0 | 0 | 0 | 0 |\n",
       "| 8 |  0.09667661 | 1 | 0 | -0.06166344 | -1.6635514675 |  0.79581135 | -0.2119297 |  0.2517560 |  0.02881733 | 0 | ⋯ |  0.0000000 | 0.0000000 | -1.1873666 | 0.0000000 | 1 | 0 | 0 | 0 | 0 | 0 |\n",
       "\n"
      ],
      "text/plain": [
       "  Age         GenderFemale GenderMale LWeight     Height..m.    Max_BPM    \n",
       "2  0.58677041 1            0           0.19779559 -1.5050986225 -0.06617008\n",
       "3 -0.55678178 1            0          -0.14540416 -0.4751551297 -1.10054779\n",
       "5 -0.06668799 0            1          -1.55230634  0.5547883631  0.70961321\n",
       "6  1.40359340 1            0          -0.72427809 -0.3167022846 -1.01434964\n",
       "7 -0.23005259 0            1          -0.03075534  0.0002034054 -0.49716079\n",
       "8  0.09667661 1            0          -0.06166344 -1.6635514675  0.79581135\n",
       "  Avg_BPM    Resting_BPM Session_Duration..hours. Workout_TypeHIIT ⋯\n",
       "2  0.4802851  0.5262388   0.11582778              1                ⋯\n",
       "3 -1.5271377 -1.1206579  -0.43523841              0                ⋯\n",
       "5  0.9648354  0.8007216  -1.79840214              0                ⋯\n",
       "6  0.8263925  1.6241700   0.95692880              1                ⋯\n",
       "7  1.7262717  1.4869286   0.66689396              0                ⋯\n",
       "8 -0.2119297  0.2517560   0.02881733              0                ⋯\n",
       "  Water_Intake..liters.:Workout_Frequency..days.week.4\n",
       "2 -0.8567881                                          \n",
       "3 -0.5262097                                          \n",
       "5  0.0000000                                          \n",
       "6  0.0000000                                          \n",
       "7  0.0000000                                          \n",
       "8  0.0000000                                          \n",
       "  Water_Intake..liters.:Workout_Frequency..days.week.5\n",
       "2 0.0000000                                           \n",
       "3 0.0000000                                           \n",
       "5 0.0000000                                           \n",
       "6 0.1349473                                           \n",
       "7 0.0000000                                           \n",
       "8 0.0000000                                           \n",
       "  Water_Intake..liters.:Experience_Level2\n",
       "2 -0.8567881                             \n",
       "3 -0.5262097                             \n",
       "5  0.0000000                             \n",
       "6  0.0000000                             \n",
       "7 -0.5262097                             \n",
       "8 -1.1873666                             \n",
       "  Water_Intake..liters.:Experience_Level3\n",
       "2 0.0000000                              \n",
       "3 0.0000000                              \n",
       "5 0.0000000                              \n",
       "6 0.1349473                              \n",
       "7 0.0000000                              \n",
       "8 0.0000000                              \n",
       "  Workout_Frequency..days.week.3:Experience_Level2\n",
       "2 0                                               \n",
       "3 0                                               \n",
       "5 0                                               \n",
       "6 0                                               \n",
       "7 1                                               \n",
       "8 1                                               \n",
       "  Workout_Frequency..days.week.4:Experience_Level2\n",
       "2 1                                               \n",
       "3 1                                               \n",
       "5 0                                               \n",
       "6 0                                               \n",
       "7 0                                               \n",
       "8 0                                               \n",
       "  Workout_Frequency..days.week.5:Experience_Level2\n",
       "2 0                                               \n",
       "3 0                                               \n",
       "5 0                                               \n",
       "6 0                                               \n",
       "7 0                                               \n",
       "8 0                                               \n",
       "  Workout_Frequency..days.week.3:Experience_Level3\n",
       "2 0                                               \n",
       "3 0                                               \n",
       "5 0                                               \n",
       "6 0                                               \n",
       "7 0                                               \n",
       "8 0                                               \n",
       "  Workout_Frequency..days.week.4:Experience_Level3\n",
       "2 0                                               \n",
       "3 0                                               \n",
       "5 0                                               \n",
       "6 0                                               \n",
       "7 0                                               \n",
       "8 0                                               \n",
       "  Workout_Frequency..days.week.5:Experience_Level3\n",
       "2 0                                               \n",
       "3 0                                               \n",
       "5 0                                               \n",
       "6 1                                               \n",
       "7 0                                               \n",
       "8 0                                               "
      ]
     },
     "metadata": {},
     "output_type": "display_data"
    },
    {
     "name": "stdout",
     "output_type": "stream",
     "text": [
      "R2 (Lasso Quadratic λ_min)  : 0.992 \n"
     ]
    }
   ],
   "source": [
    "# Quadratic model with lasso\n",
    "x.mat.quad <- model.matrix(Calories_Burned ~ .^2 -1, data = gym_train_scaled)\n",
    "reg.lasso.quad.cv <- cv.glmnet(x.mat.quad, y.vec, alpha = 1, nfolds = 10)\n",
    "reg.lasso.quad.cv \n",
    "head(x.mat.quad)\n",
    "R2_lasso_quadratic <- 1 - sum((y.vec - predict(reg.lasso.quad.cv, s = \"lambda.min\", newx = x.mat.quad))^2) / sum((y.vec - mean(y.vec))^2)\n",
    "cat(\"R2 (Lasso Quadratic λ_min)  :\", round(R2_lasso_quadratic, 3), \"\\n\")\n",
    "# coef(reg.lasso.quad.cv, s = \"lambda.1se\")"
   ]
  },
  {
   "cell_type": "code",
   "execution_count": 44,
   "id": "780f53fb",
   "metadata": {
    "vscode": {
     "languageId": "r"
    }
   },
   "outputs": [
    {
     "data": {
      "image/png": "[encoded data removed]",
      "text/plain": [
       "plot without title"
      ]
     },
     "metadata": {
      "image/png": {
       "height": 720,
       "width": 720
      }
     },
     "output_type": "display_data"
    }
   ],
   "source": [
    "fit.lasso.quad.1se <- predict(reg.lasso.quad.cv, s = \"lambda.1se\", newx = x.mat.quad)\n",
    "res.lasso.quad.1se <- y.vec - fit.lasso.quad.1se\n",
    "\n",
    "# Plot the residuals\n",
    "options(repr.plot.width=12, repr.plot.height=12)\n",
    "p0 <- gplot.res(fit.lm, sel.lm, \"Régression linéaire\")\n",
    "p1 <- gplot.res(fit.lasso.1se, res.lasso.1se, \"Lasso - Best lambda 1se\")\n",
    "p2 <- gplot.res(fit.lasso.quad.1se, res.lasso.quad.1se, \"Lasso - Best lambda 1se - Quadratic\")\n",
    "\n",
    "grid.arrange(p0, p1, p2, ncol = 1)\n",
    "rm(p0, p1, p2)"
   ]
  },
  {
   "cell_type": "markdown",
   "id": "78dd4343",
   "metadata": {},
   "source": [
    "#### Interpretations :\n",
    "\n",
    "- Le lasso quadratique présente de très bons résultats avec un R^2 = 0.992 et MSE = 570.61, indiquant une capacité à expliquer la variance des calories brûlées grâce aux interactions non linéaires. Les modèles linéaires (Régression, Lasso) ont des performances très similaires (R² ~0.977-0.979), mais inférieures.\n",
    "\n",
    "- En ce qui concerne la complexité du modèle, nous remarquons qu'il capture des interactions complexes (ex. Session_Duration:Avg_BPM) et retient 21 variables avec lambda.1se, contre 53 avec lambda.min. Ce qui permet de garder un bon compromis performance-complexité.\n",
    "\n",
    "- D'après le graphe des résidus, nous remarquons qu'ils sont mieux contrôlés (dispersion réduite) => Meilleure adéquation aux données.\n",
    "\n",
    "Nous pouvons résumer tout ceci dans le tableau suivant:\n",
    "\n",
    "| Modèle                        | R² (Test) | MSE (Test) | Variables Non Nulles         | Complexité                   | Généralisation               |\n",
    "|-------------------------------|-----------|------------|------------------------------|------------------------------|------------------------------|\n",
    "| **Régression Linéaire**       | 0.979     | ~1 661     | 18 (toutes conservées)       | Très élevée                  | Risque de surapprentissage   |\n",
    "| **Lasso (λ_min)**             | 0.978     | ~1 638     | 12                           | Moyenne                      | Bon compromis                |\n",
    "| **Lasso (λ_1se)**             | 0.977     | ~1 740     | 7                            | Faible                       | Haute robustesse             |\n",
    "| **Lasso Quadratique**         | 0.992     | 570.61     | 21 (λ_1se) / 53 (λ_min)      | Très élevée (interactions)   | Très performant, mais plus complexe |\n"
   ]
  },
  {
   "cell_type": "markdown",
   "id": "68611865",
   "metadata": {},
   "source": [
    "Maintenant, nous étudierons brièvement l'effet d'une pénalisation plus stricte sur le modèle via Ridge"
   ]
  },
  {
   "cell_type": "markdown",
   "id": "15c43f29",
   "metadata": {},
   "source": [
    "### Ridge"
   ]
  },
  {
   "cell_type": "code",
   "execution_count": 38,
   "id": "b9aff469",
   "metadata": {
    "vscode": {
     "languageId": "r"
    }
   },
   "outputs": [
    {
     "name": "stdout",
     "output_type": "stream",
     "text": [
      "MSE Ridge (lambda.min)  : 2417.686 \n",
      "MSE Ridge (lambda.1se)  : 2417.686 \n",
      "R² Ridge (λ_min)  : 0.968 \n",
      "R² Ridge (λ_1se)  : 0.968 \n"
     ]
    },
    {
     "data": {
      "image/png": "[encoded data removed]",
      "text/plain": [
       "plot without title"
      ]
     },
     "metadata": {
      "image/png": {
       "height": 720,
       "width": 720
      }
     },
     "output_type": "display_data"
    },
    {
     "data": {
      "image/png": "[encoded data removed]",
      "text/plain": [
       "plot without title"
      ]
     },
     "metadata": {
      "image/png": {
       "height": 480,
       "width": 720
      }
     },
     "output_type": "display_data"
    }
   ],
   "source": [
    "# 1. Construction de la matrice de design et du vecteur cible (déjà faits) :\n",
    "#    x.mat <- model.matrix(Calories_Burned ~ . -1, data = gym_train_scaled)\n",
    "#    y.vec <- gym_train_scaled$Calories_Burned\n",
    "\n",
    "# 2. Validation croisée pour choisir lambda en Ridge (alpha = 0)\n",
    "library(glmnet)\n",
    "set.seed(1234)\n",
    "cv.ridge <- cv.glmnet(x.mat, y.vec, \n",
    "                      alpha = 0,        # alpha = 0 pour Ridge \n",
    "                      nfolds = 10)      # 10-fold CV\n",
    "\n",
    "# 3. Tracé de la CV MSE en fonction de log(lambda)\n",
    "plot(cv.ridge)\n",
    "abline(v = log(cv.ridge$lambda.min), col = \"blue\", lty = 2)\n",
    "abline(v = log(cv.ridge$lambda.1se), col = \"red\",  lty = 2)\n",
    "\n",
    "# 4. Extraction des coefficients au meilleur lambda\n",
    "coef_min  <- coef(cv.ridge, s = \"lambda.min\")\n",
    "coef_1se  <- coef(cv.ridge, s = \"lambda.1se\")\n",
    "\n",
    "# 5. Prédictions et résidus sur l’échantillon d’entraînement\n",
    "fit_ridge_min <- predict(cv.ridge, s = \"lambda.min\", newx = x.mat)\n",
    "res_ridge_min <- y.vec - as.numeric(fit_ridge_min)\n",
    "\n",
    "fit_ridge_1se <- predict(cv.ridge, s = \"lambda.1se\", newx = x.mat)\n",
    "res_ridge_1se <- y.vec - as.numeric(fit_ridge_1se)\n",
    "\n",
    "# 6. Calcul des MSE\n",
    "mse_ridge_train_min  <- mean(res_ridge_min^2)\n",
    "mse_ridge_train_1se  <- mean(res_ridge_1se^2)\n",
    "\n",
    "cat(\"MSE Ridge (lambda.min)  :\", round(mse_ridge_train_min,  3), \"\\n\")\n",
    "cat(\"MSE Ridge (lambda.1se)  :\", round(mse_ridge_train_1se,  3), \"\\n\")\n",
    "\n",
    "# 7. (Optionnel) Comparaison des R² in-sample\n",
    "sst <- sum((y.vec - mean(y.vec))^2)\n",
    "r2_ridge_min <- 1 - sum(res_ridge_min^2) / sst\n",
    "r2_ridge_1se <- 1 - sum(res_ridge_1se^2) / sst\n",
    "\n",
    "cat(\"R² Ridge (λ_min)  :\", round(r2_ridge_min, 3), \"\\n\")\n",
    "cat(\"R² Ridge (λ_1se)  :\", round(r2_ridge_1se, 3), \"\\n\")\n",
    "\n",
    "# 8. Tracé des résidus\n",
    "options(repr.plot.width=12, repr.plot.height=8)\n",
    "p_ridge_min <- gplot.res(fit_ridge_min, res_ridge_min, \"Ridge (λ_min)\")\n",
    "p_ridge_1se <- gplot.res(fit_ridge_1se, res_ridge_1se, \"Ridge (λ_1se)\")\n",
    "grid.arrange(p_ridge_min, p_ridge_1se, ncol = 1)\n",
    "\n"
   ]
  },
  {
   "cell_type": "markdown",
   "id": "c3c47570",
   "metadata": {},
   "source": [
    "Nous observons que bien que le R^2 de Ridge soit très élevé, le MSE s'avère très élevé également. Ce qui signifie que l'équilibre biais variance n'est pas bien géré dans ce cas là et que le modèle a tendance à surapprendre."
   ]
  },
  {
   "cell_type": "markdown",
   "id": "84a07a1b",
   "metadata": {},
   "source": [
    "Après avoir étudié comment la pénalisation du Lasso et de Ridge permet de réduire la complexité du modèle tout en conservant une haute performance prédictive, nous allons désormais nous intéresser à une autre approche de régularisation issue du machine learning : la Support Vector Regression (SVR). Cette méthode, fondée sur la théorie des marges maximales et l’utilisation de noyaux, offre un compromis différent entre biais et variance, et mérite d’être comparée au Lasso pour évaluer sa robustesse et sa capacité à capturer d’éventuelles relations non linéaires dans nos données de calories brûlées."
   ]
  },
  {
   "cell_type": "markdown",
   "id": "0111f372",
   "metadata": {},
   "source": [
    "# SVR"
   ]
  },
  {
   "cell_type": "code",
   "execution_count": 29,
   "id": "5ac2a37c",
   "metadata": {
    "vscode": {
     "languageId": "r"
    }
   },
   "outputs": [
    {
     "name": "stderr",
     "output_type": "stream",
     "text": [
      "Installation du package dans 'C:/Users/essak/AppData/Local/R/win-library/4.3'\n",
      "(car 'lib' n'est pas spécifié)\n",
      "\n"
     ]
    },
    {
     "name": "stdout",
     "output_type": "stream",
     "text": [
      "le package 'e1071' a été décompressé et les sommes MD5 ont été vérifiées avec succés\n"
     ]
    },
    {
     "name": "stderr",
     "output_type": "stream",
     "text": [
      "Warning message:\n",
      "\"impossible de supprimer l'installation précédente du package 'e1071'\"\n",
      "Warning message in file.copy(savedcopy, lib, recursive = TRUE):\n",
      "\"problème lors de la copie de C:\\Users\\essak\\AppData\\Local\\R\\win-library\\4.3\\00LOCK\\e1071\\libs\\x64\\e1071.dll vers C:\\Users\\essak\\AppData\\Local\\R\\win-library\\4.3\\e1071\\libs\\x64\\e1071.dll: Permission denied\"\n",
      "Warning message:\n",
      "\"'e1071' restauré\"\n"
     ]
    },
    {
     "name": "stdout",
     "output_type": "stream",
     "text": [
      "\n",
      "Les packages binaires téléchargés sont dans\n",
      "\tC:\\Users\\essak\\AppData\\Local\\Temp\\RtmpyKHnMn\\downloaded_packages\n"
     ]
    },
    {
     "name": "stderr",
     "output_type": "stream",
     "text": [
      "Warning message:\n",
      "\"le package 'e1071' a été compilé avec la version R 4.3.3\"\n"
     ]
    }
   ],
   "source": [
    "install.packages(\"e1071\")\n",
    "library(e1071)"
   ]
  },
  {
   "cell_type": "code",
   "execution_count": 68,
   "id": "dbba7d04",
   "metadata": {
    "vscode": {
     "languageId": "r"
    }
   },
   "outputs": [
    {
     "data": {
      "text/plain": [
       "\n",
       "Call:\n",
       "svm(formula = Calories_Burned ~ ., data = gym_train_scaled, kernel = \"linear\")\n",
       "\n",
       "\n",
       "Parameters:\n",
       "   SVM-Type:  eps-regression \n",
       " SVM-Kernel:  linear \n",
       "       cost:  1 \n",
       "      gamma:  0.05263158 \n",
       "    epsilon:  0.1 \n",
       "\n",
       "\n",
       "Number of Support Vectors:  361\n",
       "\n",
       "\n",
       "\n",
       "\n"
      ]
     },
     "metadata": {},
     "output_type": "display_data"
    }
   ],
   "source": [
    "svr_lin <- svm(Calories_Burned ~ ., data = gym_train_scaled, kernel = \"linear\")\n",
    "summary(svr_lin)"
   ]
  },
  {
   "cell_type": "code",
   "execution_count": 69,
   "id": "60e0a38c",
   "metadata": {
    "vscode": {
     "languageId": "r"
    }
   },
   "outputs": [
    {
     "name": "stdout",
     "output_type": "stream",
     "text": [
      "R2 (train) pour SVR lin : 0.978 \n",
      "R2 (test) pour SVR lin  : 0.982 \n",
      "MSE (train) pour SVR lin : 1644.185 \n",
      "MSE (test)  pour SVR lin : 1200.669 \n"
     ]
    }
   ],
   "source": [
    "# 1. Prédictions sur l'échantillon d'entraînement\n",
    "y_train <- gym_train_scaled$Calories_Burned\n",
    "pred_train <- predict(svr_lin, newdata = gym_train_scaled)\n",
    "\n",
    "# 2. Calcul du SSE et du SST sur l'entraînement\n",
    "sse_train <- sum((y_train - pred_train)^2)\n",
    "sst_train <- sum((y_train - mean(y_train))^2)\n",
    "\n",
    "# 3. R2 entraînement\n",
    "R2_train <- 1 - sse_train / sst_train\n",
    "cat(\"R2 (train) pour SVR lin :\", round(R2_train, 3), \"\\n\")\n",
    "\n",
    "\n",
    "# 4. Prédictions sur l'échantillon de test\n",
    "y_test  <- gym_test_scaled$Calories_Burned\n",
    "pred_test <- predict(svr_lin, newdata = gym_test_scaled)\n",
    "\n",
    "# 5. Calcul du SSE et du SST sur le test\n",
    "sse_test <- sum((y_test - pred_test)^2)\n",
    "sst_test <- sum((y_test - mean(y_test))^2)\n",
    "\n",
    "# 6. R2 test\n",
    "R2_test <- 1 - sse_test / sst_test\n",
    "cat(\"R2 (test) pour SVR lin  :\", round(R2_test, 3), \"\\n\")\n",
    "\n",
    "mse_train <- mean((y_train - pred_train)^2)\n",
    "cat(\"MSE (train) pour SVR lin :\", round(mse_train, 3), \"\\n\")\n",
    "\n",
    "# 2. MSE sur l'échantillon de test\n",
    "mse_test  <- mean((y_test  - pred_test )^2)\n",
    "cat(\"MSE (test)  pour SVR lin :\", round(mse_test,  3), \"\\n\")\n"
   ]
  },
  {
   "cell_type": "code",
   "execution_count": 61,
   "id": "27718f8f",
   "metadata": {
    "vscode": {
     "languageId": "r"
    }
   },
   "outputs": [
    {
     "data": {
      "text/plain": [
       "\n",
       "Call:\n",
       "svm(formula = Calories_Burned ~ ., data = gym_train_scaled, kernel = \"radial\")\n",
       "\n",
       "\n",
       "Parameters:\n",
       "   SVM-Type:  eps-regression \n",
       " SVM-Kernel:  radial \n",
       "       cost:  1 \n",
       "      gamma:  0.05263158 \n",
       "    epsilon:  0.1 \n",
       "\n",
       "\n",
       "Number of Support Vectors:  317\n",
       "\n",
       "\n",
       "\n",
       "\n"
      ]
     },
     "metadata": {},
     "output_type": "display_data"
    }
   ],
   "source": [
    "svr_rbf <- svm(Calories_Burned ~ ., data = gym_train_scaled, kernel = \"radial\")\n",
    "summary(svr_rbf)"
   ]
  },
  {
   "cell_type": "code",
   "execution_count": 65,
   "id": "b0729a1a",
   "metadata": {
    "vscode": {
     "languageId": "r"
    }
   },
   "outputs": [
    {
     "name": "stdout",
     "output_type": "stream",
     "text": [
      "R2 (train) pour SVR rbf : 0.99 \n",
      "R2 (test) pour SVR rbf  : 0.985 \n",
      "MSE (train) pour SVR RBF : 724.766 \n",
      "MSE (test)  pour SVR RBF : 995.299 \n"
     ]
    }
   ],
   "source": [
    "# 1. Prédictions sur l'échantillon d'entraînement\n",
    "y_train <- gym_train_scaled$Calories_Burned\n",
    "pred_train <- predict(svr_rbf, newdata = gym_train_scaled)\n",
    "\n",
    "# 2. Calcul du SSE et du SST sur l'entraînement\n",
    "sse_train <- sum((y_train - pred_train)^2)\n",
    "sst_train <- sum((y_train - mean(y_train))^2)\n",
    "\n",
    "# 3. R2 entraînement\n",
    "R2_train <- 1 - sse_train / sst_train\n",
    "cat(\"R2 (train) pour SVR rbf :\", round(R2_train, 3), \"\\n\")\n",
    "\n",
    "\n",
    "# 4. Prédictions sur l'échantillon de test\n",
    "y_test  <- gym_test_scaled$Calories_Burned\n",
    "pred_test <- predict(svr_rbf, newdata = gym_test_scaled)\n",
    "\n",
    "# 5. Calcul du SSE et du SST sur le test\n",
    "sse_test <- sum((y_test - pred_test)^2)\n",
    "sst_test <- sum((y_test - mean(y_test))^2)\n",
    "\n",
    "# 6. R2 test\n",
    "R2_test <- 1 - sse_test / sst_test\n",
    "cat(\"R2 (test) pour SVR rbf  :\", round(R2_test, 3), \"\\n\")\n",
    "\n",
    "mse_train <- mean((y_train - pred_train)^2)\n",
    "cat(\"MSE (train) pour SVR RBF :\", round(mse_train, 3), \"\\n\")\n",
    "\n",
    "# 2. MSE sur l'échantillon de test\n",
    "mse_test  <- mean((y_test  - pred_test )^2)\n",
    "cat(\"MSE (test)  pour SVR RBF :\", round(mse_test,  3), \"\\n\")"
   ]
  },
  {
   "cell_type": "code",
   "execution_count": 66,
   "id": "5810fa52",
   "metadata": {
    "vscode": {
     "languageId": "r"
    }
   },
   "outputs": [
    {
     "data": {
      "text/plain": [
       "\n",
       "Call:\n",
       "svm(formula = Calories_Burned ~ ., data = gym_train_scaled, kernel = \"poly\")\n",
       "\n",
       "\n",
       "Parameters:\n",
       "   SVM-Type:  eps-regression \n",
       " SVM-Kernel:  polynomial \n",
       "       cost:  1 \n",
       "     degree:  3 \n",
       "      gamma:  0.05263158 \n",
       "     coef.0:  0 \n",
       "    epsilon:  0.1 \n",
       "\n",
       "\n",
       "Number of Support Vectors:  488\n",
       "\n",
       "\n",
       "\n",
       "\n"
      ]
     },
     "metadata": {},
     "output_type": "display_data"
    }
   ],
   "source": [
    "svr_poly <- svm(Calories_Burned ~ ., data = gym_train_scaled, kernel = \"poly\")\n",
    "summary(svr_poly)"
   ]
  },
  {
   "cell_type": "code",
   "execution_count": 67,
   "id": "4cf005c2",
   "metadata": {
    "vscode": {
     "languageId": "r"
    }
   },
   "outputs": [
    {
     "name": "stdout",
     "output_type": "stream",
     "text": [
      "R2 (train) pour SVR poly : 0.955 \n",
      "R2 (test) pour SVR poly  : 0.929 \n",
      "MSE (train) pour SVR poly : 3376.651 \n",
      "MSE (test)  pour SVR poly : 4870.262 \n"
     ]
    }
   ],
   "source": [
    "# 1. Prédictions sur l'échantillon d'entraînement\n",
    "y_train <- gym_train_scaled$Calories_Burned\n",
    "pred_train <- predict(svr_poly, newdata = gym_train_scaled)\n",
    "\n",
    "# 2. Calcul du SSE et du SST sur l'entraînement\n",
    "sse_train <- sum((y_train - pred_train)^2)\n",
    "sst_train <- sum((y_train - mean(y_train))^2)\n",
    "\n",
    "# 3. R2 entraînement\n",
    "R2_train <- 1 - sse_train / sst_train\n",
    "cat(\"R2 (train) pour SVR poly :\", round(R2_train, 3), \"\\n\")\n",
    "\n",
    "\n",
    "# 4. Prédictions sur l'échantillon de test\n",
    "y_test  <- gym_test_scaled$Calories_Burned\n",
    "pred_test <- predict(svr_poly, newdata = gym_test_scaled)\n",
    "\n",
    "# 5. Calcul du SSE et du SST sur le test\n",
    "sse_test <- sum((y_test - pred_test)^2)\n",
    "sst_test <- sum((y_test - mean(y_test))^2)\n",
    "\n",
    "# 6. R2 test\n",
    "R2_test <- 1 - sse_test / sst_test\n",
    "cat(\"R2 (test) pour SVR poly  :\", round(R2_test, 3), \"\\n\")\n",
    "\n",
    "mse_train <- mean((y_train - pred_train)^2)\n",
    "cat(\"MSE (train) pour SVR poly :\", round(mse_train, 3), \"\\n\")\n",
    "\n",
    "# 2. MSE sur l'échantillon de test\n",
    "mse_test  <- mean((y_test  - pred_test )^2)\n",
    "cat(\"MSE (test)  pour SVR poly :\", round(mse_test,  3), \"\\n\")"
   ]
  },
  {
   "cell_type": "markdown",
   "id": "b1a7f977",
   "metadata": {},
   "source": [
    "| Kernel               | R² (Test) | MSE (Test)  |\n",
    "|----------------------|-----------|-------------|\n",
    "| **SVR Linéaire**     | 0.982     | 1 200.67    |\n",
    "| **SVR RBF**          | 0.985     | 995.30      |\n",
    "| **SVR Polynomial**   | 0.929     | 4 870.26    |\n",
    "\n",
    "Donc, au vu des performances observées, le noyau RBF (radial) est clairement à privilégier pour la SVR"
   ]
  },
  {
   "cell_type": "code",
   "execution_count": 55,
   "id": "ba3b8171",
   "metadata": {
    "vscode": {
     "languageId": "r"
    }
   },
   "outputs": [
    {
     "data": {
      "text/plain": [
       "\n",
       "Parameter tuning of 'svm':\n",
       "\n",
       "- sampling method: 10-fold cross validation \n",
       "\n",
       "- best parameters:\n",
       "       gamma cost\n",
       " 0.003162278  100\n",
       "\n",
       "- best performance: 736.6353 \n"
      ]
     },
     "metadata": {},
     "output_type": "display_data"
    },
    {
     "data": {
      "image/png": "[encoded data removed]",
      "text/plain": [
       "Plot with title \"Performance of `svm'\""
      ]
     },
     "metadata": {
      "image/png": {
       "height": 720,
       "width": 720
      }
     },
     "output_type": "display_data"
    }
   ],
   "source": [
    "#tuning of linear kernel\n",
    "\n",
    "svm.reg.tune = tune.svm(Calories_Burned ~ ., data = gym_train_scaled, cost = c(1, 25, 50, 75, 100, 150, 200), \n",
    "    gamma = 10^seq(-4, -2, by = 0.5))\n",
    "plot(svm.reg.tune)\n",
    "svm.reg.tune"
   ]
  },
  {
   "cell_type": "code",
   "execution_count": 73,
   "id": "9e95cbb4",
   "metadata": {
    "vscode": {
     "languageId": "r"
    }
   },
   "outputs": [
    {
     "name": "stdout",
     "output_type": "stream",
     "text": [
      "MSE sur test : 622.9531 \n",
      "R2  sur test : 0.991 \n"
     ]
    }
   ],
   "source": [
    "# 1. Prédictions sur le test (déjà faites)\n",
    "y_test <- gym_test_scaled$Calories_Burned\n",
    "pred_svm <- pred.svm.reg\n",
    "\n",
    "# 2. Somme des carrés des résidus (SSE)\n",
    "sse <- sum((y_test - pred_svm)^2)\n",
    "\n",
    "# 3. Somme des carrés totaux (SST)\n",
    "sst <- sum((y_test - mean(y_test))^2)\n",
    "\n",
    "# 4. Calcul du R2\n",
    "R2_svm <- 1 - sse / sst\n",
    "\n",
    "# 5. Affichage\n",
    "cat(\"MSE sur test :\", mean((y_test - pred_svm)^2), \"\\n\")\n",
    "cat(\"R2  sur test :\", round(R2_svm, 3), \"\\n\")"
   ]
  },
  {
   "cell_type": "code",
   "execution_count": 72,
   "id": "7b6e2145",
   "metadata": {
    "vscode": {
     "languageId": "r"
    }
   },
   "outputs": [
    {
     "data": {
      "image/png": "[encoded data removed]",
      "text/plain": [
       "plot without title"
      ]
     },
     "metadata": {
      "image/png": {
       "height": 720,
       "width": 720
      }
     },
     "output_type": "display_data"
    }
   ],
   "source": [
    "# graphe des résidus\n",
    "fit.svm.reg = svm.reg$fitted\n",
    "res.svm.reg = fit.svm.reg - gym_train_scaled$Calories_Burned\n",
    "gplot.res(fit.svm.reg, res.svm.reg, \"SVR Regression Model\")"
   ]
  },
  {
   "cell_type": "markdown",
   "id": "8a76d8e4",
   "metadata": {},
   "source": [
    "Un R² = 0,991 signifie que le modèle explique 99,1 % de la variance des calories brûlées.\n",
    "\n",
    "Une MSE de 623 est très basse, signe d’une précision de prédiction élevée.\n",
    "\n",
    "Autrement dit, l’erreur moyenne au carré sur les nouvelles données est de l’ordre de 600 unités, ce qui est excellent dans ce contexte.\n",
    "Le Lasso quadratique reste légèrement en tête (R² ≃ 0,9927 vs 0,991 et MSE ≃ 570 vs 623). Mais vu sa complexité, nous allons plutôt priviliégier SVR à kernel radial."
   ]
  },
  {
   "cell_type": "markdown",
   "id": "5e91d2bd",
   "metadata": {},
   "source": [
    "### Réseaux de neurones : "
   ]
  },
  {
   "cell_type": "code",
   "execution_count": 86,
   "id": "4b9cfb5b",
   "metadata": {
    "vscode": {
     "languageId": "r"
    }
   },
   "outputs": [
    {
     "name": "stderr",
     "output_type": "stream",
     "text": [
      "Warning message:\n",
      "\"le package 'caret' est en cours d'utilisation et ne sera pas installé\"\n",
      "Installation du package dans 'C:/Users/essak/AppData/Local/R/win-library/4.3'\n",
      "(car 'lib' n'est pas spécifié)\n",
      "\n"
     ]
    },
    {
     "name": "stderr",
     "output_type": "stream",
     "text": [
      "installation de la dépendance 'Deriv'\n",
      "\n",
      "\n"
     ]
    },
    {
     "name": "stdout",
     "output_type": "stream",
     "text": [
      "le package 'Deriv' a été décompressé et les sommes MD5 ont été vérifiées avec succés\n",
      "le package 'neuralnet' a été décompressé et les sommes MD5 ont été vérifiées avec succés\n",
      "\n",
      "Les packages binaires téléchargés sont dans\n",
      "\tC:\\Users\\essak\\AppData\\Local\\Temp\\RtmpyKHnMn\\downloaded_packages\n"
     ]
    }
   ],
   "source": [
    "install.packages(\"caret\")\n",
    "install.packages(\"neuralnet\")"
   ]
  },
  {
   "cell_type": "code",
   "execution_count": 88,
   "id": "af268b4d",
   "metadata": {
    "vscode": {
     "languageId": "r"
    }
   },
   "outputs": [
    {
     "name": "stdout",
     "output_type": "stream",
     "text": [
      "+ Fold1: size= 5, decay=1e-04 \n",
      "- Fold1: size= 5, decay=1e-04 \n",
      "+ Fold1: size=10, decay=1e-04 \n",
      "- Fold1: size=10, decay=1e-04 \n",
      "+ Fold1: size=15, decay=1e-04 \n",
      "- Fold1: size=15, decay=1e-04 \n",
      "+ Fold1: size= 5, decay=1e-03 \n",
      "- Fold1: size= 5, decay=1e-03 \n",
      "+ Fold1: size=10, decay=1e-03 \n",
      "- Fold1: size=10, decay=1e-03 \n",
      "+ Fold1: size=15, decay=1e-03 \n",
      "- Fold1: size=15, decay=1e-03 \n",
      "+ Fold1: size= 5, decay=1e-02 \n",
      "- Fold1: size= 5, decay=1e-02 \n",
      "+ Fold1: size=10, decay=1e-02 \n",
      "- Fold1: size=10, decay=1e-02 \n",
      "+ Fold1: size=15, decay=1e-02 \n",
      "- Fold1: size=15, decay=1e-02 \n",
      "+ Fold1: size= 5, decay=1e-01 \n",
      "- Fold1: size= 5, decay=1e-01 \n",
      "+ Fold1: size=10, decay=1e-01 \n",
      "- Fold1: size=10, decay=1e-01 \n",
      "+ Fold1: size=15, decay=1e-01 \n",
      "- Fold1: size=15, decay=1e-01 \n",
      "+ Fold2: size= 5, decay=1e-04 \n",
      "- Fold2: size= 5, decay=1e-04 \n",
      "+ Fold2: size=10, decay=1e-04 \n",
      "- Fold2: size=10, decay=1e-04 \n",
      "+ Fold2: size=15, decay=1e-04 \n",
      "- Fold2: size=15, decay=1e-04 \n",
      "+ Fold2: size= 5, decay=1e-03 \n",
      "- Fold2: size= 5, decay=1e-03 \n",
      "+ Fold2: size=10, decay=1e-03 \n",
      "- Fold2: size=10, decay=1e-03 \n",
      "+ Fold2: size=15, decay=1e-03 \n",
      "- Fold2: size=15, decay=1e-03 \n",
      "+ Fold2: size= 5, decay=1e-02 \n",
      "- Fold2: size= 5, decay=1e-02 \n",
      "+ Fold2: size=10, decay=1e-02 \n",
      "- Fold2: size=10, decay=1e-02 \n",
      "+ Fold2: size=15, decay=1e-02 \n",
      "- Fold2: size=15, decay=1e-02 \n",
      "+ Fold2: size= 5, decay=1e-01 \n",
      "- Fold2: size= 5, decay=1e-01 \n",
      "+ Fold2: size=10, decay=1e-01 \n",
      "- Fold2: size=10, decay=1e-01 \n",
      "+ Fold2: size=15, decay=1e-01 \n",
      "- Fold2: size=15, decay=1e-01 \n",
      "+ Fold3: size= 5, decay=1e-04 \n",
      "- Fold3: size= 5, decay=1e-04 \n",
      "+ Fold3: size=10, decay=1e-04 \n",
      "- Fold3: size=10, decay=1e-04 \n",
      "+ Fold3: size=15, decay=1e-04 \n",
      "- Fold3: size=15, decay=1e-04 \n",
      "+ Fold3: size= 5, decay=1e-03 \n",
      "- Fold3: size= 5, decay=1e-03 \n",
      "+ Fold3: size=10, decay=1e-03 \n",
      "- Fold3: size=10, decay=1e-03 \n",
      "+ Fold3: size=15, decay=1e-03 \n",
      "- Fold3: size=15, decay=1e-03 \n",
      "+ Fold3: size= 5, decay=1e-02 \n",
      "- Fold3: size= 5, decay=1e-02 \n",
      "+ Fold3: size=10, decay=1e-02 \n",
      "- Fold3: size=10, decay=1e-02 \n",
      "+ Fold3: size=15, decay=1e-02 \n",
      "- Fold3: size=15, decay=1e-02 \n",
      "+ Fold3: size= 5, decay=1e-01 \n",
      "- Fold3: size= 5, decay=1e-01 \n",
      "+ Fold3: size=10, decay=1e-01 \n",
      "- Fold3: size=10, decay=1e-01 \n",
      "+ Fold3: size=15, decay=1e-01 \n",
      "- Fold3: size=15, decay=1e-01 \n",
      "+ Fold4: size= 5, decay=1e-04 \n",
      "- Fold4: size= 5, decay=1e-04 \n",
      "+ Fold4: size=10, decay=1e-04 \n",
      "- Fold4: size=10, decay=1e-04 \n",
      "+ Fold4: size=15, decay=1e-04 \n",
      "- Fold4: size=15, decay=1e-04 \n",
      "+ Fold4: size= 5, decay=1e-03 \n",
      "- Fold4: size= 5, decay=1e-03 \n",
      "+ Fold4: size=10, decay=1e-03 \n",
      "- Fold4: size=10, decay=1e-03 \n",
      "+ Fold4: size=15, decay=1e-03 \n",
      "- Fold4: size=15, decay=1e-03 \n",
      "+ Fold4: size= 5, decay=1e-02 \n",
      "- Fold4: size= 5, decay=1e-02 \n",
      "+ Fold4: size=10, decay=1e-02 \n",
      "- Fold4: size=10, decay=1e-02 \n",
      "+ Fold4: size=15, decay=1e-02 \n",
      "- Fold4: size=15, decay=1e-02 \n",
      "+ Fold4: size= 5, decay=1e-01 \n",
      "- Fold4: size= 5, decay=1e-01 \n",
      "+ Fold4: size=10, decay=1e-01 \n",
      "- Fold4: size=10, decay=1e-01 \n",
      "+ Fold4: size=15, decay=1e-01 \n",
      "- Fold4: size=15, decay=1e-01 \n",
      "+ Fold5: size= 5, decay=1e-04 \n",
      "- Fold5: size= 5, decay=1e-04 \n",
      "+ Fold5: size=10, decay=1e-04 \n",
      "- Fold5: size=10, decay=1e-04 \n",
      "+ Fold5: size=15, decay=1e-04 \n",
      "- Fold5: size=15, decay=1e-04 \n",
      "+ Fold5: size= 5, decay=1e-03 \n",
      "- Fold5: size= 5, decay=1e-03 \n",
      "+ Fold5: size=10, decay=1e-03 \n",
      "- Fold5: size=10, decay=1e-03 \n",
      "+ Fold5: size=15, decay=1e-03 \n",
      "- Fold5: size=15, decay=1e-03 \n",
      "+ Fold5: size= 5, decay=1e-02 \n",
      "- Fold5: size= 5, decay=1e-02 \n",
      "+ Fold5: size=10, decay=1e-02 \n",
      "- Fold5: size=10, decay=1e-02 \n",
      "+ Fold5: size=15, decay=1e-02 \n",
      "- Fold5: size=15, decay=1e-02 \n",
      "+ Fold5: size= 5, decay=1e-01 \n",
      "- Fold5: size= 5, decay=1e-01 \n",
      "+ Fold5: size=10, decay=1e-01 \n",
      "- Fold5: size=10, decay=1e-01 \n",
      "+ Fold5: size=15, decay=1e-01 \n",
      "- Fold5: size=15, decay=1e-01 \n",
      "Aggregating results\n",
      "Selecting tuning parameters\n",
      "Fitting size = 5, decay = 0.1 on full training set\n",
      "  size decay\n",
      "4    5   0.1\n"
     ]
    },
    {
     "data": {
      "image/png": "[encoded data removed]",
      "text/plain": [
       "plot without title"
      ]
     },
     "metadata": {
      "image/png": {
       "height": 720,
       "width": 720
      }
     },
     "output_type": "display_data"
    }
   ],
   "source": [
    "library(caret)\n",
    "library(nnet)\n",
    "\n",
    "# Define the grid of hyperparameters\n",
    "tune_grid <- expand.grid(\n",
    "    size = c(5, 10, 15),       # Number of neurons in the hidden layer\n",
    "    decay = c(0.0001, 0.001, 0.01, 0.1)  # Regularization parameter\n",
    ")\n",
    "\n",
    "# Define cross-validation settings\n",
    "ctrl <- trainControl(\n",
    "    method = \"cv\",\n",
    "    number = 5,                # 5-fold cross-validation\n",
    "    verboseIter = TRUE\n",
    ")\n",
    "\n",
    "# Train the neural network model with hyperparameter tuning\n",
    "set.seed(123)\n",
    "nn_model <- train(\n",
    "    Calories_Burned ~ .,\n",
    "    data = gym_train_scaled,\n",
    "    method = \"nnet\",\n",
    "    linout = TRUE,             # For regression\n",
    "    trace = FALSE,             # Disable logs\n",
    "    maxit = 1000,              # Maximum iterations\n",
    "    tuneGrid = tune_grid,\n",
    "    trControl = ctrl,\n",
    "    metric = \"RMSE\"            # Evaluation metric\n",
    ")\n",
    "\n",
    "# Display the best hyperparameters and plot the results\n",
    "print(nn_model$bestTune)\n",
    "plot(nn_model)\n"
   ]
  },
  {
   "cell_type": "code",
   "execution_count": 76,
   "id": "532f637c",
   "metadata": {
    "vscode": {
     "languageId": "r"
    }
   },
   "outputs": [
    {
     "name": "stdout",
     "output_type": "stream",
     "text": [
      "+ Fold1: size= 5, decay=1e-04 \n",
      "- Fold1: size= 5, decay=1e-04 \n",
      "+ Fold1: size=10, decay=1e-04 \n",
      "- Fold1: size=10, decay=1e-04 \n",
      "+ Fold1: size=15, decay=1e-04 \n",
      "- Fold1: size=15, decay=1e-04 \n",
      "+ Fold1: size= 5, decay=1e-03 \n",
      "- Fold1: size= 5, decay=1e-03 \n",
      "+ Fold1: size=10, decay=1e-03 \n",
      "- Fold1: size=10, decay=1e-03 \n",
      "+ Fold1: size=15, decay=1e-03 \n",
      "- Fold1: size=15, decay=1e-03 \n",
      "+ Fold1: size= 5, decay=1e-02 \n",
      "- Fold1: size= 5, decay=1e-02 \n",
      "+ Fold1: size=10, decay=1e-02 \n",
      "- Fold1: size=10, decay=1e-02 \n",
      "+ Fold1: size=15, decay=1e-02 \n",
      "- Fold1: size=15, decay=1e-02 \n",
      "+ Fold1: size= 5, decay=1e-01 \n",
      "- Fold1: size= 5, decay=1e-01 \n",
      "+ Fold1: size=10, decay=1e-01 \n",
      "- Fold1: size=10, decay=1e-01 \n",
      "+ Fold1: size=15, decay=1e-01 \n",
      "- Fold1: size=15, decay=1e-01 \n",
      "+ Fold2: size= 5, decay=1e-04 \n",
      "- Fold2: size= 5, decay=1e-04 \n",
      "+ Fold2: size=10, decay=1e-04 \n",
      "- Fold2: size=10, decay=1e-04 \n",
      "+ Fold2: size=15, decay=1e-04 \n",
      "- Fold2: size=15, decay=1e-04 \n",
      "+ Fold2: size= 5, decay=1e-03 \n",
      "- Fold2: size= 5, decay=1e-03 \n",
      "+ Fold2: size=10, decay=1e-03 \n",
      "- Fold2: size=10, decay=1e-03 \n",
      "+ Fold2: size=15, decay=1e-03 \n",
      "- Fold2: size=15, decay=1e-03 \n",
      "+ Fold2: size= 5, decay=1e-02 \n",
      "- Fold2: size= 5, decay=1e-02 \n",
      "+ Fold2: size=10, decay=1e-02 \n",
      "- Fold2: size=10, decay=1e-02 \n",
      "+ Fold2: size=15, decay=1e-02 \n",
      "- Fold2: size=15, decay=1e-02 \n",
      "+ Fold2: size= 5, decay=1e-01 \n",
      "- Fold2: size= 5, decay=1e-01 \n",
      "+ Fold2: size=10, decay=1e-01 \n",
      "- Fold2: size=10, decay=1e-01 \n",
      "+ Fold2: size=15, decay=1e-01 \n",
      "- Fold2: size=15, decay=1e-01 \n",
      "+ Fold3: size= 5, decay=1e-04 \n",
      "- Fold3: size= 5, decay=1e-04 \n",
      "+ Fold3: size=10, decay=1e-04 \n",
      "- Fold3: size=10, decay=1e-04 \n",
      "+ Fold3: size=15, decay=1e-04 \n",
      "- Fold3: size=15, decay=1e-04 \n",
      "+ Fold3: size= 5, decay=1e-03 \n",
      "- Fold3: size= 5, decay=1e-03 \n",
      "+ Fold3: size=10, decay=1e-03 \n",
      "- Fold3: size=10, decay=1e-03 \n",
      "+ Fold3: size=15, decay=1e-03 \n",
      "- Fold3: size=15, decay=1e-03 \n",
      "+ Fold3: size= 5, decay=1e-02 \n",
      "- Fold3: size= 5, decay=1e-02 \n",
      "+ Fold3: size=10, decay=1e-02 \n",
      "- Fold3: size=10, decay=1e-02 \n",
      "+ Fold3: size=15, decay=1e-02 \n",
      "- Fold3: size=15, decay=1e-02 \n",
      "+ Fold3: size= 5, decay=1e-01 \n",
      "- Fold3: size= 5, decay=1e-01 \n",
      "+ Fold3: size=10, decay=1e-01 \n",
      "- Fold3: size=10, decay=1e-01 \n",
      "+ Fold3: size=15, decay=1e-01 \n",
      "- Fold3: size=15, decay=1e-01 \n",
      "+ Fold4: size= 5, decay=1e-04 \n",
      "- Fold4: size= 5, decay=1e-04 \n",
      "+ Fold4: size=10, decay=1e-04 \n",
      "- Fold4: size=10, decay=1e-04 \n",
      "+ Fold4: size=15, decay=1e-04 \n",
      "- Fold4: size=15, decay=1e-04 \n",
      "+ Fold4: size= 5, decay=1e-03 \n",
      "- Fold4: size= 5, decay=1e-03 \n",
      "+ Fold4: size=10, decay=1e-03 \n",
      "- Fold4: size=10, decay=1e-03 \n",
      "+ Fold4: size=15, decay=1e-03 \n",
      "- Fold4: size=15, decay=1e-03 \n",
      "+ Fold4: size= 5, decay=1e-02 \n",
      "- Fold4: size= 5, decay=1e-02 \n",
      "+ Fold4: size=10, decay=1e-02 \n",
      "- Fold4: size=10, decay=1e-02 \n",
      "+ Fold4: size=15, decay=1e-02 \n",
      "- Fold4: size=15, decay=1e-02 \n",
      "+ Fold4: size= 5, decay=1e-01 \n",
      "- Fold4: size= 5, decay=1e-01 \n",
      "+ Fold4: size=10, decay=1e-01 \n",
      "- Fold4: size=10, decay=1e-01 \n",
      "+ Fold4: size=15, decay=1e-01 \n",
      "- Fold4: size=15, decay=1e-01 \n",
      "+ Fold5: size= 5, decay=1e-04 \n",
      "- Fold5: size= 5, decay=1e-04 \n",
      "+ Fold5: size=10, decay=1e-04 \n",
      "- Fold5: size=10, decay=1e-04 \n",
      "+ Fold5: size=15, decay=1e-04 \n",
      "- Fold5: size=15, decay=1e-04 \n",
      "+ Fold5: size= 5, decay=1e-03 \n",
      "- Fold5: size= 5, decay=1e-03 \n",
      "+ Fold5: size=10, decay=1e-03 \n",
      "- Fold5: size=10, decay=1e-03 \n",
      "+ Fold5: size=15, decay=1e-03 \n",
      "- Fold5: size=15, decay=1e-03 \n",
      "+ Fold5: size= 5, decay=1e-02 \n",
      "- Fold5: size= 5, decay=1e-02 \n",
      "+ Fold5: size=10, decay=1e-02 \n",
      "- Fold5: size=10, decay=1e-02 \n",
      "+ Fold5: size=15, decay=1e-02 \n",
      "- Fold5: size=15, decay=1e-02 \n",
      "+ Fold5: size= 5, decay=1e-01 \n",
      "- Fold5: size= 5, decay=1e-01 \n",
      "+ Fold5: size=10, decay=1e-01 \n",
      "- Fold5: size=10, decay=1e-01 \n",
      "+ Fold5: size=15, decay=1e-01 \n",
      "- Fold5: size=15, decay=1e-01 \n",
      "Aggregating results\n",
      "Selecting tuning parameters\n",
      "Fitting size = 5, decay = 0.1 on full training set\n",
      "  size decay\n",
      "4    5   0.1\n"
     ]
    },
    {
     "data": {
      "image/png": "[encoded data removed]",
      "text/plain": [
       "plot without title"
      ]
     },
     "metadata": {
      "image/png": {
       "height": 720,
       "width": 720
      }
     },
     "output_type": "display_data"
    }
   ],
   "source": [
    "library(caret)\n",
    "library(nnet)\n",
    "\n",
    "# Configuration de la validation croisée (5 folds)\n",
    "ctrl <- trainControl(\n",
    "  method = \"cv\",\n",
    "  number = 5,\n",
    "  verboseIter = TRUE\n",
    ")\n",
    "\n",
    "# Grille d'hyperparamètres à explorer\n",
    "tune_grid <- expand.grid(\n",
    "  size = c(5, 10, 15),       # Nombre de neurones cachés\n",
    "  decay = c(0.0001, 0.001, 0.01, 0.1)  # Force de régularisation\n",
    ")\n",
    "\n",
    "# Entraînement avec optimisation\n",
    "set.seed(123)\n",
    "model <- train(\n",
    "  Calories_Burned ~ .,\n",
    "  data = gym_train_scaled,\n",
    "  method = \"nnet\",\n",
    "  linout = TRUE,             # Pour la régression\n",
    "  trace = FALSE,             # Désactive les logs\n",
    "  maxit = 1000,              # Itérations maximales\n",
    "  tuneGrid = tune_grid,\n",
    "  trControl = ctrl,\n",
    "  metric = \"RMSE\"            # Métrique d'évaluation\n",
    ")\n",
    "\n",
    "# Affichage des résultats\n",
    "print(model$bestTune)\n",
    "plot(model)"
   ]
  },
  {
   "cell_type": "code",
   "execution_count": 92,
   "id": "6353a7b4",
   "metadata": {
    "vscode": {
     "languageId": "r"
    }
   },
   "outputs": [
    {
     "data": {
      "text/html": [
       "<table class=\"dataframe\">\n",
       "<caption>A data.frame: 12 × 8</caption>\n",
       "<thead>\n",
       "\t<tr><th></th><th scope=col>size</th><th scope=col>decay</th><th scope=col>RMSE</th><th scope=col>Rsquared</th><th scope=col>MAE</th><th scope=col>RMSESD</th><th scope=col>RsquaredSD</th><th scope=col>MAESD</th></tr>\n",
       "\t<tr><th></th><th scope=col>&lt;dbl&gt;</th><th scope=col>&lt;dbl&gt;</th><th scope=col>&lt;dbl&gt;</th><th scope=col>&lt;dbl&gt;</th><th scope=col>&lt;dbl&gt;</th><th scope=col>&lt;dbl&gt;</th><th scope=col>&lt;dbl&gt;</th><th scope=col>&lt;dbl&gt;</th></tr>\n",
       "</thead>\n",
       "<tbody>\n",
       "\t<tr><th scope=row>1</th><td> 5</td><td>1e-04</td><td>113.83218</td><td>0.8071194</td><td> 92.26653</td><td>50.87126</td><td>0.11606642</td><td>41.61250</td></tr>\n",
       "\t<tr><th scope=row>2</th><td> 5</td><td>1e-03</td><td> 90.85086</td><td>0.8631162</td><td> 72.24621</td><td>53.78057</td><td>0.11407205</td><td>43.06761</td></tr>\n",
       "\t<tr><th scope=row>3</th><td> 5</td><td>1e-02</td><td> 81.20257</td><td>0.8947792</td><td> 64.01849</td><td>47.35280</td><td>0.09619250</td><td>39.82279</td></tr>\n",
       "\t<tr><th scope=row>4</th><td> 5</td><td>1e-01</td><td> 58.22114</td><td>0.9403608</td><td> 44.28335</td><td>41.30900</td><td>0.08815511</td><td>32.49651</td></tr>\n",
       "\t<tr><th scope=row>5</th><td>10</td><td>1e-04</td><td>150.82129</td><td>0.7031016</td><td>119.66775</td><td>20.11245</td><td>0.07872371</td><td>17.23814</td></tr>\n",
       "\t<tr><th scope=row>6</th><td>10</td><td>1e-03</td><td> 94.17313</td><td>0.8538238</td><td> 75.60944</td><td>53.08351</td><td>0.11804180</td><td>43.58856</td></tr>\n",
       "\t<tr><th scope=row>7</th><td>10</td><td>1e-02</td><td>111.59180</td><td>0.8156576</td><td> 88.35732</td><td>44.83544</td><td>0.10328444</td><td>35.47179</td></tr>\n",
       "\t<tr><th scope=row>8</th><td>10</td><td>1e-01</td><td> 94.18435</td><td>0.8691801</td><td> 72.90200</td><td>39.16916</td><td>0.09144797</td><td>30.81305</td></tr>\n",
       "\t<tr><th scope=row>9</th><td>15</td><td>1e-04</td><td>132.06936</td><td>0.7561028</td><td>103.62841</td><td>39.21346</td><td>0.13659895</td><td>32.20002</td></tr>\n",
       "\t<tr><th scope=row>10</th><td>15</td><td>1e-03</td><td>101.37323</td><td>0.8640163</td><td> 78.59514</td><td>20.36709</td><td>0.05153070</td><td>16.53697</td></tr>\n",
       "\t<tr><th scope=row>11</th><td>15</td><td>1e-02</td><td>101.84083</td><td>0.8545715</td><td> 80.28213</td><td>35.66528</td><td>0.08402511</td><td>28.93080</td></tr>\n",
       "\t<tr><th scope=row>12</th><td>15</td><td>1e-01</td><td> 82.62709</td><td>0.8945826</td><td> 66.17586</td><td>40.87630</td><td>0.08855152</td><td>32.60288</td></tr>\n",
       "</tbody>\n",
       "</table>\n"
      ],
      "text/latex": [
       "A data.frame: 12 × 8\n",
       "\\begin{tabular}{r|llllllll}\n",
       "  & size & decay & RMSE & Rsquared & MAE & RMSESD & RsquaredSD & MAESD\\\\\n",
       "  & <dbl> & <dbl> & <dbl> & <dbl> & <dbl> & <dbl> & <dbl> & <dbl>\\\\\n",
       "\\hline\n",
       "\t1 &  5 & 1e-04 & 113.83218 & 0.8071194 &  92.26653 & 50.87126 & 0.11606642 & 41.61250\\\\\n",
       "\t2 &  5 & 1e-03 &  90.85086 & 0.8631162 &  72.24621 & 53.78057 & 0.11407205 & 43.06761\\\\\n",
       "\t3 &  5 & 1e-02 &  81.20257 & 0.8947792 &  64.01849 & 47.35280 & 0.09619250 & 39.82279\\\\\n",
       "\t4 &  5 & 1e-01 &  58.22114 & 0.9403608 &  44.28335 & 41.30900 & 0.08815511 & 32.49651\\\\\n",
       "\t5 & 10 & 1e-04 & 150.82129 & 0.7031016 & 119.66775 & 20.11245 & 0.07872371 & 17.23814\\\\\n",
       "\t6 & 10 & 1e-03 &  94.17313 & 0.8538238 &  75.60944 & 53.08351 & 0.11804180 & 43.58856\\\\\n",
       "\t7 & 10 & 1e-02 & 111.59180 & 0.8156576 &  88.35732 & 44.83544 & 0.10328444 & 35.47179\\\\\n",
       "\t8 & 10 & 1e-01 &  94.18435 & 0.8691801 &  72.90200 & 39.16916 & 0.09144797 & 30.81305\\\\\n",
       "\t9 & 15 & 1e-04 & 132.06936 & 0.7561028 & 103.62841 & 39.21346 & 0.13659895 & 32.20002\\\\\n",
       "\t10 & 15 & 1e-03 & 101.37323 & 0.8640163 &  78.59514 & 20.36709 & 0.05153070 & 16.53697\\\\\n",
       "\t11 & 15 & 1e-02 & 101.84083 & 0.8545715 &  80.28213 & 35.66528 & 0.08402511 & 28.93080\\\\\n",
       "\t12 & 15 & 1e-01 &  82.62709 & 0.8945826 &  66.17586 & 40.87630 & 0.08855152 & 32.60288\\\\\n",
       "\\end{tabular}\n"
      ],
      "text/markdown": [
       "\n",
       "A data.frame: 12 × 8\n",
       "\n",
       "| <!--/--> | size &lt;dbl&gt; | decay &lt;dbl&gt; | RMSE &lt;dbl&gt; | Rsquared &lt;dbl&gt; | MAE &lt;dbl&gt; | RMSESD &lt;dbl&gt; | RsquaredSD &lt;dbl&gt; | MAESD &lt;dbl&gt; |\n",
       "|---|---|---|---|---|---|---|---|---|\n",
       "| 1 |  5 | 1e-04 | 113.83218 | 0.8071194 |  92.26653 | 50.87126 | 0.11606642 | 41.61250 |\n",
       "| 2 |  5 | 1e-03 |  90.85086 | 0.8631162 |  72.24621 | 53.78057 | 0.11407205 | 43.06761 |\n",
       "| 3 |  5 | 1e-02 |  81.20257 | 0.8947792 |  64.01849 | 47.35280 | 0.09619250 | 39.82279 |\n",
       "| 4 |  5 | 1e-01 |  58.22114 | 0.9403608 |  44.28335 | 41.30900 | 0.08815511 | 32.49651 |\n",
       "| 5 | 10 | 1e-04 | 150.82129 | 0.7031016 | 119.66775 | 20.11245 | 0.07872371 | 17.23814 |\n",
       "| 6 | 10 | 1e-03 |  94.17313 | 0.8538238 |  75.60944 | 53.08351 | 0.11804180 | 43.58856 |\n",
       "| 7 | 10 | 1e-02 | 111.59180 | 0.8156576 |  88.35732 | 44.83544 | 0.10328444 | 35.47179 |\n",
       "| 8 | 10 | 1e-01 |  94.18435 | 0.8691801 |  72.90200 | 39.16916 | 0.09144797 | 30.81305 |\n",
       "| 9 | 15 | 1e-04 | 132.06936 | 0.7561028 | 103.62841 | 39.21346 | 0.13659895 | 32.20002 |\n",
       "| 10 | 15 | 1e-03 | 101.37323 | 0.8640163 |  78.59514 | 20.36709 | 0.05153070 | 16.53697 |\n",
       "| 11 | 15 | 1e-02 | 101.84083 | 0.8545715 |  80.28213 | 35.66528 | 0.08402511 | 28.93080 |\n",
       "| 12 | 15 | 1e-01 |  82.62709 | 0.8945826 |  66.17586 | 40.87630 | 0.08855152 | 32.60288 |\n",
       "\n"
      ],
      "text/plain": [
       "   size decay RMSE      Rsquared  MAE       RMSESD   RsquaredSD MAESD   \n",
       "1   5   1e-04 113.83218 0.8071194  92.26653 50.87126 0.11606642 41.61250\n",
       "2   5   1e-03  90.85086 0.8631162  72.24621 53.78057 0.11407205 43.06761\n",
       "3   5   1e-02  81.20257 0.8947792  64.01849 47.35280 0.09619250 39.82279\n",
       "4   5   1e-01  58.22114 0.9403608  44.28335 41.30900 0.08815511 32.49651\n",
       "5  10   1e-04 150.82129 0.7031016 119.66775 20.11245 0.07872371 17.23814\n",
       "6  10   1e-03  94.17313 0.8538238  75.60944 53.08351 0.11804180 43.58856\n",
       "7  10   1e-02 111.59180 0.8156576  88.35732 44.83544 0.10328444 35.47179\n",
       "8  10   1e-01  94.18435 0.8691801  72.90200 39.16916 0.09144797 30.81305\n",
       "9  15   1e-04 132.06936 0.7561028 103.62841 39.21346 0.13659895 32.20002\n",
       "10 15   1e-03 101.37323 0.8640163  78.59514 20.36709 0.05153070 16.53697\n",
       "11 15   1e-02 101.84083 0.8545715  80.28213 35.66528 0.08402511 28.93080\n",
       "12 15   1e-01  82.62709 0.8945826  66.17586 40.87630 0.08855152 32.60288"
      ]
     },
     "metadata": {},
     "output_type": "display_data"
    }
   ],
   "source": [
    "model$results"
   ]
  },
  {
   "cell_type": "code",
   "execution_count": 77,
   "id": "04701dc1",
   "metadata": {
    "vscode": {
     "languageId": "r"
    }
   },
   "outputs": [
    {
     "name": "stdout",
     "output_type": "stream",
     "text": [
      "# weights:  101\n"
     ]
    },
    {
     "name": "stdout",
     "output_type": "stream",
     "text": [
      "initial  value 700917355.161088 \n",
      "iter  10 value 24466234.451607\n",
      "iter  20 value 19516927.070375\n",
      "iter  30 value 19080370.669872\n",
      "iter  40 value 18842591.085422\n",
      "iter  50 value 18808065.257935\n",
      "iter  60 value 18792138.569982\n",
      "iter  70 value 18473292.941956\n",
      "iter  80 value 18332011.926308\n",
      "iter  90 value 16227500.132115\n",
      "iter 100 value 16130060.589624\n",
      "iter 110 value 16001870.172116\n",
      "iter 120 value 14518402.134364\n",
      "iter 130 value 14378959.523258\n",
      "iter 140 value 14201118.872623\n",
      "iter 150 value 14060933.486332\n",
      "iter 160 value 14012290.304384\n",
      "iter 170 value 13991801.539527\n",
      "iter 180 value 13984961.579881\n",
      "iter 190 value 13983792.438164\n",
      "iter 200 value 13980129.560916\n",
      "iter 210 value 13943986.813688\n",
      "iter 220 value 13889562.248125\n",
      "iter 230 value 13883129.459507\n",
      "iter 240 value 13867532.016295\n",
      "iter 250 value 13865975.881845\n",
      "iter 260 value 13358231.925773\n",
      "iter 270 value 13108686.771652\n",
      "iter 280 value 12532186.722009\n",
      "iter 290 value 12402907.698626\n",
      "iter 300 value 12332370.840613\n",
      "iter 310 value 12321825.989065\n",
      "iter 320 value 12312578.862963\n",
      "iter 330 value 12282258.832268\n",
      "iter 340 value 12193036.671273\n",
      "iter 350 value 12102213.553780\n",
      "iter 360 value 12076434.068620\n",
      "iter 370 value 12064981.621112\n",
      "iter 380 value 12006332.054090\n",
      "iter 390 value 11914448.722769\n",
      "iter 400 value 11904267.618085\n",
      "iter 410 value 11873325.729943\n",
      "iter 420 value 11834162.782232\n",
      "iter 430 value 11821399.093742\n",
      "iter 440 value 11815913.190447\n",
      "iter 450 value 11812508.274856\n",
      "iter 460 value 11795644.822888\n",
      "iter 470 value 10955860.015335\n",
      "iter 480 value 10534174.413865\n",
      "iter 490 value 10353303.931949\n",
      "iter 500 value 9981833.952510\n",
      "iter 510 value 8710384.135623\n",
      "iter 520 value 8598028.314899\n",
      "iter 530 value 8253074.234303\n",
      "iter 540 value 7755931.259390\n",
      "iter 550 value 7620191.750165\n",
      "iter 560 value 6121865.635320\n",
      "iter 570 value 3952218.401375\n",
      "iter 580 value 3741371.736119\n",
      "iter 590 value 3140003.644128\n",
      "iter 600 value 2565877.894442\n",
      "iter 610 value 2538972.054246\n",
      "iter 620 value 2390137.293865\n",
      "iter 630 value 1918588.559408\n",
      "iter 640 value 1709657.809580\n",
      "iter 650 value 1643641.760758\n",
      "iter 660 value 1477762.838146\n",
      "iter 670 value 1260280.757958\n",
      "iter 680 value 1106862.392193\n",
      "iter 690 value 1009267.543383\n",
      "iter 700 value 976072.374244\n",
      "iter 710 value 954447.881309\n",
      "iter 720 value 936540.077382\n",
      "iter 730 value 935819.257524\n",
      "iter 740 value 935651.578846\n",
      "iter 750 value 931911.437587\n",
      "iter 760 value 924108.500827\n",
      "iter 770 value 916735.552149\n",
      "iter 780 value 906289.296304\n",
      "iter 790 value 888512.857266\n",
      "iter 800 value 852942.848877\n",
      "iter 810 value 828625.806685\n",
      "iter 820 value 775191.554964\n",
      "iter 830 value 743635.363434\n",
      "iter 840 value 710507.189041\n",
      "iter 850 value 695617.496517\n",
      "iter 860 value 688071.658244\n",
      "iter 870 value 683360.378974\n",
      "iter 880 value 681208.103795\n",
      "iter 890 value 678366.015447\n",
      "iter 900 value 677370.617516\n",
      "iter 910 value 675723.385184\n",
      "iter 920 value 672741.979072\n",
      "iter 930 value 672521.843576\n",
      "iter 940 value 672390.787520\n",
      "iter 950 value 671651.315149\n",
      "iter 960 value 669922.268653\n",
      "iter 970 value 669352.745661\n",
      "iter 980 value 667371.277108\n",
      "iter 990 value 666451.612178\n",
      "iter1000 value 665538.393415\n",
      "final  value 665538.393415 \n",
      "stopped after 1000 iterations\n"
     ]
    },
    {
     "data": {
      "text/plain": [
       "a 18-5-1 network with 101 weights\n",
       "options were - linear output units  decay=0.1\n",
       "  b->h1  i1->h1  i2->h1  i3->h1  i4->h1  i5->h1  i6->h1  i7->h1  i8->h1  i9->h1 \n",
       "   1.33   -0.13    0.22   -0.01    0.00    0.03    0.29   -0.01    1.22   -0.01 \n",
       "i10->h1 i11->h1 i12->h1 i13->h1 i14->h1 i15->h1 i16->h1 i17->h1 i18->h1 \n",
       "  -0.05   -0.01   -0.01    0.02    0.02    0.06   -0.07    0.00   -0.05 \n",
       "  b->h2  i1->h2  i2->h2  i3->h2  i4->h2  i5->h2  i6->h2  i7->h2  i8->h2  i9->h2 \n",
       " -65.51   -1.47   -0.43  -19.63    7.10  -27.84  -11.46  -17.12   12.91  -36.77 \n",
       "i10->h2 i11->h2 i12->h2 i13->h2 i14->h2 i15->h2 i16->h2 i17->h2 i18->h2 \n",
       " -26.84  -35.93  -13.53   55.10  -10.93   35.39   14.81   85.16   53.18 \n",
       "  b->h3  i1->h3  i2->h3  i3->h3  i4->h3  i5->h3  i6->h3  i7->h3  i8->h3  i9->h3 \n",
       "  23.89   24.12  -17.32   17.87   -4.90  -49.72  -44.21   10.55   15.54   -6.59 \n",
       "i10->h3 i11->h3 i12->h3 i13->h3 i14->h3 i15->h3 i16->h3 i17->h3 i18->h3 \n",
       "  11.17   -4.45   54.01   13.94  -38.62  -39.80  -18.81   26.59   24.99 \n",
       "  b->h4  i1->h4  i2->h4  i3->h4  i4->h4  i5->h4  i6->h4  i7->h4  i8->h4  i9->h4 \n",
       "  -2.43   -0.27    0.68   -0.04    0.03    0.00    0.56   -0.02    1.13   -0.09 \n",
       "i10->h4 i11->h4 i12->h4 i13->h4 i14->h4 i15->h4 i16->h4 i17->h4 i18->h4 \n",
       "  -0.01   -0.11   -0.06   -0.02   -0.04    0.02    0.19    0.08    0.04 \n",
       "  b->h5  i1->h5  i2->h5  i3->h5  i4->h5  i5->h5  i6->h5  i7->h5  i8->h5  i9->h5 \n",
       " -69.90   -8.52  -16.82   27.83  -14.56  -11.23   19.24   17.09   22.41   31.21 \n",
       "i10->h5 i11->h5 i12->h5 i13->h5 i14->h5 i15->h5 i16->h5 i17->h5 i18->h5 \n",
       "  15.44   15.85   22.17   11.40   33.05   31.28  -44.64  -26.55  -26.33 \n",
       "  b->o  h1->o  h2->o  h3->o  h4->o  h5->o \n",
       "214.74 716.66 -22.55  13.56 893.70  38.16 "
      ]
     },
     "metadata": {},
     "output_type": "display_data"
    }
   ],
   "source": [
    "library(MASS)\n",
    "library(nnet)\n",
    "# apprentissage\n",
    "# attention au paramètre linout dans le cas de la régression\n",
    "nnet.reg <- nnet(Calories_Burned ~ ., data = gym_train_scaled, size = 15, decay = 0.1, linout = TRUE, maxit = 1000)\n",
    "summary(nnet.reg)"
   ]
  },
  {
   "cell_type": "markdown",
   "id": "ef396aa9",
   "metadata": {},
   "source": [
    "Voici une interprétation des résultats obtenus sur la grille de réseaux de neurones (via `nnet` ou similaire), où l’on fait varier :\n",
    "\n",
    "- **size** : nombre de neurones dans la couche cachée  \n",
    "- **decay** : coefficient de régularisation (penalty L₂ sur les poids)\n",
    "\n",
    "| size | decay  | RMSE    | R²       | MAE     | RMSESD  | R²SD    | MAESD  |\n",
    "|------|--------|---------|----------|---------|---------|---------|--------|\n",
    "| 5    | 1e-4   | 113.8   | 0.807    |  92.3   | 50.9    | 0.116   | 41.6   |\n",
    "| 5    | 1e-3   |  90.9   | 0.863    |  72.2   | 53.8    | 0.114   | 43.1   |\n",
    "| 5    | 1e-2   |  81.2   | 0.895    |  64.0   | 47.4    | 0.096   | 39.8   |\n",
    "| 5    | 1e-1   | **58.2**| **0.940**| **44.3**| 41.3    | 0.088   | 32.5   |\n",
    "| 10   | 1e-4   | 150.8   | 0.703    | 119.7   | 20.1    | 0.079   | 17.2   |\n",
    "| 10   | 1e-3   |  94.2   | 0.854    |  75.6   | 53.1    | 0.118   | 43.6   |\n",
    "| 10   | 1e-2   | 111.6   | 0.816    |  88.4   | 44.8    | 0.103   | 35.5   |\n",
    "| 10   | 1e-1   |  94.2   | 0.869    |  72.9   | 39.2    | 0.091   | 30.8   |\n",
    "| 15   | 1e-4   | 132.1   | 0.756    | 103.6   | 39.2    | 0.137   | 32.2   |\n",
    "| 15   | 1e-3   | 101.4   | 0.864    |  78.6   | 20.4    | 0.052   | 16.5   |\n",
    "| 15   | 1e-2   | 101.8   | 0.855    |  80.3   | 35.7    | 0.084   | 28.9   |\n",
    "| 15   | 1e-1   |  82.6   | 0.895    |  66.2   | 40.9    | 0.089   | 32.6   |\n",
    "\n",
    "---\n",
    "\n",
    "### 1. Choix optimal de l’hyperparamètre\n",
    "- **Meilleur couple (size, decay)** : **5 neurones** et **decay = 0,1**  \n",
    "- **Performance associée** :  \n",
    "  - **RMSE = 58,2** (le plus faible de la grille)  \n",
    "  - **R² = 0,94** (le plus élevé)  \n",
    "  - **MAE = 44,3**  \n",
    "\n",
    "C’est donc un **modèle compact** (peu de neurones) avec une **régularisation modérée** qui offre la meilleure généralisation sur nos données.\n",
    "\n",
    "---\n",
    "\n",
    "### 2. Effets de la régularisation (decay)\n",
    "- **Decay très faible** (1e-4) → sous-régularisation → **RMSE élevé** (>100), **R² bas** (~0,75–0,80).  \n",
    "- **Augmentation progressive de decay** → diminution du RMSE et montée du R² jusqu’à un optimum à 0,1.  \n",
    "- **Au-delà**, un decay trop fort (pour size 10 ou 15) ne fait pas mieux que le pic autour de 5×0,1.\n",
    "\n",
    "---\n",
    "\n",
    "### 3. Impact du nombre de neurones (size)\n",
    "- **Réseau très petit** (size = 5) + bon decay : excellente performance.  \n",
    "- **Réseaux plus gros** (size = 10 ou 15) n’apportent **pas** d’amélioration nette :  \n",
    "  - Ils nécessitent souvent un réglage de decay fin, mais n’atteignent jamais les niveaux de RMSE/R² du petit réseau.  \n",
    "  - Risque d’**overfitting** plus élevé (variabilité inter-fold plus importante).\n",
    "\n",
    "---\n",
    "\n",
    "### 4. Fiabilité & stabilité\n",
    "- La **SD** des métriques (RMSESD, R²SD) reste raisonnable pour le couple optimal, témoignant d’une **performance stable** à travers les folds.\n",
    "\n",
    "---\n",
    "\n",
    "## Conclusion\n",
    "\n",
    "Pour ce jeu de données :\n",
    "- **Nous allons préférer un réseau à 5 neurones** avec **decay = 0,1**, qui minimise l’erreur (RMSE ≃ 58) et maximise l’explication de variance (R² ≃ 0,94).\n",
    "- **Ni trop de neurones**, ni **trop peu de régularisation** : l’équilibre trouvé évite à la fois sous- et sur-apprentissage.\n",
    "- Les architectures plus complexes (size ≥ 10) n’apportent pas de gain suffisant pour justifier l’augmentation de la complexité."
   ]
  },
  {
   "cell_type": "markdown",
   "id": "8e8cf737",
   "metadata": {},
   "source": []
  }
 ],
 "metadata": {
  "kernelspec": {
   "display_name": "R",
   "language": "R",
   "name": "ir"
  },
  "language_info": {
   "codemirror_mode": "r",
   "file_extension": ".r",
   "mimetype": "text/x-r-source",
   "name": "R",
   "pygments_lexer": "r",
   "version": "4.3.2"
  }
 },
 "nbformat": 4,
 "nbformat_minor": 5
}
