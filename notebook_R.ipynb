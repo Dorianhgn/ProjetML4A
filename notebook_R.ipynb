{
 "cells": [
  {
   "cell_type": "markdown",
   "metadata": {},
   "source": [
    "Projet - Analyse explo"
   ]
  },
  {
   "cell_type": "code",
   "execution_count": null,
   "metadata": {
    "vscode": {
     "languageId": "r"
    }
   },
   "outputs": [],
   "source": [
    "# Chargement des librairies nécessaires\n",
    "library(ggplot2)\n",
    "library(tidyverse)\n",
    "library(gridExtra)\n",
    "library(GGally)\n",
    "library(plotly)\n",
    "library(corrplot)\n",
    "library(reshape2)\n",
    "library(FactoMineR) \n",
    "library(factoextra)\n",
    "library(glmnet) \n",
    "library(ggfortify)\n",
    "library(pROC)\n",
    "library(ROCR)\n",
    "library(repr)"
   ]
  },
  {
   "cell_type": "code",
   "execution_count": null,
   "metadata": {
    "vscode": {
     "languageId": "r"
    }
   },
   "outputs": [],
   "source": [
    "options(repr.plot.width=15, repr.plot.height=8)\n"
   ]
  },
  {
   "cell_type": "code",
   "execution_count": null,
   "metadata": {
    "vscode": {
     "languageId": "r"
    }
   },
   "outputs": [],
   "source": [
    "# Lecture des données\n",
    "# path=\"http://www.math.univ-toulouse.fr/~besse/Wikistat/data/\"\n",
    "path <- \"\"\n",
    "gym <- read.table(paste(path, \"gym_members_exercise_tracking.csv\", sep = \"\"),\n",
    "                    sep = \",\", header = TRUE)\n",
    "# Premières lignes du jeu de données\n",
    "head(gym)\n",
    "# Vérification du contenu\n",
    "summary(gym)"
   ]
  },
  {
   "cell_type": "code",
   "execution_count": null,
   "metadata": {
    "vscode": {
     "languageId": "r"
    }
   },
   "outputs": [],
   "source": [
    "gym[,'Gender'] <- as.factor(gym[,'Gender'])\n",
    "gym[,'Workout_Type'] <- as.factor(gym[,'Workout_Type'])\n",
    "gym[,'Experience_Level'] <- as.factor(gym[,'Experience_Level'])\n",
    "gym[,'Workout_Frequency..days.week.'] <- as.factor(gym[,'Workout_Frequency..days.week.'])"
   ]
  },
  {
   "cell_type": "code",
   "execution_count": null,
   "metadata": {
    "vscode": {
     "languageId": "r"
    }
   },
   "outputs": [],
   "source": [
    "summary(gym)"
   ]
  },
  {
   "cell_type": "code",
   "execution_count": null,
   "metadata": {
    "vscode": {
     "languageId": "r"
    }
   },
   "outputs": [],
   "source": [
    "# Age\tGender\tWeight..kg.\tHeight..m.\tMax_BPM\tAvg_BPM\tResting_BPM\tSession_Duration..hours.\tCalories_Burned\tWorkout_Type\tFat_Percentage\tWater_Intake..liters.\tWorkout_Frequency..days.week.\tExperience_Level\tBMI\n",
    "options(repr.plot.width=20, repr.plot.height=10)\n",
    "\n",
    "g1<- ggplot(gym, aes(Age)) + geom_histogram( fill = \"blue\", color = \"black\") + labs(title = \"Histogramme de l'âge des membres du gym\", x = \"Age\", y = \"Nombre de membres\")\n",
    "g2<- ggplot(gym, aes(Weight..kg.)) + geom_histogram( fill = \"blue\", color = \"black\") + labs(title = \"Histogramme du poids des membres du gym\", x = \"Poids\", y = \"Nombre de membres\")\n",
    "g3<- ggplot(gym, aes(Height..m.)) + geom_histogram(fill = \"blue\", color = \"black\") + labs(title = \"Histogramme de la taille des membres du gym\", x = \"Taille\", y = \"Nombre de membres\")\n",
    "g4 <- ggplot(gym, aes(Max_BPM)) + geom_histogram(fill = \"blue\", color = \"black\") + labs(title = \"Histogramme du BPM max des membres du gym\", x = \"BPM max\", y = \"Nombre de membres\")\n",
    "g5 <- ggplot(gym, aes(Avg_BPM)) + geom_histogram(fill = \"blue\", color = \"black\") + labs(title = \"Histogramme du BPM moyen des membres du gym\", x = \"BPM moyen\", y = \"Nombre de membres\")\n",
    "g6 <- ggplot(gym, aes(Resting_BPM)) + geom_histogram(bins=15, fill = \"blue\", color = \"black\") + labs(title = \"Histogramme du BPM de repos des membres du gym\", x = \"BPM de repos\", y = \"Nombre de membres\")\n",
    "g7 <- ggplot(gym, aes(Session_Duration..hours.)) + geom_histogram( fill = \"blue\", color = \"black\") + labs(title = \"Histogramme de la durée des sessions des membres du gym\", x = \"Durée de session\", y = \"Nombre de membres\")\n",
    "g8 <- ggplot(gym, aes(Calories_Burned)) + geom_histogram(fill = \"blue\", color = \"black\") + labs(title = \"Histogramme des calories brûlées par les membres du gym\", x = \"Calories brûlées\", y = \"Nombre de membres\")\n",
    "g9 <- ggplot(gym, aes(Fat_Percentage)) + geom_histogram(fill = \"blue\", color = \"black\") + labs(title = \"Histogramme du pourcentage de graisse des membres du gym\", x = \"Pourcentage de graisse\", y = \"Nombre de membres\")\n",
    "g10 <- ggplot(gym, aes(Water_Intake..liters.)) + geom_histogram(bins=10, fill = \"red\", color = \"black\") + labs(title = \"Histogramme de la consommation d'eau des membres du gym\", x = \"Consommation d'eau\", y = \"Nombre de membres\")\n",
    "g12 <- ggplot(gym, aes(BMI)) + geom_histogram( fill = \"blue\", color = \"black\") + labs(title = \"Histogramme de l'IMC des membres du gym\", x = \"IMC\", y = \"Nombre de membres\")\n",
    "\n",
    "grid.arrange(g1, g2, g3, g4, g5, g6, g7, g8, g9, g10, g12, ncol = 4)\n",
    "rm(g1, g2, g3, g4, g5, g6, g7, g8, g9, g10,  g12)"
   ]
  },
  {
   "cell_type": "markdown",
   "metadata": {},
   "source": [
    "## Transformation de variables"
   ]
  },
  {
   "cell_type": "code",
   "execution_count": null,
   "metadata": {
    "vscode": {
     "languageId": "r"
    }
   },
   "outputs": [],
   "source": [
    "gym[, \"SBMI\"] <- sqrt(gym[,\"BMI\"])\n",
    "gym[, \"LBMI\"] <- log(gym[,\"BMI\"])\n",
    "gym[, \"LWeight\"] <- log(gym[,\"Weight..kg.\"])\n",
    "gym[, \"SFat_Percentage\"] <- sqrt(gym[,\"Fat_Percentage\"])"
   ]
  },
  {
   "cell_type": "code",
   "execution_count": null,
   "metadata": {
    "vscode": {
     "languageId": "r"
    }
   },
   "outputs": [],
   "source": [
    "# Tracer les histogrammes de IMC Weight..kg. Fat_Percentage et les transformations\n",
    "options(repr.plot.width=20, repr.plot.height=10)\n",
    "g1 <- ggplot(gym, aes(BMI)) + geom_histogram(fill = \"blue\", color = \"black\") + labs(title = \"Histogramme de l'IMC des membres du gym\", x = \"IMC\", y = \"Nombre de membres\")\n",
    "g2 <- ggplot(gym, aes(SBMI)) + geom_histogram(fill = \"blue\", color = \"black\") + labs(title = \"Histogramme de la racine carrée de l'IMC des membres du gym\", x = \"Racine carrée de l'IMC\", y = \"Nombre de membres\")\n",
    "g3 <- ggplot(gym, aes(LBMI)) + geom_histogram(fill = \"blue\", color = \"black\") + labs(title = \"Histogramme du logarithme de l'IMC des membres du gym\", x = \"Logarithme de l'IMC\", y = \"Nombre de membres\")\n",
    "g4 <- ggplot(gym, aes(Weight..kg.)) + geom_histogram(fill = \"blue\", color = \"black\") + labs(title = \"Histogramme du poids des membres du gym\", x = \"Poids\", y = \"Nombre de membres\")\n",
    "g5 <- ggplot(gym, aes(LWeight)) + geom_histogram(fill = \"blue\", color = \"black\") + labs(title = \"Histogramme de la racine carrée du poids des membres du gym\", x = \"Logarithme du poids\", y = \"Nombre de membres\")\n",
    "g6 <- ggplot(gym, aes(Fat_Percentage)) + geom_histogram(fill = \"blue\", color = \"black\") + labs(title = \"Histogramme du pourcentage de graisse des membres du gym\", x = \"Pourcentage de graisse\", y = \"Nombre de membres\")\n",
    "g7 <- ggplot(gym, aes(SFat_Percentage)) + geom_histogram(fill = \"blue\", color = \"black\") + labs(title = \"Histogramme de la racine carrée du pourcentage de graisse des membres du gym\", x = \"Racine carrée du pourcentage de graisse\", y = \"Nombre de membres\")\n",
    "\n",
    "grid.arrange(g1, g2, g3, g4, g5, g6, g7, ncol = 4)\n",
    "rm(g1, g2, g3, g4, g5, g6, g7)\n"
   ]
  },
  {
   "cell_type": "code",
   "execution_count": null,
   "metadata": {
    "vscode": {
     "languageId": "r"
    }
   },
   "outputs": [],
   "source": [
    "gym[, \"Weight..kg.\"] <- log(gym[,\"Weight..kg.\"])\n",
    "gym[, \"BMI\"] <- log(gym[,\"BMI\"])\n",
    "\n",
    "# renome les variables Weight..kg. et BMI en LWeight et LBMI\n",
    "names(gym)[names(gym) == \"Weight..kg.\"] <- \"LWeight\"\n",
    "names(gym)[names(gym) == \"BMI\"] <- \"LBMI\"\n",
    "\n",
    "# supprimer les colonnes 16 à 19 \n",
    "gym <- gym[, -c(16:20)]"
   ]
  },
  {
   "cell_type": "code",
   "execution_count": null,
   "metadata": {
    "vscode": {
     "languageId": "r"
    }
   },
   "outputs": [],
   "source": [
    "summary(gym)"
   ]
  },
  {
   "cell_type": "markdown",
   "metadata": {},
   "source": [
    "## Variables qualitatives"
   ]
  },
  {
   "cell_type": "code",
   "execution_count": null,
   "metadata": {
    "vscode": {
     "languageId": "r"
    }
   },
   "outputs": [],
   "source": [
    "# Générer des barplots pour les variables qualitatives\n",
    "q1 <- ggplot(gym, aes(x = Gender)) +\n",
    "    geom_bar(fill = \"lightblue\", color = \"darkblue\") +\n",
    "    labs(title = \"Barplot Genre\", x = \"Genre\", y = \"Effectif\")\n",
    "\n",
    "q2 <- ggplot(gym, aes(x = Workout_Type)) +\n",
    "    geom_bar(fill = \"lightblue\", color = \"darkblue\") +\n",
    "    labs(title = \"Barplot Type d'entraînement\", x = \"Type d'entraînement\", y = \"Effectif\")\n",
    "\n",
    "q3 <- ggplot(gym, aes(x = Experience_Level)) +\n",
    "    geom_bar(fill = \"lightblue\", color = \"darkblue\") +\n",
    "    labs(title = \"Barplot Niveau d'expérience\", x = \"Niveau d'expérience\", y = \"Effectif\")\n",
    "\n",
    "q4 <- ggplot(gym, aes(x = Workout_Frequency..days.week.)) +\n",
    "    geom_bar(fill = \"lightblue\", color = \"darkblue\") +\n",
    "    labs(title = \"Barplot Fréquence d'entraînement\", x = \"Jours par semaine\", y = \"Effectif\")\n",
    "\n",
    "grid.arrange(q1, q2, q3, q4, ncol = 2)\n",
    "\n",
    "rm(q1, q2, q3, q4)\n"
   ]
  },
  {
   "cell_type": "code",
   "execution_count": null,
   "metadata": {
    "vscode": {
     "languageId": "r"
    }
   },
   "outputs": [],
   "source": [
    "# Générer des mosaic plot pour les variables qualitatives\n",
    "\n",
    "mosaicplot(table(gym$Gender, gym$Workout_Type), main = \"Mosaic plot Genre x Type d'entraînement\", color = c(\"lightblue\", \"gold\"))\n",
    "mosaicplot(table(gym$Gender, gym$Experience_Level), main = \"Mosaic plot Genre x Niveau d'expérience\", color = c(\"lightblue\", \"gold\"))\n",
    "mosaicplot(table(gym$Gender, gym$Workout_Frequency..days.week.), main = \"Mosaic plot Genre x Fréquence d'entraînement\", color = c(\"lightblue\", \"gold\"))\n"
   ]
  },
  {
   "cell_type": "code",
   "execution_count": null,
   "metadata": {
    "vscode": {
     "languageId": "r"
    }
   },
   "outputs": [],
   "source": [
    "# selectionner les variables quantitatives\n",
    "gym_quanti = gym %>% select (Age, LWeight, Height..m., Max_BPM, Avg_BPM, Resting_BPM, Session_Duration..hours., Calories_Burned, Fat_Percentage, Water_Intake..liters., LBMI)"
   ]
  },
  {
   "cell_type": "code",
   "execution_count": null,
   "metadata": {
    "vscode": {
     "languageId": "r"
    }
   },
   "outputs": [],
   "source": [
    "# ggpairs(gym_quanti)"
   ]
  },
  {
   "cell_type": "code",
   "execution_count": null,
   "metadata": {
    "vscode": {
     "languageId": "r"
    }
   },
   "outputs": [],
   "source": [
    "corrplot(cor(gym_quanti), method = \"ellipse\")"
   ]
  },
  {
   "cell_type": "markdown",
   "metadata": {},
   "source": [
    "## ACP"
   ]
  },
  {
   "cell_type": "code",
   "execution_count": null,
   "metadata": {
    "vscode": {
     "languageId": "r"
    }
   },
   "outputs": [],
   "source": [
    "# acp <- PCA(gym[, c(1, 3:9, 11:12, 15)], scale.unit = TRUE, graph = FALSE, quali.sup = 2, quanti.sup = 1, ncp = 5)\n",
    "\n",
    "acp <- PCA(gym, scale.unit = TRUE, graph = FALSE, quali.sup = c(2, 10, 13, 14) , quanti.sup = 1, ncp = 5)\n",
    "\n",
    "# ACP réduite\n",
    "\n",
    "# Décroissance des valeurs propres\n",
    "library(factoextra)\n",
    "g1<-fviz_eig(acp, addlabels = TRUE)\n",
    "library(reshape2)\n",
    "g2<-ggplot(melt(acp$ind$coord),aes(x=Var2,y=value))+\n",
    "  geom_boxplot()+\n",
    "  xlab(\"\")\n",
    "grid.arrange(g1,g2,ncol=2)\n",
    "\n",
    "library(corrplot)\n",
    "corrplot(acp$var$cor, is.corr=TRUE,method=\"ellipse\")"
   ]
  },
  {
   "cell_type": "code",
   "execution_count": null,
   "metadata": {
    "vscode": {
     "languageId": "r"
    }
   },
   "outputs": [],
   "source": [
    "fviz_pca_var(acp)\n",
    "fviz_pca_ind(acp,col.ind=\"contrib\",label=\"true\",gradient.cols = c(\"white\", \"deepskyblue3\", \"red\" ))\n",
    "fviz_pca_var(acp,axes=c(1,3))\n",
    "fviz_pca_ind(acp,col.ind=\"contrib\",label=\"none\",gradient.cols = c(\"white\", \"#2E9FDF\", \"#FC4E07\" ),axes=c(1,3))"
   ]
  },
  {
   "cell_type": "code",
   "execution_count": null,
   "metadata": {
    "vscode": {
     "languageId": "r"
    }
   },
   "outputs": [],
   "source": [
    "fviz_pca_ind(acp, label=\"none\", habillage = 14, axes=c(1,2))\n",
    "fviz_pca_ind(acp, label=\"none\", habillage = 14, axes=c(1,3))\n",
    "fviz_pca_ind(acp, label=\"none\", habillage = 14, axes=c(2,3))"
   ]
  },
  {
   "cell_type": "code",
   "execution_count": null,
   "metadata": {
    "vscode": {
     "languageId": "r"
    }
   },
   "outputs": [],
   "source": [
    "# Linear Discriminant Analysis\n",
    "# Let's use Experience_Level as the target variable\n",
    "library(MASS)\n",
    "\n",
    "# Create a dataframe with the quantitative variables and the target variable\n",
    "gym_lda_data <- cbind(gym_quanti, Experience_Level = gym$Experience_Level)\n",
    "\n",
    "# Perform LDA\n",
    "lda_result <- lda(Experience_Level ~ ., data = gym_lda_data)\n",
    "\n",
    "# Summary of the LDA model\n",
    "lda_result$scaling\n",
    "\n",
    "# Plot the LDA results\n",
    "plot_lda <- plot(lda_result)\n",
    "\n",
    "# Create better visualization with ggplot2\n",
    "lda_pred <- predict(lda_result, gym_lda_data)\n",
    "lda_df <- data.frame(\n",
    "    LD1 = lda_pred$x[,1],\n",
    "    LD2 = lda_pred$x[,2],\n",
    "    Experience_Level = gym_lda_data$Experience_Level\n",
    ")\n",
    "\n",
    "# Visualize the LDA results\n",
    "ggplot(lda_df, aes(x = LD1, y = LD2, color = Experience_Level)) +\n",
    "    geom_point(size = 3, alpha = 0.7) +\n",
    "    stat_ellipse() +\n",
    "    labs(title = \"LDA: Discrimination par niveau d'expérience\",\n",
    "             x = \"Première discriminante\",\n",
    "             y = \"Deuxième discriminante\") +\n",
    "    theme_minimal()\n"
   ]
  },
  {
   "cell_type": "code",
   "execution_count": null,
   "metadata": {
    "vscode": {
     "languageId": "r"
    }
   },
   "outputs": [],
   "source": []
  }
 ],
 "metadata": {
  "kernelspec": {
   "display_name": "R",
   "language": "R",
   "name": "ir"
  },
  "language_info": {
   "codemirror_mode": "r",
   "file_extension": ".r",
   "mimetype": "text/x-r-source",
   "name": "R",
   "pygments_lexer": "r",
   "version": "4.4.1"
  }
 },
 "nbformat": 4,
 "nbformat_minor": 2
}
